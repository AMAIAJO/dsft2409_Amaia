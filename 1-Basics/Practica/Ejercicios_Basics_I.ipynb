{
 "cells": [
  {
   "cell_type": "markdown",
   "metadata": {},
   "source": [
    "![imagen](./img/ejercicios.png)"
   ]
  },
  {
   "cell_type": "markdown",
   "metadata": {},
   "source": [
    "# Ejercicios Python Basics I"
   ]
  },
  {
   "cell_type": "markdown",
   "metadata": {},
   "source": [
    "## Ejercicio 0\n",
    "Imprime por pantalla esta cita con el siguiente formato\n",
    "\n",
    "![imagen](./img/frase_Einstein.PNG)"
   ]
  },
  {
   "cell_type": "markdown",
   "metadata": {},
   "source": [
    "> ¿Por qué esta magnífica tecnología científica, que ahorra trabajo y nos hace la vida mas fácil, nos aporta tan poca felicidad?\n",
    ">\n",
    "> La respuesta es esta, simplemente: porque aún no hemos aprendido a usarla con tino.\n",
    ">\n",
    "> \"Albert Einstein\"\n",
    "\n"
   ]
  },
  {
   "cell_type": "markdown",
   "metadata": {},
   "source": [
    "## Ejercicio 1\n",
    "1. Escribe el nombre de la calle de tu domicilio en una variable\n",
    "2. Escribe el numero de la calle en otra\n",
    "3. Ciudad en una tercera\n",
    "4. Codigo postal en la cuarta variable\n",
    "5. Imprime las 4 variables concatenadas por pantalla\n",
    "6. Crea una quinta variable que concatene todas ellas\n",
    "7. Imprímela por pantalla"
   ]
  },
  {
   "cell_type": "code",
   "execution_count": 26,
   "metadata": {},
   "outputs": [],
   "source": [
    "# \"15\" > \"5\""
   ]
  },
  {
   "cell_type": "code",
   "execution_count": 27,
   "metadata": {},
   "outputs": [
    {
     "name": "stdout",
     "output_type": "stream",
     "text": [
      "('egetiagauribarri', '1', 'etxebarri', '48450')\n",
      "('egetiagauribarri', '1', 'etxebarri', '48450') 1\n"
     ]
    }
   ],
   "source": [
    "calle = \"egetiagauribarri\"\n",
    "numero = 1\n",
    "cuidad = \"etxebarri\"\n",
    "cp = 48450\n",
    "piso = 1\n",
    "dir_completa = (calle , str(numero) , cuidad , str(cp))\n",
    "print(dir_completa)\n",
    "print(dir_completa,str(piso))\n"
   ]
  },
  {
   "cell_type": "code",
   "execution_count": null,
   "metadata": {},
   "outputs": [],
   "source": []
  },
  {
   "cell_type": "code",
   "execution_count": null,
   "metadata": {},
   "outputs": [],
   "source": []
  },
  {
   "cell_type": "markdown",
   "metadata": {},
   "source": [
    "## Ejercicio 2\n",
    "Repite el ejercicio 1, pero pidiendo estos datos al usuario mediante un input(), imprimiendo a continuación la dirección completa"
   ]
  },
  {
   "cell_type": "code",
   "execution_count": 28,
   "metadata": {},
   "outputs": [
    {
     "name": "stdout",
     "output_type": "stream",
     "text": [
      "\n",
      "\n",
      "\n",
      "\n",
      "\n"
     ]
    }
   ],
   "source": [
    "calle = input(\"Indique nombre de su calle\")\n",
    "print(calle)\n",
    "numero = input((f\"Indique ahora el número de la {calle} en la que vive\"))\n",
    "print(numero)\n",
    "cuidad = input((f\"¿A qué cuidad pertenece {calle} {numero}?\"))\n",
    "print(cuidad)\n",
    "cp = input((f\"Confirme código postal de {cuidad}\"))\n",
    "print(cp)\n",
    "piso = input((f\"Por último, indique número de piso de su vivienda en {calle} {numero}\"))\n",
    "print(piso)\n"
   ]
  },
  {
   "cell_type": "code",
   "execution_count": 29,
   "metadata": {},
   "outputs": [
    {
     "name": "stdout",
     "output_type": "stream",
     "text": [
      "('Su direccion completa es:', '', 'numero', '', 'piso', '', '', '')\n"
     ]
    }
   ],
   "source": [
    "print((\"Su direccion completa es:\", calle , \"numero\", numero , \"piso\", piso, cp , cuidad))\n"
   ]
  },
  {
   "cell_type": "code",
   "execution_count": null,
   "metadata": {},
   "outputs": [],
   "source": []
  },
  {
   "cell_type": "markdown",
   "metadata": {},
   "source": [
    "## Ejercicio 3\n",
    "¿Qué variables están mal escritas y por qué? Realiza primero tu hipótesis y luego ejecuta las variables para comprobarlo. En ese orden :)\n",
    "\n",
    "\n",
    "1. mi_variable = \"Economía\"\n",
    "2. otra_var = \"Ejercicio\n",
    "3. True = \"Ejercicio\"\n",
    "4. mi variab1e = \"Alpha\"\n",
    "5. import = 40\n",
    "6. 81mi_variable = \"Agua\"\n",
    "7. mi_variable10 = 6"
   ]
  },
  {
   "cell_type": "markdown",
   "metadata": {},
   "source": []
  },
  {
   "cell_type": "code",
   "execution_count": 30,
   "metadata": {},
   "outputs": [
    {
     "ename": "SyntaxError",
     "evalue": "invalid syntax (240379821.py, line 1)",
     "output_type": "error",
     "traceback": [
      "\u001b[1;36m  Cell \u001b[1;32mIn[30], line 1\u001b[1;36m\u001b[0m\n\u001b[1;33m    1. sin tildes\u001b[0m\n\u001b[1;37m       ^\u001b[0m\n\u001b[1;31mSyntaxError\u001b[0m\u001b[1;31m:\u001b[0m invalid syntax\n"
     ]
    }
   ],
   "source": [
    "1. sin tildes\n",
    "2. falta cerrar comillas\n",
    "3. Ejercicio = True\n",
    "4. mi_variable \n",
    "5. nombre clave no se puede usar\n",
    "6. no puede empezar por numeros\n",
    "7. OK pero deberia de ser mas explicativa"
   ]
  },
  {
   "cell_type": "code",
   "execution_count": 31,
   "metadata": {},
   "outputs": [
    {
     "ename": "SyntaxError",
     "evalue": "EOL while scanning string literal (1949577030.py, line 2)",
     "output_type": "error",
     "traceback": [
      "\u001b[1;36m  Cell \u001b[1;32mIn[31], line 2\u001b[1;36m\u001b[0m\n\u001b[1;33m    otra_var = \"Ejercicio\u001b[0m\n\u001b[1;37m                         ^\u001b[0m\n\u001b[1;31mSyntaxError\u001b[0m\u001b[1;31m:\u001b[0m EOL while scanning string literal\n"
     ]
    }
   ],
   "source": [
    "mi_variable = 'Economía'\n",
    "otra_var = \"Ejercicio\n",
    "True = \"Ejercicio\"\n",
    "mi_variab1e = \"Alpha\"\n",
    "import = 40\n",
    "81mi_variable = \"Agua\"\n",
    "mi_variable10 = 6"
   ]
  },
  {
   "cell_type": "code",
   "execution_count": null,
   "metadata": {},
   "outputs": [],
   "source": []
  },
  {
   "cell_type": "code",
   "execution_count": null,
   "metadata": {},
   "outputs": [],
   "source": []
  },
  {
   "cell_type": "code",
   "execution_count": null,
   "metadata": {},
   "outputs": [],
   "source": []
  },
  {
   "cell_type": "code",
   "execution_count": null,
   "metadata": {},
   "outputs": [],
   "source": []
  },
  {
   "cell_type": "code",
   "execution_count": 28,
   "metadata": {},
   "outputs": [],
   "source": []
  },
  {
   "cell_type": "markdown",
   "metadata": {},
   "source": [
    "## Ejercicio 4\n",
    "Realiza un conversor de grados Celsius a Fahrenheit. El conversor tiene que recibir el input del usuario y devolver la conversión.\n",
    "\n",
    "La conversión de grados sigue la siguiente fórmula: F = C × (9 / 5) + 32 "
   ]
  },
  {
   "cell_type": "code",
   "execution_count": 39,
   "metadata": {},
   "outputs": [
    {
     "name": "stdout",
     "output_type": "stream",
     "text": [
      "25.0 grados celsius corresponden a 77.0 grados Fahrenheit\n"
     ]
    }
   ],
   "source": [
    "celsius = float(input(\"Introduzca los grados celsius que quiere transformar a grados Fahrenheit\"))\n",
    "fahrenheit = celsius*(9/5) + 32\n",
    "print(f\"{celsius} grados celsius corresponden a {fahrenheit} grados Fahrenheit\")"
   ]
  },
  {
   "cell_type": "markdown",
   "metadata": {},
   "source": [
    "## Ejercicio 5\n",
    "Comenta  el Ejercicio 4. Pon un comentario multilinea y haz comentarios de cada linea de código"
   ]
  },
  {
   "cell_type": "code",
   "execution_count": 40,
   "metadata": {},
   "outputs": [
    {
     "name": "stdout",
     "output_type": "stream",
     "text": [
      "15.0 grados celsius corresponden a 59.0 grados Fahrenheit\n"
     ]
    }
   ],
   "source": [
    "\n",
    "# Preguntamos al usuario por los grados celsius que quiere transformar a grados Fahrenheit\n",
    "celsius = float(input(\"Introduzca los grados celsius que quiere transformar a grados Fahrenheit\"))\n",
    "\n",
    "# Calculamos los grados Fahrenheit apliando la función F = C x (9/5) + 32\n",
    "fahrenheit = celsius*(9/5) + 32\n",
    "\n",
    "# Damos la solución\n",
    "print(f\"{celsius} grados celsius corresponden a {fahrenheit} grados Fahrenheit\")"
   ]
  },
  {
   "cell_type": "code",
   "execution_count": 39,
   "metadata": {},
   "outputs": [],
   "source": [
    "\n"
   ]
  },
  {
   "cell_type": "code",
   "execution_count": null,
   "metadata": {},
   "outputs": [],
   "source": []
  }
 ],
 "metadata": {
  "kernelspec": {
   "display_name": "Python 3.7.4 64-bit",
   "language": "python",
   "name": "python3"
  },
  "language_info": {
   "codemirror_mode": {
    "name": "ipython",
    "version": 3
   },
   "file_extension": ".py",
   "mimetype": "text/x-python",
   "name": "python",
   "nbconvert_exporter": "python",
   "pygments_lexer": "ipython3",
   "version": "3.9.6"
  },
  "nbTranslate": {
   "displayLangs": [
    "*"
   ],
   "hotkey": "alt-t",
   "langInMainMenu": true,
   "sourceLang": "en",
   "targetLang": "fr",
   "useGoogleTranslate": true
  },
  "varInspector": {
   "cols": {
    "lenName": 16,
    "lenType": 16,
    "lenVar": 40
   },
   "kernels_config": {
    "python": {
     "delete_cmd_postfix": "",
     "delete_cmd_prefix": "del ",
     "library": "var_list.py",
     "varRefreshCmd": "print(var_dic_list())"
    },
    "r": {
     "delete_cmd_postfix": ") ",
     "delete_cmd_prefix": "rm(",
     "library": "var_list.r",
     "varRefreshCmd": "cat(var_dic_list()) "
    }
   },
   "types_to_exclude": [
    "module",
    "function",
    "builtin_function_or_method",
    "instance",
    "_Feature"
   ],
   "window_display": false
  },
  "vscode": {
   "interpreter": {
    "hash": "90139cb9a825bf3d63f6f6704e828dbd1ff7edbd4d0c6e906a71235d6efc74af"
   }
  }
 },
 "nbformat": 4,
 "nbformat_minor": 4
}
