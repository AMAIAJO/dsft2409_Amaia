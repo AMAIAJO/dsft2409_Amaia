{
 "cells": [
  {
   "cell_type": "markdown",
   "metadata": {},
   "source": [
    "![imagen](./img/python.jpg)"
   ]
  },
  {
   "cell_type": "markdown",
   "metadata": {},
   "source": [
    "# Python Flujos de Control\n",
    "\n",
    "Hasta ahora hemos visto cómo ejecutar un programa secuencialmente, empieza en la primera línea y acaba en la última. Pero ¿y si queremos que cambien los outputs del programa en función de ciertas condiciones, o si queremos que tome otros caminos en caso de encontrar errores?. Todo esto lo podremos hacer con los flujos de control. Sentencias que encontrarás en todos los lenguajes de programación.\n",
    "\n",
    "1. [Sintaxis de línea](#1.-Sintaxis-de-línea)\n",
    "1. [if/elif/else](#2.-if/elif/else)\n",
    "2. [Bucle for](#3.-Bucle-for)\n",
    "3. [Bucle while](#4.-Bucle-while)\n",
    "4. [Break/continue](#5.-Break/continue)\n",
    "5. [Try/except](#6.-Try/except)\n",
    "6. [Resumen](#7.-Resumen)"
   ]
  },
  {
   "cell_type": "markdown",
   "metadata": {},
   "source": [
    "## 1. Sintaxis de línea\n",
    "La manera en la que Python encapsula todo el código que va dentro de un flujo de control como `if` o `for` es diferente a como se suele hacer en otros lenguajes, en los que se rodea de llaves `{}` o paréntesis `()` todo el contenido del flujo. Con Python no. En Python simplemente hay que añadir una tabulación a cada línea de código que vaya dentro del flujo de control.\n",
    "\n",
    "> ```Python\n",
    "> for condiciones:\n",
    ">     Código dentro de este bucle\n",
    "> ```\n",
    "\n",
    "\n",
    "Si lo dejamos fuera, este código se ejecutará secuencialmente después de que corra el for\n",
    "\n",
    "> ```Python\n",
    "> for condiciones:\n",
    ">\n",
    "> Código fuera de este bucle\n",
    "> ```\n",
    "\n",
    "Veamos un ejemplo. Tenemos una lista de numeros, y queremos ver cuáles son enteros. Para ello los recorremos con un `for` (vermos más en profundiad en este notebook). Vamos iternando uno a uno cada elemento. Luego mediante un `if` comprobamos si es entero. Fíjate que todo lo que va dentro del `for` lleva una tabulación y lo que va dentro del `if` lleva dos tabulaciones, puesto que sus sentencias van tanto dentro del `if`, como dentro del `for`."
   ]
  },
  {
   "cell_type": "code",
   "execution_count": 47,
   "metadata": {},
   "outputs": [],
   "source": [
    "import time"
   ]
  },
  {
   "cell_type": "code",
   "execution_count": 48,
   "metadata": {},
   "outputs": [
    {
     "name": "stdout",
     "output_type": "stream",
     "text": [
      "Comienza iteración con 4\n",
      "El numero 4 es un entero\n",
      "Finaliza iteración con 4\n",
      "Comienza iteración con 6\n",
      "El numero 6 es un entero\n",
      "Finaliza iteración con 6\n",
      "Comienza iteración con 4.0\n",
      "Finaliza iteración con 4.0\n",
      "Comienza iteración con 3.0\n",
      "Finaliza iteración con 3.0\n",
      "Finaliza celda\n"
     ]
    }
   ],
   "source": [
    "numeros = [4, 6, 4.0, 3.0]\n",
    "\n",
    "for elemento in numeros:\n",
    "    print(\"Comienza iteración con\",elemento)\n",
    "    if type(elemento) == int:        \n",
    "        print(\"El numero\", elemento, \"es un entero\")\n",
    "    print(\"Finaliza iteración con\", elemento)\n",
    "    time.sleep(10)\n",
    "\n",
    "print(\"Finaliza celda\")"
   ]
  },
  {
   "cell_type": "markdown",
   "metadata": {},
   "source": [
    "<table align=\"left\">\n",
    " <tr><td width=\"80\"><img src=\"./img/error.png\" style=\"width:auto;height:auto\"></td>\n",
    "     <td style=\"text-align:left\">\n",
    "         <h3>ERRORES ¿Qué ocurre si nos olvidamos de tabular?</h3>\n",
    "         \n",
    " </td></tr>\n",
    "</table>"
   ]
  },
  {
   "cell_type": "code",
   "execution_count": 49,
   "metadata": {},
   "outputs": [
    {
     "ename": "IndentationError",
     "evalue": "expected an indented block (2854770130.py, line 5)",
     "output_type": "error",
     "traceback": [
      "\u001b[1;36m  Cell \u001b[1;32mIn[49], line 5\u001b[1;36m\u001b[0m\n\u001b[1;33m    if type(num) == int:\u001b[0m\n\u001b[1;37m    ^\u001b[0m\n\u001b[1;31mIndentationError\u001b[0m\u001b[1;31m:\u001b[0m expected an indented block\n"
     ]
    }
   ],
   "source": [
    "numeros = [4, 6, 4.0, 3.0]\n",
    "\n",
    "for num in numeros: \n",
    "    \n",
    "if type(num) == int:        \n",
    "print(\"El numero\", num, \"es un entero\")"
   ]
  },
  {
   "cell_type": "code",
   "execution_count": null,
   "metadata": {},
   "outputs": [],
   "source": [
    "numeros = [4, 6, 4.0, 3.0]\n",
    "\n",
    "for num in numeros:\n",
    "    \n",
    "    if type(num) == int:        \n",
    "        print(\"El numero\", num, \"es un entero\")"
   ]
  },
  {
   "cell_type": "markdown",
   "metadata": {},
   "source": [
    "Ojo, el error no ha dado en el `if`, sino en el `for`. Te señala lo que hay inmediatamente despues de los dos puntos del `for`, ya que considera que ahí debería haber una tabulación. No la hay, y por eso salta el error."
   ]
  },
  {
   "cell_type": "markdown",
   "metadata": {},
   "source": [
    "### Sintaxis\n",
    "Por tanto, toda sentencia `if`, `for`, `while`, `try`, declaración de funciones, de clases, llevan dos puntos. Y después de los dos puntos, tabulado, va todo el contenido de ese bloque. **Siempre**.\n",
    "\n",
    "Si pones los dos puntos y le das a enter, Python automáticamente te tabula todo lo que vayas a escribir a continuación."
   ]
  },
  {
   "cell_type": "code",
   "execution_count": null,
   "metadata": {},
   "outputs": [],
   "source": [
    "1 == 1"
   ]
  },
  {
   "cell_type": "code",
   "execution_count": null,
   "metadata": {},
   "outputs": [],
   "source": [
    "if 1 == 1:\n",
    "    print(\"Es verdadero\")\n",
    "    print(\"bla\")\n",
    "    print(5+6)\n",
    "else:\n",
    "    print(\"Es falso\")"
   ]
  },
  {
   "cell_type": "code",
   "execution_count": null,
   "metadata": {},
   "outputs": [],
   "source": []
  },
  {
   "cell_type": "code",
   "execution_count": 8,
   "metadata": {},
   "outputs": [
    {
     "name": "stdout",
     "output_type": "stream",
     "text": [
      "elemento 2\n",
      "elemento +1: 3\n",
      "\n",
      "elemento 2 es par\n",
      "\n",
      "elemento 6\n",
      "elemento +1: 7\n",
      "\n",
      "elemento 6 es par\n",
      "\n",
      "elemento 8\n",
      "elemento +1: 9\n",
      "\n",
      "elemento 8 es par\n",
      "\n",
      "elemento 9\n",
      "elemento +1: 10\n",
      "\n",
      "elemento 9 es impar\n",
      "\n",
      "elemento 0\n",
      "elemento +1: 1\n",
      "\n",
      "elemento 0 es par\n",
      "\n"
     ]
    }
   ],
   "source": [
    "lista = [2,6,8,9,0]\n",
    "\n",
    "for elemento in lista:\n",
    "    print(f'elemento {elemento}')\n",
    "    print(f'elemento +1: {elemento +1}')\n",
    "    print()\n",
    "    if elemento % 2 == 0:\n",
    "        print(f'elemento {elemento} es par')\n",
    "    else:\n",
    "        print(f'elemento {elemento} es impar')\n",
    "    print()"
   ]
  },
  {
   "cell_type": "code",
   "execution_count": 12,
   "metadata": {},
   "outputs": [
    {
     "name": "stdout",
     "output_type": "stream",
     "text": [
      "elemento 11\n",
      "elemento +1 12\n",
      "elemento 11 es impar\n",
      "encontrado un elemento que vale 11\n",
      "\n",
      "elemento 23\n",
      "elemento +1 24\n",
      "elemento 23 es impar\n",
      "encontrado un elemento que vale 23\n",
      "\n",
      "elemento 45\n",
      "elemento +1 46\n",
      "elemento 45 es impar\n",
      "\n",
      "elemento 67\n",
      "elemento +1 68\n",
      "elemento 67 es impar\n",
      "\n",
      "elemento 8\n",
      "elemento +1 9\n",
      "elemento 8 es par\n",
      "\n"
     ]
    }
   ],
   "source": [
    "lista = [11,23,45,67,8]\n",
    "\n",
    "for elemento in lista:\n",
    "    print('elemento',elemento)\n",
    "    print('elemento +1',elemento +1)\n",
    "    if elemento % 2 == 0:\n",
    "        print('elemento',elemento,'es par')\n",
    "    else:\n",
    "        print('elemento',elemento, 'es impar')\n",
    "    if elemento == 11:\n",
    "        print('encontrado un elemento que vale 11')\n",
    "    if elemento == 23:\n",
    "        print('encontrado un elemento que vale 23')\n",
    "\n",
    "    print()"
   ]
  },
  {
   "cell_type": "markdown",
   "metadata": {},
   "source": [
    "### ¿Tabulaciones o espacios?\n",
    "Cuidado con las tabulaciones ya que cuando pasamos de un editor de Python a otro, o cuando ejecutamos un corrector de estilo sobre nuestro código, hay veces que las tabulaciones dan problemas. Es por ello que muchos programadores en vez de usar tabulaciones, los sustituyen por 4 espacios. \n",
    "\n",
    "Este es el problema cuando no se normaliza o estandariza algo. Que cada progrmador usa lo que considera y después hay conflictos cuando pasamos de un IDE a otro. Este asunto lleva años sobre la mesa por lo que ahora la mayordía de IDEs no suelen tener problemas.\n",
    "\n",
    "Entonces, ¿qué usamos? Lo más cómo es añadir una tabulación, pero lo más correcto son espacios. En Jupyter esto es bastante transparente para nosotros ya que cuando añadimos una tabulación, realmente Jupyter lo traduce a 4 espacios, por lo que no debería ser un tema preocupante\n",
    "\n",
    "Es tal la discusión que hasta le [han dedicado una escena en la serie Silicon Valley](https://www.youtube.com/watch?v=ussOk-ilK_8)"
   ]
  },
  {
   "cell_type": "markdown",
   "metadata": {},
   "source": [
    "## 2. if/elif/else\n",
    "En función de lo que valgan unas condiciones booleanas, ejecutaremos unas líneas de código, u otras. La sintaxis es muy sencilla:\n",
    "\n",
    "\n",
    "> ```Python\n",
    "> if condiciones:\n",
    ">     Si se cumplen las condiciones, ejecuta este código\n",
    "> else:\n",
    ">     Si no, ejecutas estre otro código\n",
    "> ```\n",
    "    \n",
    "Veamos un ejemplo"
   ]
  },
  {
   "cell_type": "code",
   "execution_count": null,
   "metadata": {},
   "outputs": [],
   "source": [
    "mi_nota = 5\n",
    "\n",
    "if mi_nota == 3:\n",
    "    print(\"Mi nota es un 3\")\n",
    "elif mi_nota == 4:\n",
    "    print(\"Mi nota es un 4\")\n",
    "else:\n",
    "    print(\"Mi nota no es ni un 3 ni un 4\")"
   ]
  },
  {
   "cell_type": "code",
   "execution_count": null,
   "metadata": {},
   "outputs": [],
   "source": [
    "mi_nota = 11\n",
    "\n",
    "if mi_nota < 5:\n",
    "    print(\"A septiembre\")\n",
    "    if mi_nota < 4:\n",
    "        print(\"Y ni cerca has estado\")\n",
    "    else:\n",
    "        print(\"Pero te has quedado cerca\")\n",
    "    \n",
    "elif mi_nota > 10:\n",
    "    print(\"Error. Es hasta 10\")\n",
    "\n",
    "elif mi_nota == 3:\n",
    "    print(\"Tu nota es un 3\") # Me sobraría, nunca va a darse esta condición\n",
    "    \n",
    "else:\n",
    "    print(\"Aprobado\")"
   ]
  },
  {
   "cell_type": "markdown",
   "metadata": {},
   "source": [
    "Únicamente se ejecuta la parte de código que consigue un `True` en la condición. `print(\"Aprobado!\")` sólo se imprimirá por pantalla si la nota es mayor o igual a 5.\n",
    "\n",
    "Vamos a ver otro ejemplo. Ahora quiero un poco más de granularidad en la nota, con bienes, notables.."
   ]
  },
  {
   "cell_type": "code",
   "execution_count": 6,
   "metadata": {},
   "outputs": [
    {
     "name": "stdout",
     "output_type": "stream",
     "text": [
      "Notable\n"
     ]
    }
   ],
   "source": [
    "mi_nota = 8\n",
    "\n",
    "if mi_nota < 5:\n",
    "    print(\"A septiembre\")\n",
    "    # if type(mi_nota) == int:\n",
    "    #     print(\"Es un entero\")\n",
    "    # if type(mi_nota) == float:\n",
    "    #     print(\"Es un float\")\n",
    "    \n",
    "elif mi_nota < 6:\n",
    "    print(\"Suficiente\")\n",
    "    \n",
    "elif mi_nota < 7:\n",
    "    print(\"Bien\")\n",
    "    \n",
    "elif mi_nota < 9:\n",
    "    print(\"Notable\")\n",
    "\n",
    "elif mi_nota <= 10:\n",
    "    print(\"Sobresaliente\")\n",
    "\n",
    "else:\n",
    "    print(\"No es valida\")\n",
    "\n"
   ]
  },
  {
   "cell_type": "code",
   "execution_count": 9,
   "metadata": {},
   "outputs": [
    {
     "name": "stdout",
     "output_type": "stream",
     "text": [
      "Notable\n"
     ]
    }
   ],
   "source": [
    "mi_nota = 7\n",
    "\n",
    "if mi_nota < 0 or mi_nota > 10:\n",
    "    print('Nota no valida')\n",
    "\n",
    "else:\n",
    "    if mi_nota < 5:\n",
    "        print(\"A septiembre\")\n",
    "        # if type(mi_nota) == int:\n",
    "        #     print(\"Es un entero\")\n",
    "        # if type(mi_nota) == float:\n",
    "        #     print(\"Es un float\")\n",
    "    \n",
    "    elif mi_nota < 6:\n",
    "        print(\"Suficiente\")\n",
    "    \n",
    "    elif mi_nota < 7:\n",
    "        print(\"Bien\")\n",
    "    \n",
    "    elif mi_nota < 9:\n",
    "        print(\"Notable\")\n",
    "\n",
    "    elif mi_nota <= 10:\n",
    "        print(\"Sobresaliente\")\n"
   ]
  },
  {
   "cell_type": "code",
   "execution_count": 15,
   "metadata": {},
   "outputs": [
    {
     "name": "stdout",
     "output_type": "stream",
     "text": [
      "Bien\n",
      "\n",
      "A septiembre\n",
      "\n",
      "Notable\n",
      "\n",
      "Sobresaliente\n",
      "\n",
      "Nota no valida\n",
      "\n",
      "Sobresaliente\n",
      "\n"
     ]
    }
   ],
   "source": [
    "mis_notas = [6,4,8,9,-1,10]\n",
    "\n",
    "for mi_nota in mis_notas:\n",
    "    if mi_nota < 0 or mi_nota > 10:\n",
    "        print('Nota no valida')\n",
    "\n",
    "    else:\n",
    "        if mi_nota < 5:\n",
    "            print(\"A septiembre\")\n",
    "        # if type(mi_nota) == int:\n",
    "        #     print(\"Es un entero\")\n",
    "        # if type(mi_nota) == float:\n",
    "        #     print(\"Es un float\")\n",
    "    \n",
    "        elif mi_nota < 6:\n",
    "            print(\"Suficiente\")\n",
    "    \n",
    "        elif mi_nota < 7:\n",
    "            print(\"Bien\")\n",
    "    \n",
    "        elif mi_nota < 9:\n",
    "            print(\"Notable\")\n",
    "\n",
    "        elif mi_nota <= 10:\n",
    "            print(\"Sobresaliente\")\n",
    "\n",
    "    print()\n"
   ]
  },
  {
   "cell_type": "markdown",
   "metadata": {},
   "source": [
    "**IMPORTANTE**. Todos los `ifs` se ejecutan secuencialmente. Por eso, en este caso no es necesario acotar tanto la nota:\n",
    "\n",
    "* Primero comprueba si es menor de 5, de ser así, suspenso.\n",
    "* Ya sabemos que es mayor o igual a 5\n",
    "* En la siguiente condición comprueba si es menor que 6, es decir, entre 5 y 6. Si es `False`, seguimos a la siguiente condición. Ahora bien, si es `True`, ejecutamos únicamente ese código y nos olvidamos de todo lo demás. Ya puede haber 150 condiciones, que si la primera es `True`, el resto es como si no existiese.\n",
    "\n",
    "Fíjate que la sintaxis es bastante intuitiva. `if` una condición, dos puntos y me ejecutas todo lo que hay aqui dentro, `elif` (acorta el `else if`), si se cumple esta otra condición, se ejecuta este otro código. Y si no se cumple ninguna de estas, ejecuta lo que haya en el `else`."
   ]
  },
  {
   "cell_type": "markdown",
   "metadata": {},
   "source": [
    "¿Recuerdas lo que viste con el *Algebra de Boole*? Este es el momento de utilizarlo. Cuando acudimos a varias condiciones dentro de un mismo `if`, tenemos que tener muy claras las operaciones binarias que estamos realizando."
   ]
  },
  {
   "cell_type": "code",
   "execution_count": 20,
   "metadata": {},
   "outputs": [
    {
     "name": "stdout",
     "output_type": "stream",
     "text": [
      "Vaca\n"
     ]
    }
   ],
   "source": [
    "pico = False\n",
    "alas = False\n",
    "sonido = \"Mugir\"\n",
    "patas = 4\n",
    "\n",
    "if pico or alas:\n",
    "    # True or False = True\n",
    "    print(\"Ave\")\n",
    "\n",
    "elif patas == 4 and sonido == \"Ladrar\":\n",
    "    # True and True = True\n",
    "    print(\"Perro\")\n",
    "    \n",
    "elif patas ==4 and sonido == \"Mugir\":\n",
    "    print(\"Vaca\")\n",
    "\n",
    "else:\n",
    "    print(\"Otro animal\")"
   ]
  },
  {
   "cell_type": "markdown",
   "metadata": {},
   "source": [
    "<table align=\"left\">\n",
    " <tr><td width=\"80\"><img src=\"./img/ejercicio.png\" style=\"width:auto;height:auto\"></td>\n",
    "     <td style=\"text-align:left\">\n",
    "         <h3>Ejercicio if/else</h3>\n",
    "\n",
    "El ejemplo de las notas está muy bien, pero demasiado sencillo. ¿Qué pasa si la nota es mayor de 10 o menor que 0? No parece una nota correcta. En programación hay que anticiparse a los errores. Reescribe el código para tener en cuenta esos casos, cuya nota tendrás que catalogarla como \"Nota errónea\"\n",
    "         \n",
    " </td></tr>\n",
    "</table>"
   ]
  },
  {
   "cell_type": "code",
   "execution_count": null,
   "metadata": {},
   "outputs": [],
   "source": [
    "mi_nota = 11\n",
    "\n",
    "if mi_nota < 0 or mi_nota > 10:\n",
    "    print(\"Nota erronea\")\n",
    "\n",
    "elif mi_nota < 5:\n",
    "    print(\"A septiembre\")\n",
    "    \n",
    "elif mi_nota < 6:\n",
    "    print(\"Suficiente\")\n",
    "    \n",
    "elif mi_nota < 7:\n",
    "    print(\"Bien\")\n",
    "    \n",
    "elif mi_nota < 9:\n",
    "    print(\"Notable\")\n",
    "\n",
    "elif mi_nota <= 10:\n",
    "    print(\"Sobresaliente\")\n",
    "\n",
    "\n"
   ]
  },
  {
   "cell_type": "markdown",
   "metadata": {},
   "source": [
    "*Python >= 3.10*\n",
    "## match case\n",
    "Puedes verlo como el equivalente de la sentencia switch que ya hay en otros lenguajes. Originalmente, Python solo contaba con la sentencia if - else para el manejo de condicionales en el flujo de la aplicación, pero desde Python 3.10 se introdujo la novedad del Structural Pattern Matching y con eso la sentencia match - case.\n",
    "\n",
    "> ```Python\n",
    ">match variable:\n",
    ">\tcase \"value 1\":\n",
    ">\t  x = 15\n",
    ">\tcase \"value 2\":\n",
    ">\t  x = 25\n",
    ">\tcase _:\n",
    ">\t  x = 0\n",
    "> ```\n",
    "\n"
   ]
  },
  {
   "cell_type": "code",
   "execution_count": 21,
   "metadata": {},
   "outputs": [
    {
     "ename": "SyntaxError",
     "evalue": "invalid syntax (2942328970.py, line 4)",
     "output_type": "error",
     "traceback": [
      "\u001b[1;36m  Cell \u001b[1;32mIn[21], line 4\u001b[1;36m\u001b[0m\n\u001b[1;33m    match day.lower():\u001b[0m\n\u001b[1;37m          ^\u001b[0m\n\u001b[1;31mSyntaxError\u001b[0m\u001b[1;31m:\u001b[0m invalid syntax\n"
     ]
    }
   ],
   "source": [
    "day = input(\"Ingrese un día de la semana: \")\n",
    "\n",
    "# Usando match case\n",
    "match day.lower():\n",
    "    case \"lunes\":\n",
    "        task = \"Hacer la compra\"\n",
    "    case \"martes\":\n",
    "        task = \"Ir al gimnasio\"\n",
    "    case \"miércoles\":\n",
    "        task = \"Estudiar Python\"\n",
    "    case \"jueves\":\n",
    "        task = \"Llamar a mamá\"\n",
    "    case \"viernes\":\n",
    "        task = \"Ver una película\"\n",
    "    case \"sábado\":\n",
    "        task = \"Salir con amigos\"\n",
    "    case \"domingo\":\n",
    "        task = \"Relajarse en casa\"\n",
    "    case _:\n",
    "        task = \"Ese día no es válido\"\n",
    "\n",
    "print(f\"La tarea para {day} es: {task}\")"
   ]
  },
  {
   "cell_type": "code",
   "execution_count": null,
   "metadata": {},
   "outputs": [],
   "source": [
    "# var = 3 \n",
    "# match var > 5:\n",
    "#     case True:\n",
    "#         print(\"Es mayor que 5\")\n",
    "#     case False:\n",
    "#         print(\"Es menor o igual que 5\")\n"
   ]
  },
  {
   "cell_type": "markdown",
   "metadata": {},
   "source": [
    "## 3. Bucle for\n",
    "Gracias a los bucles podemos ejecutar código repetitivo, de manera bastante automática. Son muy útiles para que nuestro código no sea redundante, y también para aplicar operaciones cuando manejamos iterables. Un iterable no es más que una colección de objetos (una lista es un iterable) que podremos ir recorriendo uno a uno con el bucle `for`, y aplicar operaciones a cada elemento.\n",
    "\n",
    "La sintaxis de los bucles `for` es la siguiente:\n",
    "\n",
    "> `for var_ejecucion in limites ejecución:`\n",
    "> \n",
    ">           codigo del for...\n",
    "    \n",
    "    \n",
    "* **Límites de ejecución**: La cantidad de veces que queremos que se ejecute un `for`. Esto es así porque si no se ejecutarían hasta el infinito. Y además, tienen una variable de ejecución que se va actualizando. Por ejemplo del 1 al 10. Primero valdría 1, luego 2...así hasta 10.\n",
    "\n",
    "\n",
    "* **Variable de ejecución**: dentro del for habrá una variable que se irá actualizando con cada ejecución. Si se ejecuta 10 veces, primero la variable valdrá 1, luego 2, y así hasta 10.\n",
    "\n",
    "![imagen](./img/for-loop-python.jpg)"
   ]
  },
  {
   "cell_type": "markdown",
   "metadata": {},
   "source": [
    "Mejor vemos un ejemplo para entenderlo. Tienes las notas de tres alumnos en una lista, y quieres imprimir por pantalla las notas"
   ]
  },
  {
   "cell_type": "code",
   "execution_count": 2,
   "metadata": {},
   "outputs": [
    {
     "name": "stdout",
     "output_type": "stream",
     "text": [
      "3\n",
      "6\n",
      "9\n",
      "10\n"
     ]
    }
   ],
   "source": [
    "notas = [3, 6, 9, 10]\n",
    "\n",
    "print(notas[0])\n",
    "print(notas[1])\n",
    "print(notas[2])\n",
    "print(notas[3])"
   ]
  },
  {
   "cell_type": "code",
   "execution_count": 3,
   "metadata": {},
   "outputs": [
    {
     "name": "stdout",
     "output_type": "stream",
     "text": [
      "3\n",
      "6\n",
      "9\n",
      "10\n"
     ]
    }
   ],
   "source": [
    "for n in notas:\n",
    "    print(n)"
   ]
  },
  {
   "cell_type": "code",
   "execution_count": 4,
   "metadata": {},
   "outputs": [
    {
     "name": "stdout",
     "output_type": "stream",
     "text": [
      "Suspenso\n",
      "Aprobado\n",
      "Aprobado\n",
      "Aprobado\n"
     ]
    }
   ],
   "source": [
    "if notas[0] >= 5:\n",
    "    print(\"Aprobado\")\n",
    "else:\n",
    "    print(\"Suspenso\")\n",
    "\n",
    "if notas[1] >= 5:\n",
    "    print(\"Aprobado\")\n",
    "else:\n",
    "    print(\"Suspenso\")\n",
    "\n",
    "if notas[2] >= 5:\n",
    "    print(\"Aprobado\")\n",
    "else:\n",
    "    print(\"Suspenso\")\n",
    "\n",
    "if notas[3] >= 5:\n",
    "    print(\"Aprobado\")\n",
    "else:\n",
    "    print(\"Suspenso\")\n"
   ]
  },
  {
   "cell_type": "code",
   "execution_count": 5,
   "metadata": {},
   "outputs": [
    {
     "data": {
      "text/plain": [
       "[3, 6, 9, 10]"
      ]
     },
     "execution_count": 5,
     "metadata": {},
     "output_type": "execute_result"
    }
   ],
   "source": [
    "notas"
   ]
  },
  {
   "cell_type": "code",
   "execution_count": 6,
   "metadata": {},
   "outputs": [
    {
     "name": "stdout",
     "output_type": "stream",
     "text": [
      "Recorriendo nota 3\n",
      "Suspenso\n",
      "Recorriendo nota 6\n",
      "Aprobado\n",
      "Recorriendo nota 9\n",
      "Aprobado\n",
      "Recorriendo nota 10\n",
      "Aprobado\n"
     ]
    }
   ],
   "source": [
    "for nota in notas: # nota = notas[0..]\n",
    "    # print(notas)\n",
    "    print(\"Recorriendo nota\", nota)\n",
    "    if nota >= 5:\n",
    "        print(\"Aprobado\")\n",
    "    else:\n",
    "        print(\"Suspenso\")"
   ]
  },
  {
   "cell_type": "code",
   "execution_count": null,
   "metadata": {},
   "outputs": [],
   "source": [
    "print(nota)"
   ]
  },
  {
   "cell_type": "code",
   "execution_count": 7,
   "metadata": {},
   "outputs": [],
   "source": [
    "import time"
   ]
  },
  {
   "cell_type": "code",
   "execution_count": 8,
   "metadata": {},
   "outputs": [
    {
     "name": "stdout",
     "output_type": "stream",
     "text": [
      "3\n",
      "6\n",
      "9\n",
      "10\n"
     ]
    }
   ],
   "source": [
    "for nota in notas:\n",
    "    print(nota)\n",
    "    time.sleep(3)"
   ]
  },
  {
   "cell_type": "markdown",
   "metadata": {},
   "source": [
    "Genial, pero qué ocurre si ahora tienes 30 notas, o simplemente quieres que tu programa no dependa de cuantas notas tienes, unas veces son 30, otras 20..."
   ]
  },
  {
   "cell_type": "code",
   "execution_count": 9,
   "metadata": {},
   "outputs": [
    {
     "name": "stdout",
     "output_type": "stream",
     "text": [
      "[4, 5, 7, 3, 4, 6, 5, 5, 4, 5, 5, 6]\n"
     ]
    }
   ],
   "source": [
    "notas_clase = [4,5,7,3,4,6,5,5,4,5,5,6]\n",
    "print(notas_clase)"
   ]
  },
  {
   "cell_type": "code",
   "execution_count": 10,
   "metadata": {},
   "outputs": [
    {
     "name": "stdout",
     "output_type": "stream",
     "text": [
      "Suspenso con: 4\n",
      "Aprobado con: 5\n",
      "Aprobado con: 7\n",
      "Suspenso con: 3\n",
      "Suspenso con: 4\n",
      "Aprobado con: 6\n",
      "Aprobado con: 5\n",
      "Aprobado con: 5\n",
      "Suspenso con: 4\n",
      "Aprobado con: 5\n",
      "Aprobado con: 5\n",
      "Aprobado con: 6\n"
     ]
    }
   ],
   "source": [
    "for nota in notas_clase:\n",
    "    if nota >= 5:\n",
    "        print(\"Aprobado con:\", nota)\n",
    "    else:\n",
    "        print(\"Suspenso con:\", nota)\n",
    "    # print(\"Pasando a la siguiente iteración\")\n",
    "    # time.sleep(1)"
   ]
  },
  {
   "cell_type": "code",
   "execution_count": 11,
   "metadata": {},
   "outputs": [
    {
     "name": "stdout",
     "output_type": "stream",
     "text": [
      "Lunes\n",
      "L\n",
      "u\n",
      "n\n",
      "e\n",
      "s\n",
      "----------------------------------------------------------------------------------------------------\n",
      "Martes\n",
      "M\n",
      "a\n",
      "r\n",
      "t\n",
      "e\n",
      "s\n",
      "----------------------------------------------------------------------------------------------------\n",
      "Miércoles\n",
      "M\n",
      "i\n",
      "é\n",
      "r\n",
      "c\n",
      "o\n",
      "l\n",
      "e\n",
      "s\n",
      "----------------------------------------------------------------------------------------------------\n",
      "Jueves\n",
      "J\n",
      "u\n",
      "e\n",
      "v\n",
      "e\n",
      "s\n",
      "----------------------------------------------------------------------------------------------------\n",
      "Viernes\n",
      "V\n",
      "i\n",
      "e\n",
      "r\n",
      "n\n",
      "e\n",
      "s\n",
      "----------------------------------------------------------------------------------------------------\n",
      "Sábado\n",
      "S\n",
      "á\n",
      "b\n",
      "a\n",
      "d\n",
      "o\n",
      "----------------------------------------------------------------------------------------------------\n",
      "Domingo\n",
      "D\n",
      "o\n",
      "m\n",
      "i\n",
      "n\n",
      "g\n",
      "o\n",
      "----------------------------------------------------------------------------------------------------\n"
     ]
    }
   ],
   "source": [
    "# Si en vez de numeros, tenemos texto, también nos vale\n",
    "dias_semana = [\"Lunes\", \"Martes\", \"Miércoles\", \"Jueves\", \"Viernes\", \"Sábado\", \"Domingo\"]\n",
    "\n",
    "for dia in dias_semana:\n",
    "    print(dia)\n",
    "    for letra in dia:\n",
    "        print(letra)\n",
    "    print(\"-\"*100)"
   ]
  },
  {
   "cell_type": "markdown",
   "metadata": {},
   "source": [
    "Todo objeto que sea **iterable**, lo podrás recorrer en un `for`. Veremos los iterables más en detalle en las colecciones."
   ]
  },
  {
   "cell_type": "code",
   "execution_count": 12,
   "metadata": {},
   "outputs": [
    {
     "name": "stdout",
     "output_type": "stream",
     "text": [
      "comienza iteración\n",
      "P\n",
      "comienza iteración\n",
      "y\n",
      "comienza iteración\n",
      "t\n",
      "comienza iteración\n",
      "h\n",
      "comienza iteración\n",
      "o\n",
      "comienza iteración\n",
      "n\n"
     ]
    }
   ],
   "source": [
    "# Fijate que un String también es un iterable\n",
    "\n",
    "for letra in \"Python\":\n",
    "    print(\"comienza iteración\")\n",
    "    print(letra)\n",
    "    "
   ]
  },
  {
   "cell_type": "markdown",
   "metadata": {},
   "source": [
    "El bucle for resulta de gran utilidad para **aplicar operaciones a cada elemento**. Hasta ahora solo hemos impreso items por pantalla, pero ¿y si queremos subir la nota de todos los alumnos un punto extra? No puedo hacer `lista + 1`. Tendré que iterar/recorrer cada elemento y aplicarle la operación."
   ]
  },
  {
   "cell_type": "code",
   "execution_count": 13,
   "metadata": {},
   "outputs": [],
   "source": [
    "notas_clase = [4,5,7]\n",
    "entregas = [False,True,True]"
   ]
  },
  {
   "cell_type": "code",
   "execution_count": 14,
   "metadata": {},
   "outputs": [],
   "source": [
    "if entregas [0]:\n",
    "    notas_clase[0]=notas_clase[0]+1\n",
    "if entregas [1]:\n",
    "    notas_clase[1]=notas_clase[1]+1\n",
    "if entregas [2]:\n",
    "    notas_clase[2]=notas_clase[2]+1 "
   ]
  },
  {
   "cell_type": "code",
   "execution_count": 15,
   "metadata": {},
   "outputs": [
    {
     "data": {
      "text/plain": [
       "0"
      ]
     },
     "execution_count": 15,
     "metadata": {},
     "output_type": "execute_result"
    }
   ],
   "source": [
    "nota = 4\n",
    "notas_clase.index(nota)"
   ]
  },
  {
   "cell_type": "code",
   "execution_count": 16,
   "metadata": {},
   "outputs": [
    {
     "name": "stdout",
     "output_type": "stream",
     "text": [
      "4\n",
      "6\n",
      "8\n"
     ]
    }
   ],
   "source": [
    "for nota in notas_clase:\n",
    "    print(nota)"
   ]
  },
  {
   "cell_type": "code",
   "execution_count": 19,
   "metadata": {},
   "outputs": [
    {
     "name": "stdout",
     "output_type": "stream",
     "text": [
      "indice 0\n",
      "indice 1\n",
      "trabajo entregado; subiendo la nota\n",
      "indice 2\n",
      "trabajo entregado; subiendo la nota\n"
     ]
    }
   ],
   "source": [
    "for i in range(len(notas_clase)):\n",
    "    print('indice',i)\n",
    "    if entregas[i] == True:\n",
    "        print('trabajo entregado; subiendo la nota')\n",
    "        notas"
   ]
  },
  {
   "cell_type": "code",
   "execution_count": 23,
   "metadata": {},
   "outputs": [
    {
     "name": "stdout",
     "output_type": "stream",
     "text": [
      "0\n",
      "False\n",
      "4\n",
      "No subimos nota\n",
      "\n",
      "1\n",
      "True\n",
      "5\n",
      "Subimos nota\n",
      "\n",
      "2\n",
      "True\n",
      "7\n",
      "Subimos nota\n",
      "\n"
     ]
    },
    {
     "data": {
      "text/plain": [
       "[4, 6, 8]"
      ]
     },
     "execution_count": 23,
     "metadata": {},
     "output_type": "execute_result"
    }
   ],
   "source": [
    "notas_clase = [4,5,7]\n",
    "entregas = [False, True, True]\n",
    "for i in range(3):\n",
    "    print(i)\n",
    "    print(entregas[i])\n",
    "    print(notas_clase[i])\n",
    "    if entregas[i]== True:\n",
    "        print('Subimos nota')\n",
    "        notas_clase[i]= notas_clase[i]+1\n",
    "    else:\n",
    "        print('No subimos nota')\n",
    "    print()\n",
    "\n",
    "\n",
    "notas_clase\n"
   ]
  },
  {
   "cell_type": "code",
   "execution_count": 35,
   "metadata": {},
   "outputs": [
    {
     "name": "stdout",
     "output_type": "stream",
     "text": [
      "6\n",
      "0\n",
      "False\n",
      "4\n",
      "No subimos nota\n",
      "\n",
      "1\n",
      "True\n",
      "5\n",
      "Subimos nota\n",
      "\n",
      "2\n",
      "True\n",
      "7\n",
      "Subimos nota\n",
      "\n",
      "3\n",
      "True\n",
      "8\n",
      "Subimos nota\n",
      "\n",
      "4\n",
      "True\n",
      "7\n",
      "Subimos nota\n",
      "\n",
      "5\n",
      "True\n",
      "8\n",
      "Subimos nota\n",
      "\n"
     ]
    }
   ],
   "source": [
    "notas_clase = [4,5,7,8,7,8]\n",
    "entregas = [False, True, True,True,True,True,False,False]\n",
    "print(len(notas_clase))\n",
    "for i in range(len(notas_clase)):\n",
    "    print(i)\n",
    "    print(entregas[i])\n",
    "    print(notas_clase[i])\n",
    "    if entregas[i]== True:\n",
    "        print('Subimos nota')\n",
    "        notas_clase[i]= notas_clase[i]+1\n",
    "    else:\n",
    "        print('No subimos nota')\n",
    "    print()"
   ]
  },
  {
   "cell_type": "code",
   "execution_count": 24,
   "metadata": {},
   "outputs": [
    {
     "name": "stdout",
     "output_type": "stream",
     "text": [
      "0\n",
      "False\n",
      "4\n",
      "No subimos nota\n",
      "\n",
      "1\n",
      "True\n",
      "5\n",
      "Subimos nota\n",
      "\n",
      "2\n",
      "True\n",
      "7\n",
      "Subimos nota\n",
      "\n",
      "3\n",
      "True\n",
      "8\n",
      "Subimos nota\n",
      "\n",
      "4\n",
      "True\n",
      "7\n",
      "Subimos nota\n",
      "\n",
      "5\n",
      "True\n",
      "8\n",
      "Subimos nota\n",
      "\n",
      "6\n"
     ]
    },
    {
     "ename": "IndexError",
     "evalue": "list index out of range",
     "output_type": "error",
     "traceback": [
      "\u001b[1;31m---------------------------------------------------------------------------\u001b[0m",
      "\u001b[1;31mIndexError\u001b[0m                                Traceback (most recent call last)",
      "Cell \u001b[1;32mIn[24], line 6\u001b[0m\n\u001b[0;32m      4\u001b[0m \u001b[38;5;28;01mfor\u001b[39;00m i \u001b[38;5;129;01min\u001b[39;00m \u001b[38;5;28mrange\u001b[39m(\u001b[38;5;28mlen\u001b[39m(notas_clase)):\n\u001b[0;32m      5\u001b[0m     \u001b[38;5;28mprint\u001b[39m(i)\n\u001b[1;32m----> 6\u001b[0m     \u001b[38;5;28mprint\u001b[39m(\u001b[43mentregas\u001b[49m\u001b[43m[\u001b[49m\u001b[43mi\u001b[49m\u001b[43m]\u001b[49m)\n\u001b[0;32m      7\u001b[0m     \u001b[38;5;28mprint\u001b[39m(notas_clase[i])\n\u001b[0;32m      8\u001b[0m     \u001b[38;5;28;01mif\u001b[39;00m entregas[i]\u001b[38;5;241m==\u001b[39m \u001b[38;5;28;01mTrue\u001b[39;00m:\n",
      "\u001b[1;31mIndexError\u001b[0m: list index out of range"
     ]
    }
   ],
   "source": [
    "notas_clase = [4,5,7,8,7,8,4,7]\n",
    "entregas = [False, True, True,True,True,True]\n",
    "\n",
    "for i in range(len(notas_clase)):\n",
    "    print(i)\n",
    "    print(entregas[i])\n",
    "    print(notas_clase[i])\n",
    "    if entregas[i]== True:\n",
    "        print('Subimos nota')\n",
    "        notas_clase[i]= notas_clase[i]+1\n",
    "    else:\n",
    "        print('No subimos nota')\n",
    "    print()"
   ]
  },
  {
   "cell_type": "code",
   "execution_count": 47,
   "metadata": {},
   "outputs": [
    {
     "name": "stdout",
     "output_type": "stream",
     "text": [
      "La longitud de las listas no coincide\n"
     ]
    }
   ],
   "source": [
    "notas_clase = [4,5,7,8,7,8,4,7]\n",
    "entregas = [False, True, True,True,True,True]\n",
    "\n",
    "if len(notas_clase) == len(entregas):\n",
    "\n",
    "    for i in range(len(notas_clase)):\n",
    "        print(i)\n",
    "        print(entregas[i])\n",
    "        print(notas_clase[i])\n",
    "        if entregas[i]== True:\n",
    "            print('Subimos nota')\n",
    "            notas_clase[i]= notas_clase[i]+1\n",
    "else:\n",
    "    print('La longitud de las listas no coincide')\n",
    "    notas_clase\n",
    "       "
   ]
  },
  {
   "cell_type": "code",
   "execution_count": 36,
   "metadata": {},
   "outputs": [
    {
     "data": {
      "text/plain": [
       "[0, 1, 2]"
      ]
     },
     "execution_count": 36,
     "metadata": {},
     "output_type": "execute_result"
    }
   ],
   "source": [
    "list(range(3))"
   ]
  },
  {
   "cell_type": "code",
   "execution_count": null,
   "metadata": {},
   "outputs": [],
   "source": [
    "entregas[notas_clase.index(nota)]"
   ]
  },
  {
   "cell_type": "code",
   "execution_count": 25,
   "metadata": {
    "collapsed": true,
    "jupyter": {
     "outputs_hidden": true
    },
    "tags": []
   },
   "outputs": [
    {
     "name": "stdout",
     "output_type": "stream",
     "text": [
      "iterando con la nota: 4\n",
      "Cargando siguiente nota\n",
      "iterando con la nota: 5\n",
      "Cargando siguiente nota\n",
      "iterando con la nota: 7\n",
      "Cargando siguiente nota\n",
      "[3, 6, 8]\n"
     ]
    }
   ],
   "source": [
    "notas_clase = [4,5,7]\n",
    "notas_clase_actualizada = []\n",
    "entregas = [False,True,True]\n",
    "\n",
    "for nota in notas_clase:\n",
    "    \n",
    "    if entregas[notas_clase.index(nota)]:\n",
    "        notas_clase_actualizada.append(nota + 1)\n",
    "    else:\n",
    "        notas_clase_actualizada.append(nota - 1)\n",
    "    print(\"iterando con la nota:\", nota)\n",
    "    # time.sleep(2.5)\n",
    "    print(\"Cargando siguiente nota\")\n",
    "    time.sleep(2.5)\n",
    "\n",
    "print(notas_clase_actualizada)"
   ]
  },
  {
   "cell_type": "markdown",
   "metadata": {},
   "source": [
    "Dentro de un bucle `for`, podremos anidar más bucles. Esto resulta útil si queremos calcular combinaciones de iterables, por ejemplo, si quiero imprimir por pantalla todas las coordenadas de un tablero de 4x4."
   ]
  },
  {
   "cell_type": "code",
   "execution_count": 26,
   "metadata": {},
   "outputs": [
    {
     "data": {
      "text/plain": [
       "[0, 1, 2, 3, 4, 5]"
      ]
     },
     "execution_count": 26,
     "metadata": {},
     "output_type": "execute_result"
    }
   ],
   "source": [
    "list(range(6))"
   ]
  },
  {
   "cell_type": "code",
   "execution_count": 27,
   "metadata": {},
   "outputs": [
    {
     "name": "stdout",
     "output_type": "stream",
     "text": [
      "[2, 1, 0, -1, -2, -3, -4, -5, -6, -7, -8, -9]\n"
     ]
    }
   ],
   "source": [
    "print(list(range(2, -10,-1)))"
   ]
  },
  {
   "cell_type": "code",
   "execution_count": 28,
   "metadata": {},
   "outputs": [
    {
     "name": "stdout",
     "output_type": "stream",
     "text": [
      "2\n",
      "1\n",
      "0\n",
      "-1\n",
      "-2\n",
      "-3\n",
      "-4\n",
      "-5\n",
      "-6\n",
      "-7\n",
      "-8\n",
      "-9\n"
     ]
    }
   ],
   "source": [
    "for i in range(2, -10,-1):\n",
    "    print(i)"
   ]
  },
  {
   "cell_type": "code",
   "execution_count": 29,
   "metadata": {},
   "outputs": [
    {
     "name": "stdout",
     "output_type": "stream",
     "text": [
      "valores 10\n"
     ]
    }
   ],
   "source": [
    "var_1 = 10\n",
    "var_2 = 5\n",
    "print(\"valores\", var_1)"
   ]
  },
  {
   "cell_type": "code",
   "execution_count": 30,
   "metadata": {},
   "outputs": [
    {
     "data": {
      "text/plain": [
       "[1, 2, 3]"
      ]
     },
     "execution_count": 30,
     "metadata": {},
     "output_type": "execute_result"
    }
   ],
   "source": [
    "list(range(1, 4))"
   ]
  },
  {
   "cell_type": "code",
   "execution_count": 33,
   "metadata": {
    "collapsed": true,
    "jupyter": {
     "outputs_hidden": true
    },
    "tags": []
   },
   "outputs": [
    {
     "name": "stdout",
     "output_type": "stream",
     "text": [
      "Coordenada: 1, 1\n",
      "Coordenada: 1, 2\n",
      "Coordenada: 1, 3\n",
      "Coordenada: 2, 1\n",
      "Coordenada: 2, 2\n",
      "Casilla central\n",
      "Coordenada: 2, 3\n",
      "Coordenada: 3, 1\n",
      "Coordenada: 3, 2\n",
      "Coordenada: 3, 3\n"
     ]
    }
   ],
   "source": [
    "# Tablero 3 en raya\n",
    "for i in range(1, 4):\n",
    "    \n",
    "    \n",
    "    for j in range(1, 4):\n",
    "        \n",
    "        print(f'Coordenada: {i}, {j}')\n",
    "        # time.sleep(2)\n",
    "        if i == 2 and j == 2:\n",
    "            print(\"Casilla central\")"
   ]
  },
  {
   "cell_type": "markdown",
   "metadata": {},
   "source": [
    "<table align=\"left\">\n",
    " <tr><td width=\"80\"><img src=\"./img/error.png\" style=\"width:auto;height:auto\"></td>\n",
    "     <td style=\"text-align:left\">\n",
    "         <h3>ERRORES concatenado str + num</h3>\n",
    "         \n",
    " </td></tr>\n",
    "</table>"
   ]
  },
  {
   "cell_type": "markdown",
   "metadata": {},
   "source": [
    "Cuidado cuando estemos recorriendo una lista de numeros y en el print interno intentemos imprimir por pantalla su concatenado. ¡Hay que pasar el numero a string! o emplear otro método en el `print`."
   ]
  },
  {
   "cell_type": "code",
   "execution_count": null,
   "metadata": {
    "collapsed": true,
    "jupyter": {
     "outputs_hidden": true
    },
    "tags": []
   },
   "outputs": [],
   "source": [
    "for i in [1,2,3]:\n",
    "    print(\"Numero: \" + i)"
   ]
  },
  {
   "cell_type": "markdown",
   "metadata": {},
   "source": [
    "### Función range\n",
    "Es muy común usar la función `range()` en las condiciones de un bucle. Esta función puede funcionar con un único argumento numérico y su output es un **iterable**, comprendido entre el 0 y el número introducido como argumento.\n",
    "\n",
    "Verás en [la documentación](https://www.w3schools.com/python/ref_func_range.asp) que `range()` tiene más posibilidades, combinando sus argumentos."
   ]
  },
  {
   "cell_type": "code",
   "execution_count": 36,
   "metadata": {},
   "outputs": [
    {
     "data": {
      "text/plain": [
       "[1, 2, 3, 4, 5]"
      ]
     },
     "execution_count": 36,
     "metadata": {},
     "output_type": "execute_result"
    }
   ],
   "source": [
    "list(range(1, 6))"
   ]
  },
  {
   "cell_type": "code",
   "execution_count": 38,
   "metadata": {},
   "outputs": [
    {
     "name": "stdout",
     "output_type": "stream",
     "text": [
      "[0, 1, 2, 3, 4, 5]\n",
      "[0, 1, 2, 3, 4, 5]\n",
      "[0, 2, 4]\n",
      "[2, 3, 4, 5]\n",
      "[10, 8, 6, 4, 2, 0]\n"
     ]
    }
   ],
   "source": [
    "print(list(range(6)))\n",
    "print(list(range(0, 6, 1)))\n",
    "print(list(range(0, 6, 2)))\n",
    "print(list(range(2, 6, 1)))\n",
    "print(list(range(10, -1, -2)))"
   ]
  },
  {
   "cell_type": "markdown",
   "metadata": {},
   "source": [
    "En ocasiones nos interesa iterar sobre la posición que tiene cada elemento dentro de un iterable. Para ello podemos combinar `range` con `len` dentro de las condiciones del bucle"
   ]
  },
  {
   "cell_type": "code",
   "execution_count": 39,
   "metadata": {},
   "outputs": [
    {
     "data": {
      "text/plain": [
       "[0, 1, 2]"
      ]
     },
     "execution_count": 39,
     "metadata": {},
     "output_type": "execute_result"
    }
   ],
   "source": [
    "list(range(3))"
   ]
  },
  {
   "cell_type": "code",
   "execution_count": 40,
   "metadata": {},
   "outputs": [
    {
     "data": {
      "text/plain": [
       "3"
      ]
     },
     "execution_count": 40,
     "metadata": {},
     "output_type": "execute_result"
    }
   ],
   "source": [
    "colores = ['rojo', 'verde', 'azul']\n",
    "len(colores)"
   ]
  },
  {
   "cell_type": "code",
   "execution_count": 41,
   "metadata": {},
   "outputs": [
    {
     "name": "stdout",
     "output_type": "stream",
     "text": [
      "rojo\n",
      "verde\n",
      "azul\n"
     ]
    }
   ],
   "source": [
    "for color in colores:\n",
    "    print(color)"
   ]
  },
  {
   "cell_type": "code",
   "execution_count": 42,
   "metadata": {},
   "outputs": [
    {
     "data": {
      "text/plain": [
       "[0, 1, 2]"
      ]
     },
     "execution_count": 42,
     "metadata": {},
     "output_type": "execute_result"
    }
   ],
   "source": [
    "list(range(len(colores)))"
   ]
  },
  {
   "cell_type": "code",
   "execution_count": 43,
   "metadata": {},
   "outputs": [
    {
     "data": {
      "text/plain": [
       "'azul'"
      ]
     },
     "execution_count": 43,
     "metadata": {},
     "output_type": "execute_result"
    }
   ],
   "source": [
    "colores[2]"
   ]
  },
  {
   "cell_type": "code",
   "execution_count": 44,
   "metadata": {},
   "outputs": [
    {
     "name": "stdout",
     "output_type": "stream",
     "text": [
      "0 rojo\n",
      "1 verde\n",
      "2 azul\n"
     ]
    }
   ],
   "source": [
    "colores = ['rojo', 'verde', 'azul']\n",
    "\n",
    "for i in range(len(colores)):\n",
    "    print(i, colores[i])"
   ]
  },
  {
   "cell_type": "code",
   "execution_count": null,
   "metadata": {},
   "outputs": [],
   "source": [
    "colores = ['rojo', 'verde', 'azul']\n",
    "\n",
    "for color in colores:\n",
    "    print(color)"
   ]
  },
  {
   "cell_type": "markdown",
   "metadata": {},
   "source": [
    "### Función enumerate\n",
    "¿Y si dentro del bucle necesitamos tanto el elemento del iterable, como su índice? En [la documentación](https://www.w3schools.com/python/ref_func_enumerate.asp) verás que puedes elegir desde qué elemento de la lista quieres empezar."
   ]
  },
  {
   "cell_type": "code",
   "execution_count": 48,
   "metadata": {},
   "outputs": [
    {
     "data": {
      "text/plain": [
       "[(0, 'Pedro'), (1, 'Mariano'), (2, 'Jose Luis')]"
      ]
     },
     "execution_count": 48,
     "metadata": {},
     "output_type": "execute_result"
    }
   ],
   "source": [
    "names = [\"Pedro\", \"Mariano\", \"Jose Luis\"]\n",
    "list(enumerate(names))"
   ]
  },
  {
   "cell_type": "code",
   "execution_count": 50,
   "metadata": {},
   "outputs": [
    {
     "name": "stdout",
     "output_type": "stream",
     "text": [
      "0 Mates\n",
      "El indice es 0 y el valor es Mates\n",
      "\n",
      "1 Fisica\n",
      "El indice es 1 y el valor es Fisica\n",
      "\n",
      "2 Quimica\n",
      "El indice es 2 y el valor es Quimica\n",
      "\n",
      "3 Criptografia\n",
      "El indice es 3 y el valor es Criptografia\n",
      "\n"
     ]
    }
   ],
   "source": [
    "lista_prueba = ['Mates','Fisica','Quimica','Criptografia']\n",
    "for indice,valor in enumerate(lista_prueba):\n",
    "    print(indice,valor)\n",
    "    print('El indice es', indice, 'y el valor es', lista_prueba[indice])\n",
    "    print()"
   ]
  },
  {
   "cell_type": "code",
   "execution_count": 51,
   "metadata": {},
   "outputs": [
    {
     "name": "stdout",
     "output_type": "stream",
     "text": [
      "La longitud de las listas no coincide\n"
     ]
    }
   ],
   "source": [
    "\n",
    "# Ej anterior resuelto con enumerate\n",
    "\n",
    "notas_clase = [4,5,7,8,7,8,4,7]\n",
    "entregas = [False, True, True,True,True,True]\n",
    "\n",
    "if len(notas_clase) == len(entregas):\n",
    "\n",
    "    for i,nota in enumerate(notas_clase):\n",
    "        print(notas_clase[i])\n",
    "        if entregas[i]== True:\n",
    "            print('Subimos nota')\n",
    "            notas_clase[i]= notas_clase[i]+1\n",
    "else:\n",
    "    print('La longitud de las listas no coincide')\n",
    "    notas_clase"
   ]
  },
  {
   "cell_type": "code",
   "execution_count": null,
   "metadata": {},
   "outputs": [],
   "source": [
    "lista_prueba = list(enumerate(names))\n",
    "print(lista_prueba)"
   ]
  },
  {
   "cell_type": "code",
   "execution_count": null,
   "metadata": {},
   "outputs": [],
   "source": [
    "for i,elem in lista_prueba:\n",
    "    print(i)\n",
    "    print(elem)"
   ]
  },
  {
   "cell_type": "code",
   "execution_count": null,
   "metadata": {},
   "outputs": [],
   "source": [
    "tupla = (1,5)\n",
    "print(tupla)"
   ]
  },
  {
   "cell_type": "code",
   "execution_count": null,
   "metadata": {},
   "outputs": [],
   "source": [
    "var_1, var_2 = (1,5)\n",
    "print(var_1)\n",
    "print(var_2)"
   ]
  },
  {
   "cell_type": "code",
   "execution_count": null,
   "metadata": {},
   "outputs": [],
   "source": [
    "for index, name in enumerate(names):\n",
    "    print(f\"Nombre {index}: {name}\")\n",
    "    print(index)\n",
    "    print(name)"
   ]
  },
  {
   "cell_type": "code",
   "execution_count": null,
   "metadata": {},
   "outputs": [],
   "source": [
    "names = [\"Pedro\", \"Mariano\", \"Jose Luis\"]\n",
    "for i, x in enumerate(names):\n",
    "    print(i, x)"
   ]
  },
  {
   "cell_type": "code",
   "execution_count": null,
   "metadata": {},
   "outputs": [],
   "source": [
    "var, x = (1,2)\n",
    "print(var)\n",
    "print(type(var))"
   ]
  },
  {
   "cell_type": "code",
   "execution_count": null,
   "metadata": {},
   "outputs": [],
   "source": [
    "names = [[\"Pedro\",\"Paco\"], \"Mariano\", \"Jose Luis\"]\n",
    "\n",
    "list(enumerate(names))"
   ]
  },
  {
   "cell_type": "code",
   "execution_count": null,
   "metadata": {},
   "outputs": [],
   "source": [
    "names = [[\"Pedro\",\"Paco\"], \"Mariano\", \"Jose Luis\"]\n",
    "for index, name in enumerate(names):\n",
    "    print(f\"Nombre {index}: {name}\")\n",
    "    print(index)\n",
    "    print(name)\n",
    "\n",
    "    for j, element in enumerate(name):\n",
    "        print(j,element)"
   ]
  },
  {
   "cell_type": "code",
   "execution_count": null,
   "metadata": {},
   "outputs": [],
   "source": [
    "type(enumerate(names))"
   ]
  },
  {
   "cell_type": "markdown",
   "metadata": {},
   "source": [
    "<table align=\"left\">\n",
    " <tr><td width=\"80\"><img src=\"./img/error.png\" style=\"width:auto;height:auto\"></td>\n",
    "     <td style=\"text-align:left\">\n",
    "         <h3>ERRORES en los rangos</h3>\n",
    "         \n",
    " </td></tr>\n",
    "</table>"
   ]
  },
  {
   "cell_type": "markdown",
   "metadata": {},
   "source": [
    "Mucho cuidado al escribir las condiciones del bucle. Lo primero, porque podríamos tener condiciones infinitas de ejecución que ni nosotros, ni nuestro ordenador lo deseamos. Y lo segundo porque si intentamos acceder a un índice de nuestro iterable que no existe, saltará un error. Veamos ejemplo"
   ]
  },
  {
   "cell_type": "code",
   "execution_count": null,
   "metadata": {},
   "outputs": [],
   "source": [
    "list(range(4))"
   ]
  },
  {
   "cell_type": "code",
   "execution_count": null,
   "metadata": {},
   "outputs": [],
   "source": [
    "names = [\"Pedro\", \"Mariano\", \"Jose Luis\"]\n",
    "names[3]"
   ]
  },
  {
   "cell_type": "code",
   "execution_count": null,
   "metadata": {},
   "outputs": [],
   "source": [
    "names = [\"Pedro\", \"Mariano\", \"Jose Luis\"]\n",
    "\n",
    "for i in range(4):\n",
    "    print(i, names[i])"
   ]
  },
  {
   "cell_type": "markdown",
   "metadata": {},
   "source": [
    "Es por ello que se recomienda dejar el código lo más \"en automático\" posible. Poner en el range la longitud del iterable no es una buena práctica, ¿Y si mañana el iterable tiene menos nombres? saltará error. ¿Y si tiene más? No los tendremos en cuenta en el for. Por ello es mejor usar `len`."
   ]
  },
  {
   "cell_type": "markdown",
   "metadata": {},
   "source": [
    "<table align=\"left\">\n",
    " <tr><td width=\"80\"><img src=\"./img/ejercicio.png\" style=\"width:auto;height:auto\"></td>\n",
    "     <td style=\"text-align:left\">\n",
    "         <h3>Ejercicio bucle for</h3>\n",
    "\n",
    "Recorre la siguiente lista con un for, imprime únicamente los elementos múltiplos de 3, así como el índice que tengan dentro de la lista\n",
    "         \n",
    " </td></tr>\n",
    "</table>"
   ]
  },
  {
   "cell_type": "code",
   "execution_count": 98,
   "metadata": {},
   "outputs": [],
   "source": [
    "notas_clase = [4,5,7,3,4,6,5,5,4,5,5,6]\n"
   ]
  },
  {
   "cell_type": "code",
   "execution_count": null,
   "metadata": {},
   "outputs": [],
   "source": [
    "for nota in notas_clase:\n",
    "    if nota % 3 == 0:\n",
    "        print(nota)"
   ]
  },
  {
   "cell_type": "code",
   "execution_count": null,
   "metadata": {},
   "outputs": [],
   "source": [
    "len(notas_clase)"
   ]
  },
  {
   "cell_type": "code",
   "execution_count": null,
   "metadata": {},
   "outputs": [],
   "source": [
    "list(range(len(notas_clase)))"
   ]
  },
  {
   "cell_type": "code",
   "execution_count": null,
   "metadata": {},
   "outputs": [],
   "source": [
    "for i in range(len(notas_clase)):\n",
    "    if notas_clase[i] % 3 == 0:\n",
    "        print(i, notas_clase[i])"
   ]
  },
  {
   "cell_type": "code",
   "execution_count": null,
   "metadata": {},
   "outputs": [],
   "source": [
    "for i,nota in enumerate(notas_clase):\n",
    "    if nota % 3 == 0:\n",
    "        print(\"Posición\", i, \"Nota\", nota)"
   ]
  },
  {
   "cell_type": "markdown",
   "metadata": {},
   "source": [
    "## 4. Bucle while\n",
    "Se trata de otra manera de implementar un bucle en programación. Los bucles tienen que ir siempre limitados. En el caso del `for`, le poníamos un número concreto de ejecuciones, según el iterable que estuviésemos recorriendo. Para el `while` es algo diferente. Tiene una **condición de ejecución**, que mientras que se cumpla (`True`), seguirá ejecutando una y otra vez. Por otro lado, el bucle tiene una **variable de ejecucón**, al igual que en el `for`, que se irá actualizando con cada vuelta, y es esa variable la que determina cuándo acaba el bucle.\n",
    "\n",
    "![imagen](./img/while-loop.png)"
   ]
  },
  {
   "cell_type": "markdown",
   "metadata": {},
   "source": [
    "**Cuidado** con estos bucles ya que es muy fácil olvidarnos de actualiza la variable de ejecución, o equivocarnos en la condición de ejecución. Si esto ocurre el código se quedará corriendo hasta que detengamos el kernel (botón *interrupt the kernel*, arriba al lado del Run)\n",
    "\n",
    "Veamos un ejemplo."
   ]
  },
  {
   "cell_type": "code",
   "execution_count": 52,
   "metadata": {},
   "outputs": [],
   "source": [
    "import time"
   ]
  },
  {
   "cell_type": "code",
   "execution_count": 53,
   "metadata": {},
   "outputs": [
    {
     "name": "stdout",
     "output_type": "stream",
     "text": [
      "0\n",
      "1\n",
      "2\n",
      "3\n",
      "4\n",
      "Fin programa\n"
     ]
    }
   ],
   "source": [
    "i = 0\n",
    "\n",
    "while i < 5:\n",
    "    print(i)\n",
    "    \n",
    "    i = i + 1 # i += 1\n",
    "\n",
    "    time.sleep(5)\n",
    "    \n",
    "# print(i)\n",
    "print(\"Fin programa\")"
   ]
  },
  {
   "cell_type": "code",
   "execution_count": 54,
   "metadata": {},
   "outputs": [
    {
     "name": "stdout",
     "output_type": "stream",
     "text": [
      "Prueba\n",
      "Prueba\n",
      "Prueba\n",
      "Prueba\n",
      "Prueba\n",
      "Prueba\n",
      "Prueba\n",
      "Prueba\n",
      "Prueba\n",
      "Prueba\n",
      "Prueba\n",
      "Prueba\n",
      "Prueba\n",
      "Prueba\n",
      "Prueba\n",
      "Prueba\n",
      "Prueba\n",
      "Prueba\n",
      "Prueba\n",
      "Prueba\n"
     ]
    },
    {
     "ename": "KeyboardInterrupt",
     "evalue": "",
     "output_type": "error",
     "traceback": [
      "\u001b[1;31m---------------------------------------------------------------------------\u001b[0m",
      "\u001b[1;31mKeyboardInterrupt\u001b[0m                         Traceback (most recent call last)",
      "Cell \u001b[1;32mIn[54], line 3\u001b[0m\n\u001b[0;32m      1\u001b[0m \u001b[38;5;28;01mwhile\u001b[39;00m \u001b[38;5;28;01mTrue\u001b[39;00m:\n\u001b[0;32m      2\u001b[0m     \u001b[38;5;28mprint\u001b[39m(\u001b[38;5;124m\"\u001b[39m\u001b[38;5;124mPrueba\u001b[39m\u001b[38;5;124m\"\u001b[39m)\n\u001b[1;32m----> 3\u001b[0m     \u001b[43mtime\u001b[49m\u001b[38;5;241;43m.\u001b[39;49m\u001b[43msleep\u001b[49m\u001b[43m(\u001b[49m\u001b[38;5;241;43m2\u001b[39;49m\u001b[43m)\u001b[49m\n",
      "\u001b[1;31mKeyboardInterrupt\u001b[0m: "
     ]
    }
   ],
   "source": [
    "while True:\n",
    "    print(\"Prueba\")\n",
    "    time.sleep(2)"
   ]
  },
  {
   "cell_type": "code",
   "execution_count": 55,
   "metadata": {},
   "outputs": [],
   "source": [
    "### Calcular el numero de veces que hay que doblar un papel para que llegue a un grosor de 2mm cuando el folio tiene un grosor de 0.1 mm"
   ]
  },
  {
   "cell_type": "code",
   "execution_count": 60,
   "metadata": {},
   "outputs": [
    {
     "name": "stdout",
     "output_type": "stream",
     "text": [
      "grosor es 0.2 y hemos doblado 1 veces\n",
      "grosor es 0.4 y hemos doblado 2 veces\n",
      "grosor es 0.8 y hemos doblado 3 veces\n",
      "grosor es 1.6 y hemos doblado 4 veces\n",
      "grosor es 3.2 y hemos doblado 5 veces\n",
      "Lo hemos tenido que doblar 5 veces\n"
     ]
    }
   ],
   "source": [
    "grosor = 0.1\n",
    "contador = 0\n",
    "\n",
    "while grosor < 2:\n",
    "    grosor = grosor *2\n",
    "    contador = contador + 1\n",
    "    print('grosor es',grosor,'y hemos doblado',contador,'veces')\n",
    "\n",
    "print('Lo hemos tenido que doblar',contador,'veces')"
   ]
  },
  {
   "cell_type": "markdown",
   "metadata": {},
   "source": [
    "## Calculadora\n",
    "#### 1. Se le piden al usuario que introduzca dos numeros \n",
    "#### 2. Se le pregunta qué operación quiere realizar y la realiza\n",
    "#### 3. En case de que el usuario quiera salir se acaba el programa\n",
    "#### 4. En caso contrario se vuelve a pedir dos números, operación, etc.\n"
   ]
  },
  {
   "cell_type": "code",
   "execution_count": null,
   "metadata": {},
   "outputs": [],
   "source": []
  },
  {
   "cell_type": "code",
   "execution_count": 2,
   "metadata": {},
   "outputs": [
    {
     "ename": "ValueError",
     "evalue": "invalid literal for int() with base 10: 'texto'",
     "output_type": "error",
     "traceback": [
      "\u001b[1;31m---------------------------------------------------------------------------\u001b[0m",
      "\u001b[1;31mValueError\u001b[0m                                Traceback (most recent call last)",
      "Cell \u001b[1;32mIn[2], line 2\u001b[0m\n\u001b[0;32m      1\u001b[0m \u001b[38;5;28;01mwhile\u001b[39;00m(\u001b[38;5;28;01mTrue\u001b[39;00m):\n\u001b[1;32m----> 2\u001b[0m     num1 \u001b[38;5;241m=\u001b[39m \u001b[38;5;28;43mint\u001b[39;49m\u001b[43m(\u001b[49m\u001b[38;5;28;43minput\u001b[39;49m\u001b[43m(\u001b[49m\u001b[38;5;124;43m'\u001b[39;49m\u001b[38;5;124;43mIntroduce el primer numero\u001b[39;49m\u001b[38;5;124;43m'\u001b[39;49m\u001b[43m)\u001b[49m\u001b[43m)\u001b[49m\n\u001b[0;32m      3\u001b[0m     num2 \u001b[38;5;241m=\u001b[39m \u001b[38;5;28mint\u001b[39m(\u001b[38;5;28minput\u001b[39m(\u001b[38;5;124m'\u001b[39m\u001b[38;5;124mintroduce el segundo numero\u001b[39m\u001b[38;5;124m'\u001b[39m))\n\u001b[0;32m      4\u001b[0m     operacion \u001b[38;5;241m=\u001b[39m \u001b[38;5;28minput\u001b[39m(\u001b[38;5;124m'\u001b[39m\u001b[38;5;124mintroduce una operacion (+/-/\u001b[39m\u001b[38;5;124m%\u001b[39m\u001b[38;5;124m/salir)\u001b[39m\u001b[38;5;124m'\u001b[39m)\n",
      "\u001b[1;31mValueError\u001b[0m: invalid literal for int() with base 10: 'texto'"
     ]
    }
   ],
   "source": [
    "while(True):\n",
    "    num1 = int(input('Introduce el primer numero'))\n",
    "    num2 = int(input('introduce el segundo numero'))\n",
    "    operacion = input('introduce una operacion (+/-/%/salir)')\n",
    "    #print(operacion)\n",
    "    if operacion == 'salir':\n",
    "        break\n",
    "    elif operacion == \"+\":\n",
    "        resultado = num1 + num2\n",
    "        print(f'El resultado del cálculo es {resultado}')\n",
    "    elif operacion == \"-\":\n",
    "        resultado = num1 - num2\n",
    "        print(f'El resultado del cálculo es {resultado}')\n",
    "    elif operacion == \"%\":\n",
    "        resultado = num1 / num2\n",
    "        print(f'El resultado del cálculo es {resultado}')\n",
    "    else:\n",
    "        print('operacion no valida')\n",
    "    print(resultado)\n",
    "\n"
   ]
  },
  {
   "cell_type": "code",
   "execution_count": null,
   "metadata": {},
   "outputs": [],
   "source": [
    "num1 = int(input('Introduce el primer numero'))"
   ]
  },
  {
   "cell_type": "code",
   "execution_count": 3,
   "metadata": {},
   "outputs": [
    {
     "ename": "SyntaxError",
     "evalue": "invalid syntax (1601431121.py, line 2)",
     "output_type": "error",
     "traceback": [
      "\u001b[1;36m  Cell \u001b[1;32mIn[3], line 2\u001b[1;36m\u001b[0m\n\u001b[1;33m    if num1_texto ... se puede convertir a entero:\u001b[0m\n\u001b[1;37m                  ^\u001b[0m\n\u001b[1;31mSyntaxError\u001b[0m\u001b[1;31m:\u001b[0m invalid syntax\n"
     ]
    }
   ],
   "source": [
    "num1_texto = input('Introduce un número')\n",
    "if num1_texto ... se puede convertir a entero:\n",
    "    num1 = int(num1_texto)\n",
    "else:\n",
    "    #print('Por favor introduce un numero')"
   ]
  },
  {
   "cell_type": "code",
   "execution_count": 6,
   "metadata": {},
   "outputs": [
    {
     "name": "stdout",
     "output_type": "stream",
     "text": [
      "conversion realizada con exito\n",
      "Esto se ejecuta siempre\n",
      "El programa sigue ejecutandose\n"
     ]
    }
   ],
   "source": [
    "num1_texto = input('Introduce un numero')\n",
    "try:\n",
    "    num1 = int(num1_texto)\n",
    "    print('conversion realizada con exito')\n",
    "except ValueError:\n",
    "    print('Eso no es un numero')\n",
    "finally:\n",
    "    print('Esto se ejecuta siempre')\n",
    "\n",
    "print('El programa sigue ejecutandose')"
   ]
  },
  {
   "cell_type": "code",
   "execution_count": 7,
   "metadata": {},
   "outputs": [
    {
     "name": "stdout",
     "output_type": "stream",
     "text": [
      "No se puede dividor por 0\n"
     ]
    }
   ],
   "source": [
    "num_float1 = 5.0\n",
    "num_float2 = 0.0\n",
    "try:\n",
    "    division = num_float1/num_float2\n",
    "except ZeroDivisionError:\n",
    "    print('No se puede dividor por 0')"
   ]
  },
  {
   "cell_type": "code",
   "execution_count": 8,
   "metadata": {},
   "outputs": [
    {
     "ename": "ZeroDivisionError",
     "evalue": "float division by zero",
     "output_type": "error",
     "traceback": [
      "\u001b[1;31m---------------------------------------------------------------------------\u001b[0m",
      "\u001b[1;31mZeroDivisionError\u001b[0m                         Traceback (most recent call last)",
      "Cell \u001b[1;32mIn[8], line 4\u001b[0m\n\u001b[0;32m      2\u001b[0m num1 \u001b[38;5;241m=\u001b[39m \u001b[38;5;28mfloat\u001b[39m(num1_texto)\n\u001b[0;32m      3\u001b[0m num2 \u001b[38;5;241m=\u001b[39m \u001b[38;5;241m7\u001b[39m\n\u001b[1;32m----> 4\u001b[0m division \u001b[38;5;241m=\u001b[39m \u001b[43mnum2\u001b[49m\u001b[43m \u001b[49m\u001b[38;5;241;43m/\u001b[39;49m\u001b[43m \u001b[49m\u001b[43mnum1\u001b[49m\n",
      "\u001b[1;31mZeroDivisionError\u001b[0m: float division by zero"
     ]
    }
   ],
   "source": [
    "num1_texto = input('Introduce un numero')\n",
    "num1 = float(num1_texto)\n",
    "num2 = 7\n",
    "division = num2 / num1"
   ]
  },
  {
   "cell_type": "code",
   "execution_count": 9,
   "metadata": {},
   "outputs": [],
   "source": [
    "try:\n",
    "    num1_texto = input('Introduce un numero')\n",
    "    num1 = float(num1_texto)\n",
    "    num2 = 7\n",
    "    division = num2 / num1\n",
    "except ValueError:\n",
    "    print('Eso no es un numero valido')\n",
    "    print(num1_texto)\n",
    "except ZeroDivisionError:\n",
    "    print('No se puede dividir por cero')"
   ]
  },
  {
   "cell_type": "code",
   "execution_count": 11,
   "metadata": {},
   "outputs": [
    {
     "name": "stdout",
     "output_type": "stream",
     "text": [
      "Ha surgido un problema: float division by zero\n"
     ]
    }
   ],
   "source": [
    "try:\n",
    "    num1_texto = input('Introduce un numero para dividir el 7')\n",
    "    num1 = float(num1_texto)\n",
    "    num2 = 7\n",
    "    division = num2 / num1\n",
    "except Exception as e:\n",
    "    print('Ha surgido un problema:',e)"
   ]
  },
  {
   "cell_type": "code",
   "execution_count": 12,
   "metadata": {},
   "outputs": [
    {
     "name": "stdout",
     "output_type": "stream",
     "text": [
      "invalid literal for int() with base 10: 'hola'\n",
      "invalid literal for int() with base 10: 'nndvoinwsonei'\n",
      "0.7777777777777778\n"
     ]
    }
   ],
   "source": [
    "entrada_valida = False\n",
    "while not entrada_valida:\n",
    "    try:\n",
    "        num1_texto = input('Introduce un numero para dividir el 7')\n",
    "        num1 = int(num1_texto)\n",
    "        entrada_valida = True\n",
    "    except Exception as e:\n",
    "        print(e)\n",
    "    \n",
    "# sigue el programe asegurandonos que el numero es valido\n",
    "\n",
    "division = 7 / num1\n",
    "\n",
    "print(division)"
   ]
  },
  {
   "cell_type": "code",
   "execution_count": 20,
   "metadata": {},
   "outputs": [
    {
     "name": "stdout",
     "output_type": "stream",
     "text": [
      "No se puede dividor por 0\n"
     ]
    },
    {
     "ename": "ZeroDivisionError",
     "evalue": "division by zero",
     "output_type": "error",
     "traceback": [
      "\u001b[1;31m---------------------------------------------------------------------------\u001b[0m",
      "\u001b[1;31mZeroDivisionError\u001b[0m                         Traceback (most recent call last)",
      "Cell \u001b[1;32mIn[20], line 16\u001b[0m\n\u001b[0;32m     13\u001b[0m \u001b[38;5;28;01mexcept\u001b[39;00m \u001b[38;5;167;01mZeroDivisionError\u001b[39;00m:\n\u001b[0;32m     14\u001b[0m     \u001b[38;5;28mprint\u001b[39m(\u001b[38;5;124m'\u001b[39m\u001b[38;5;124mNo se puede dividor por 0\u001b[39m\u001b[38;5;124m'\u001b[39m)\n\u001b[1;32m---> 16\u001b[0m division \u001b[38;5;241m=\u001b[39m \u001b[38;5;241;43m7\u001b[39;49m\u001b[43m \u001b[49m\u001b[38;5;241;43m/\u001b[39;49m\u001b[43m \u001b[49m\u001b[43mnum1\u001b[49m\n\u001b[0;32m     18\u001b[0m \u001b[38;5;28mprint\u001b[39m(division)\n",
      "\u001b[1;31mZeroDivisionError\u001b[0m: division by zero"
     ]
    }
   ],
   "source": [
    "while True:\n",
    "    try:\n",
    "        num1_texto = input('Introduce un numero para dividir el 7')\n",
    "        num1 = int(num1_texto)\n",
    "        break\n",
    "    except Exception as e:\n",
    "        print(e)\n",
    "    \n",
    "# sigue el programe asegurandonos que el numero es valido\n",
    "try:\n",
    "    division = 7 / num1\n",
    "    print(division)\n",
    "except ZeroDivisionError:\n",
    "    print('No se puede dividor por 0')\n",
    "\n",
    "division = 7 / num1\n",
    "\n",
    "print(division)"
   ]
  },
  {
   "cell_type": "code",
   "execution_count": 22,
   "metadata": {},
   "outputs": [
    {
     "name": "stdout",
     "output_type": "stream",
     "text": [
      "Operacion no válida\n"
     ]
    },
    {
     "ename": "NameError",
     "evalue": "name 'resultado' is not defined",
     "output_type": "error",
     "traceback": [
      "\u001b[1;31m---------------------------------------------------------------------------\u001b[0m",
      "\u001b[1;31mNameError\u001b[0m                                 Traceback (most recent call last)",
      "Cell \u001b[1;32mIn[22], line 32\u001b[0m\n\u001b[0;32m     30\u001b[0m \u001b[38;5;28;01melse\u001b[39;00m: \n\u001b[0;32m     31\u001b[0m     \u001b[38;5;28mprint\u001b[39m(\u001b[38;5;124m'\u001b[39m\u001b[38;5;124mOperacion no válida\u001b[39m\u001b[38;5;124m'\u001b[39m)\n\u001b[1;32m---> 32\u001b[0m \u001b[38;5;28mprint\u001b[39m(\u001b[43mresultado\u001b[49m)\n\u001b[0;32m     34\u001b[0m \u001b[38;5;28mprint\u001b[39m(division)\n",
      "\u001b[1;31mNameError\u001b[0m: name 'resultado' is not defined"
     ]
    }
   ],
   "source": [
    "while True:\n",
    "    try:\n",
    "        num1_texto = input('Introduce el primer numero')\n",
    "        num1 = int(num1_texto)\n",
    "        break\n",
    "    except Exception as e:\n",
    "        print(e)\n",
    "    \n",
    "\n",
    "while True:\n",
    "    try:\n",
    "        num1_texto = input('Introduce el segundo numero')\n",
    "        num1 = int(num1_texto)\n",
    "        break\n",
    "    except Exception as e:\n",
    "        print(e)\n",
    "    \n",
    "operacion = input('Que operacion quieres realizar? (+/-/*/%)')\n",
    "if operacion == '+':\n",
    "    resultado = num1 + num2\n",
    "elif operacion == '-':\n",
    "    resultado = num1 - num2\n",
    "elif operacion == '*':\n",
    "    resultado = num1 * num2\n",
    "elif operacion == '%':\n",
    "    try:\n",
    "        resultado = num1 / num2\n",
    "    except ZeroDivisionError:\n",
    "        print('No se puede dividor por 0')\n",
    "else: \n",
    "    print('Operacion no válida')\n",
    "print(resultado)\n",
    "\n",
    "print(division)"
   ]
  },
  {
   "cell_type": "code",
   "execution_count": 17,
   "metadata": {},
   "outputs": [
    {
     "ename": "TypeError",
     "evalue": "'int' object is not subscriptable",
     "output_type": "error",
     "traceback": [
      "\u001b[1;31m---------------------------------------------------------------------------\u001b[0m",
      "\u001b[1;31mTypeError\u001b[0m                                 Traceback (most recent call last)",
      "Cell \u001b[1;32mIn[17], line 4\u001b[0m\n\u001b[0;32m      2\u001b[0m indice \u001b[38;5;241m=\u001b[39m \u001b[38;5;241m0\u001b[39m\n\u001b[0;32m      3\u001b[0m \u001b[38;5;28;01mwhile\u001b[39;00m indice \u001b[38;5;241m<\u001b[39m \u001b[38;5;28mlen\u001b[39m(lista):\n\u001b[1;32m----> 4\u001b[0m     \u001b[38;5;28mprint\u001b[39m(\u001b[43mindice\u001b[49m\u001b[43m[\u001b[49m\u001b[43mindice\u001b[49m\u001b[43m]\u001b[49m)\n\u001b[0;32m      5\u001b[0m     indice \u001b[38;5;241m=\u001b[39m indice \u001b[38;5;241m+\u001b[39m \u001b[38;5;241m1\u001b[39m\n",
      "\u001b[1;31mTypeError\u001b[0m: 'int' object is not subscriptable"
     ]
    }
   ],
   "source": [
    "lista = [1,3,5,6,3,2,1,0]\n",
    "indice = 0\n",
    "while indice < len(lista):\n",
    "    print(indice[indice])\n",
    "    indice = indice + 1\n"
   ]
  },
  {
   "cell_type": "code",
   "execution_count": null,
   "metadata": {},
   "outputs": [],
   "source": [
    "break"
   ]
  },
  {
   "cell_type": "code",
   "execution_count": 67,
   "metadata": {},
   "outputs": [
    {
     "name": "stdout",
     "output_type": "stream",
     "text": [
      "4\n",
      "5\n",
      "6\n",
      "7\n",
      "8\n",
      "Hemos encontrado un 8\n"
     ]
    }
   ],
   "source": [
    "lista = [4,5,6,7,8,5,4,3,2,1]\n",
    "for elemento in lista:\n",
    "    print(elemento)\n",
    "    if elemento == 8:\n",
    "        print('Hemos encontrado un 8')\n",
    "        break"
   ]
  },
  {
   "cell_type": "code",
   "execution_count": 69,
   "metadata": {},
   "outputs": [
    {
     "name": "stdout",
     "output_type": "stream",
     "text": [
      "+\n",
      "+\n",
      "salir\n"
     ]
    }
   ],
   "source": [
    "while(True):\n",
    "    operacion = input('Introduce una operación (+/-/*/%/salir)')\n",
    "    print(operacion)\n",
    "    if operacion=='salir':\n",
    "        break"
   ]
  },
  {
   "cell_type": "code",
   "execution_count": null,
   "metadata": {},
   "outputs": [],
   "source": [
    "i = 0\n",
    "\n",
    "while i < 5:\n",
    "    print(i)\n",
    "    time.sleep(2)\n",
    "    \n",
    "print(\"Fin programa\")"
   ]
  },
  {
   "cell_type": "markdown",
   "metadata": {},
   "source": [
    "La manera más habitual de implementar estos bucles es:\n",
    "1. Declaro la **variable de ejecución fuera del bucle**\n",
    "2. Establezco una **condición de ejecución** para determinar cuándo queremos que se pare el bucle.\n",
    "3. **Actualizo la variable de ejecución** en cada iteración del bucle.\n"
   ]
  },
  {
   "cell_type": "markdown",
   "metadata": {},
   "source": [
    "<table align=\"left\">\n",
    " <tr><td width=\"80\"><img src=\"./img/ejercicio.png\" style=\"width:auto;height:auto\"></td>\n",
    "     <td style=\"text-align:left\">\n",
    "         <h3>Ejercicio bucle while</h3>\n",
    "\n",
    "Mediante un bucle while, calcula cuántas veces deberíamos doblar un folio de papel para alcanzar un grosor de 5 metros, considerando el grosor del folio de 1 milímetro\n",
    "         \n",
    " </td></tr>\n",
    "</table>"
   ]
  },
  {
   "cell_type": "code",
   "execution_count": 10,
   "metadata": {},
   "outputs": [
    {
     "name": "stdout",
     "output_type": "stream",
     "text": [
      "1 dobles con grosor de 2\n",
      "2 dobles con grosor de 4\n",
      "3 dobles con grosor de 8\n",
      "4 dobles con grosor de 16\n",
      "5 dobles con grosor de 32\n",
      "6 dobles con grosor de 64\n",
      "7 dobles con grosor de 128\n",
      "8 dobles con grosor de 256\n",
      "9 dobles con grosor de 512\n",
      "10 dobles con grosor de 1024\n",
      "11 dobles con grosor de 2048\n",
      "12 dobles con grosor de 4096\n",
      "13 dobles con grosor de 8192\n",
      "el numero total de dobles necesarios son: 13\n"
     ]
    }
   ],
   "source": [
    "grosor = 1\n",
    "dobles = 0\n",
    "\n",
    "while grosor < 5000:\n",
    "    grosor = grosor * 2\n",
    "    dobles = dobles + 1\n",
    "    print(dobles, 'dobles','con grosor de', grosor)\n",
    "    time.sleep(1)\n",
    "print('el numero total de dobles necesarios son:',dobles)"
   ]
  },
  {
   "cell_type": "code",
   "execution_count": 8,
   "metadata": {},
   "outputs": [
    {
     "name": "stdout",
     "output_type": "stream",
     "text": [
      "Dobles 1 con grosor de 2\n",
      "Dobles 2 con grosor de 4\n",
      "Dobles 3 con grosor de 8\n",
      "Dobles 4 con grosor de 16\n",
      "Dobles 5 con grosor de 32\n",
      "Dobles 6 con grosor de 64\n",
      "Dobles 7 con grosor de 128\n",
      "Dobles 8 con grosor de 256\n",
      "Dobles 9 con grosor de 512\n",
      "Dobles 10 con grosor de 1024\n",
      "Dobles 11 con grosor de 2048\n",
      "Dobles 12 con grosor de 4096\n",
      "Dobles 13 con grosor de 8192\n"
     ]
    }
   ],
   "source": [
    "grosor = 1\n",
    "dobles = 0\n",
    "\n",
    "while grosor < 5000:\n",
    "    grosor = grosor * 2\n",
    "    dobles = dobles + 1\n",
    "    print(\"Dobles\", dobles, \"con grosor de\", grosor)\n",
    "    time.sleep(2)"
   ]
  },
  {
   "cell_type": "markdown",
   "metadata": {},
   "source": [
    "## 5. Break/continue\n",
    "Son dos sentencias que podemo usar dentro de los bucles para evitar ejecutar código de más.\n",
    "\n",
    "### Break\n",
    "Se usa cuando queremos salir del bucle forzadamente. Imagina que eres una tienda y estás buscando con un for si al menos uno de los pedidos era un abrigo. Si has tenido 1000 pedidos, vas a tener que iterar sobre todos y mediante un `if`, comprobar si es un abrigo. Ahora bien, si el abrigo es el primer elemento de la lista, el `for` va a recorrer igualmente los otros 999 elementos, cuando no es necesario. Con un `break` podremos salirnos del bucle y continuar con el programa.\n",
    "\n",
    "![imagen](./img/break.jpg)"
   ]
  },
  {
   "cell_type": "code",
   "execution_count": null,
   "metadata": {},
   "outputs": [],
   "source": [
    "for i in [1,2,3,4]:\n",
    "    print(i)\n",
    "    if i > 2:\n",
    "        break\n"
   ]
  },
  {
   "cell_type": "code",
   "execution_count": null,
   "metadata": {},
   "outputs": [],
   "source": [
    "for val in \"string\":\n",
    "    if val == \"i\":\n",
    "        break\n",
    "        \n",
    "    print(val)\n",
    "\n",
    "print(\"Fin\")"
   ]
  },
  {
   "cell_type": "code",
   "execution_count": null,
   "metadata": {},
   "outputs": [],
   "source": [
    "i = 1\n",
    "\n",
    "while i < 5:\n",
    "    if i % 3 ==0:\n",
    "        break\n",
    "    print(i)\n",
    "    i = i + 1"
   ]
  },
  {
   "cell_type": "markdown",
   "metadata": {},
   "source": [
    "### Continue\n",
    "Esta sentencia se usa dentro de un bucle para indicarle que continue con el siguiente elemento del iterable. Al igual que con el `break`, nos sirve para evitar que se ejecute código de más. Volviendo al ejemplo anterior, si después de comprobar que tenemos un abrigo, hay 200 líneas más de código que se utiliza en otros casos, con un `continue` evitamos que se ejecute todo eso, hacemos lo que tengamos que hacer con el abrigo, y le decimos al bucle que pase al siguiente elemento, e ignore el resto del código.\n",
    "\n",
    "![imagen](./img/continue.jpg)"
   ]
  },
  {
   "cell_type": "code",
   "execution_count": 24,
   "metadata": {},
   "outputs": [
    {
     "name": "stdout",
     "output_type": "stream",
     "text": [
      "3\n",
      "5\n",
      "3\n",
      "2\n",
      "1\n",
      "6\n"
     ]
    }
   ],
   "source": [
    "lista = [3,4,5,4,3,2,1,6]\n",
    "for l in lista:\n",
    "    if l == 4:\n",
    "        continue\n",
    "    print(l)"
   ]
  },
  {
   "cell_type": "code",
   "execution_count": 26,
   "metadata": {},
   "outputs": [
    {
     "name": "stdout",
     "output_type": "stream",
     "text": [
      "s\n",
      "t\n",
      "r\n",
      "n\n",
      "g\n",
      "Fin\n"
     ]
    }
   ],
   "source": [
    "for val in \"string\":\n",
    "    if val == \"i\":\n",
    "        continue\n",
    "        # print(\"hola\")\n",
    "        \n",
    "    print(val)\n",
    "\n",
    "\n",
    "print(\"Fin\")"
   ]
  },
  {
   "cell_type": "code",
   "execution_count": 25,
   "metadata": {},
   "outputs": [
    {
     "name": "stdout",
     "output_type": "stream",
     "text": [
      "s\n",
      "t\n",
      "r\n",
      "i\n",
      "n\n",
      "g\n",
      "Fin\n"
     ]
    }
   ],
   "source": [
    "for val in \"string\":\n",
    "    if val == \"i\":\n",
    "        pass\n",
    "        # print(\"hola\")\n",
    "        \n",
    "    print(val)\n",
    "\n",
    "\n",
    "print(\"Fin\")"
   ]
  },
  {
   "cell_type": "markdown",
   "metadata": {},
   "source": [
    "**Los bucles `for` y `while`, así como `break` y `continue`, son sentencias complicadas de entender, y si es la primera vez que programas te va a suponer un cambio en la manera de pensar y de solucionar problemas, por ello te recomiendo que cojas papel y boli y hagas los primeros ejercicios de bucles viendo las iteraciones una a una y calculando manualmente todas las opeaciones de dentro del bucle.**"
   ]
  },
  {
   "cell_type": "markdown",
   "metadata": {},
   "source": [
    "## 6. Try/except\n",
    "¿Qué ocurre cuando hay un error en nuestro código? Se para toda la ejecución. Por muy buenos programadores que seamos, hay que contar siempre con que puede haber errores. Podemos llegar a controlarlos con sentencias `if/else`, por ejemplo si no sabemos muy bien los tipos de los datos, `if type(data) == float:` haces algo con floats, `else` haces otra cosa con otro tipo de datos, pero lo mejor es usar `try/except`.\n",
    "\n",
    "Ahora bien, si intuimos que el comportamiento de nuestro código puede ser algo impredecible, en programación podemos usar las sentencias `try/except` para capturar ese error, tomar decisiones, y que el código pueda continuar ejecutándose.\n",
    "\n",
    "La sintaxis es la siguiente:\n",
    "\n",
    "> ```Python\n",
    "> try:\n",
    ">     Código que puede contener errores\n",
    "> except:\n",
    ">     Qué hacer si nos encontramos con un error\n",
    "> ```"
   ]
  },
  {
   "cell_type": "code",
   "execution_count": null,
   "metadata": {},
   "outputs": [],
   "source": [
    "print(variable_)\n",
    "print(\"AAA\")"
   ]
  },
  {
   "cell_type": "code",
   "execution_count": null,
   "metadata": {},
   "outputs": [],
   "source": [
    "try:\n",
    "    print(variable_)\n",
    "except NameError:\n",
    "    print(\"El codigo tiene errores\")\n",
    "    pass\n",
    "    \n",
    "finally:\n",
    "    print(\"Se ejecuta igualmente\")\n",
    "    \n",
    "print(\"AAA\")"
   ]
  },
  {
   "cell_type": "code",
   "execution_count": null,
   "metadata": {},
   "outputs": [],
   "source": [
    "try:\n",
    "    print(variable_)\n",
    "except:\n",
    "    print(\"El codigo tiene errores\")\n",
    "    print(\"Se ejecuta igualmente\")\n",
    "    \n",
    "\n",
    "\n",
    "\n",
    "print(\"AAA\")"
   ]
  },
  {
   "cell_type": "code",
   "execution_count": null,
   "metadata": {},
   "outputs": [],
   "source": [
    "lista = [1,2,3]\n",
    "print(lista[5])\n",
    "print(\"Hola mundo\")"
   ]
  },
  {
   "cell_type": "code",
   "execution_count": null,
   "metadata": {},
   "outputs": [],
   "source": [
    "lista = [1,2,3]\n",
    "\n",
    "try:\n",
    "    print(lista[5])\n",
    "\n",
    "except NameError:\n",
    "    print(\"Error en el nombre\")\n",
    "    \n",
    "except:\n",
    "    print(\"Otro error\")"
   ]
  },
  {
   "cell_type": "code",
   "execution_count": 27,
   "metadata": {},
   "outputs": [
    {
     "name": "stdout",
     "output_type": "stream",
     "text": [
      "list index out of range\n",
      "AAA\n",
      "name 'variable_' is not defined\n",
      "BBB\n"
     ]
    }
   ],
   "source": [
    "lista = [1,2,3]\n",
    "\n",
    "try:\n",
    "    print(lista[5])\n",
    "except Exception as e: print(e)\n",
    "print('AAA')\n",
    "try:\n",
    "    print(variable_)\n",
    "except Exception as e: print(e)\n",
    "print('BBB')"
   ]
  },
  {
   "cell_type": "markdown",
   "metadata": {},
   "source": [
    "Hay un error en el código, pero no para el programa.\n",
    "\n",
    "Podemos ser un poco más específicos con los errores, y en función del tipo de error que nos de, tomaremos diferentes caminos"
   ]
  },
  {
   "cell_type": "markdown",
   "metadata": {},
   "source": [
    "### Tablero\n",
    "#### 1. Definir un tablero de 10 casillas de la siguiente manera \n",
    "#### El tablero es una lista que contiene 10 listas de 10 elementos\n",
    "#### Todos los elementos de esas 10 listas son el caracter '-'\n",
    "#### 2. Modificar la casilla tablero[2][4] a 'x'\n",
    "#### 3. Modificar la casilla tablero [5][6] a '0'\n",
    "#### 4. REcorrer el tablero buscando casillas que contengan un 'x' e imprimir sus coordenadas\n",
    "#### 5. Cuando encuentre la 'x' en la posicion 5,6 tiene que imprimir \"Encontrado 'x' en la posicion (5,6)"
   ]
  },
  {
   "cell_type": "code",
   "execution_count": 29,
   "metadata": {},
   "outputs": [
    {
     "name": "stdout",
     "output_type": "stream",
     "text": [
      "[[0, 0, 0, 0], [0, 0, 0, 0]]\n",
      "0\n"
     ]
    }
   ],
   "source": [
    "lista1 = [0,0,0,0]\n",
    "lista2 = [0,0,0,0]\n",
    "tablero = [lista1,lista2]\n",
    "print(tablero)\n",
    "print(tablero[0][0])\n"
   ]
  },
  {
   "cell_type": "code",
   "execution_count": 32,
   "metadata": {},
   "outputs": [],
   "source": [
    "tablero = \\\n",
    "[[0,0,0,0],[0,0,0,0],[0,0,0,0],[0,0,0,0]]\n",
    " \n",
    " \n",
    "\n"
   ]
  },
  {
   "cell_type": "code",
   "execution_count": 61,
   "metadata": {},
   "outputs": [
    {
     "data": {
      "text/plain": [
       "['-', '-', '-', '-', '-', '-', '-', '-', '-', '-']"
      ]
     },
     "execution_count": 61,
     "metadata": {},
     "output_type": "execute_result"
    }
   ],
   "source": [
    "lista3 = []\n",
    "for i in range(10):\n",
    "    lista3.append('-')\n",
    "lista3"
   ]
  },
  {
   "cell_type": "code",
   "execution_count": 68,
   "metadata": {},
   "outputs": [
    {
     "data": {
      "text/plain": [
       "['-', '-', '-', '-', '-', '-', '-', '-', '-', '-']"
      ]
     },
     "execution_count": 68,
     "metadata": {},
     "output_type": "execute_result"
    }
   ],
   "source": [
    "# tablero = \\ \n",
    "lista3 = []\n",
    "for i in range(10):\n",
    "    lista3.append('-')\n",
    "lista3"
   ]
  },
  {
   "cell_type": "code",
   "execution_count": 69,
   "metadata": {},
   "outputs": [
    {
     "data": {
      "text/plain": [
       "[['-', '-', '-', '-', '-', '-', '-', '-', '-', '-'],\n",
       " ['-', '-', '-', '-', '-', '-', '-', '-', '-', '-'],\n",
       " ['-', '-', '-', '-', '-', '-', '-', '-', '-', '-'],\n",
       " ['-', '-', '-', '-', '-', '-', '-', '-', '-', '-'],\n",
       " ['-', '-', '-', '-', '-', '-', '-', '-', '-', '-'],\n",
       " ['-', '-', '-', '-', '-', '-', '-', '-', '-', '-'],\n",
       " ['-', '-', '-', '-', '-', '-', '-', '-', '-', '-'],\n",
       " ['-', '-', '-', '-', '-', '-', '-', '-', '-', '-'],\n",
       " ['-', '-', '-', '-', '-', '-', '-', '-', '-', '-'],\n",
       " ['-', '-', '-', '-', '-', '-', '-', '-', '-', '-']]"
      ]
     },
     "execution_count": 69,
     "metadata": {},
     "output_type": "execute_result"
    }
   ],
   "source": [
    "lista4 = []\n",
    "for i in range(10):\n",
    "    lista4.append(lista3.copy())\n",
    "tablero = lista4\n",
    "tablero"
   ]
  },
  {
   "cell_type": "code",
   "execution_count": 70,
   "metadata": {},
   "outputs": [
    {
     "data": {
      "text/plain": [
       "[['-', '-', '-', '-', '-', '-', '-', '-', '-', '-'],\n",
       " ['-', '-', '-', '-', '-', '-', '-', '-', '-', '-'],\n",
       " ['-', '-', '-', '-', 'x', '-', '-', '-', '-', '-'],\n",
       " ['-', '-', '-', '-', '-', '-', '-', '-', '-', '-'],\n",
       " ['-', '-', '-', '-', '-', '-', '-', '-', '-', '-'],\n",
       " ['-', '-', '-', '-', '-', '-', '-', '-', '-', '-'],\n",
       " ['-', '-', '-', '-', '-', '-', '-', '-', '-', '-'],\n",
       " ['-', '-', '-', '-', '-', '-', '-', '-', '-', '-'],\n",
       " ['-', '-', '-', '-', '-', '-', '-', '-', '-', '-'],\n",
       " ['-', '-', '-', '-', '-', '-', '-', '-', '-', '-']]"
      ]
     },
     "execution_count": 70,
     "metadata": {},
     "output_type": "execute_result"
    }
   ],
   "source": [
    "lista4[2][4] = \"x\"\n",
    "lista4"
   ]
  },
  {
   "cell_type": "code",
   "execution_count": 72,
   "metadata": {},
   "outputs": [
    {
     "data": {
      "text/plain": [
       "[['-', '-', '-', '-', '-', '-', '-', '-', '-', '-'],\n",
       " ['-', '-', '-', '-', '-', '-', '-', '-', '-', '-'],\n",
       " ['-', '-', '-', '-', 'x', '-', '-', '-', '-', '-'],\n",
       " ['-', '-', '-', '-', '-', '-', '-', '-', '-', '-'],\n",
       " ['-', '-', '-', '-', '-', '-', '-', '-', '-', '-'],\n",
       " ['-', '-', '-', '-', '-', '-', '0', '-', '-', '-'],\n",
       " ['-', '-', '-', '-', '-', '-', '-', '-', '-', '-'],\n",
       " ['-', '-', '-', '-', '-', '-', '-', '-', '-', '-'],\n",
       " ['-', '-', '-', '-', '-', '-', '-', '-', '-', '-'],\n",
       " ['-', '-', '-', '-', '-', '-', '-', '-', '-', '-']]"
      ]
     },
     "execution_count": 72,
     "metadata": {},
     "output_type": "execute_result"
    }
   ],
   "source": [
    "lista4[5][6] = \"0\"\n",
    "lista4"
   ]
  },
  {
   "cell_type": "code",
   "execution_count": 73,
   "metadata": {},
   "outputs": [
    {
     "name": "stdout",
     "output_type": "stream",
     "text": [
      "Tocado en las coordenadas ([i],[j])\n"
     ]
    }
   ],
   "source": [
    "for i in range(10):\n",
    "    for j in range(10):\n",
    "        if tablero[i][j]== \"x\":\n",
    "            print(f'Tocado en las coordenadas ([i],[j])')"
   ]
  },
  {
   "cell_type": "code",
   "execution_count": null,
   "metadata": {},
   "outputs": [],
   "source": []
  },
  {
   "cell_type": "markdown",
   "metadata": {},
   "source": [
    "## 7. Resumen"
   ]
  },
  {
   "cell_type": "code",
   "execution_count": 74,
   "metadata": {},
   "outputs": [
    {
     "name": "stdout",
     "output_type": "stream",
     "text": [
      "Notable\n",
      "Lunes\n",
      "Martes\n",
      "Miércoles\n",
      "Jueves\n",
      "Viernes\n",
      "Sábado\n",
      "Domingo\n",
      "0\n",
      "1\n",
      "2\n",
      "3\n",
      "4\n",
      "s\n",
      "t\n",
      "r\n",
      "Fin\n",
      "El codigo tiene errores porque la variable 'variable_' no existe\n",
      "Continuo con el programa\n"
     ]
    }
   ],
   "source": [
    "# If/elif/else\n",
    "mi_nota_de_examen = 7\n",
    "\n",
    "if mi_nota_de_examen < 5 :\n",
    "    print(\"A septiembre :(\")\n",
    "\n",
    "elif mi_nota_de_examen < 6 :\n",
    "    print(\"Suficiente\")\n",
    "    \n",
    "elif mi_nota_de_examen < 7 :\n",
    "    print(\"Bien\")\n",
    "    \n",
    "elif mi_nota_de_examen < 9 :\n",
    "    print(\"Notable\")\n",
    "    \n",
    "else:\n",
    "    print(\"Sobresaliente\")\n",
    "    \n",
    "    \n",
    "# Bucle for\n",
    "dias_semana = [\"Lunes\", \"Martes\", \"Miércoles\", \"Jueves\", \"Viernes\", \"Sábado\", \"Domingo\"]\n",
    "\n",
    "for dia in dias_semana:\n",
    "    print(dia)\n",
    "    \n",
    "    \n",
    "# Bucle while\n",
    "i = 0\n",
    "\n",
    "while(i < 5):\n",
    "    print(i)\n",
    "    i = i + 1\n",
    "    \n",
    "    \n",
    "# Break y continue\n",
    "for val in \"string\":\n",
    "    if val == \"i\":\n",
    "        break\n",
    "    print(val)\n",
    "\n",
    "print(\"Fin\")\n",
    "\n",
    "\n",
    "# Try/except\n",
    "try:\n",
    "  print(variable_)\n",
    "except:\n",
    "  print(\"El codigo tiene errores porque la variable 'variable_' no existe\")\n",
    "\n",
    "print(\"Continuo con el programa\")"
   ]
  }
 ],
 "metadata": {
  "kernelspec": {
   "display_name": "Python 3.7.4 64-bit",
   "language": "python",
   "name": "python3"
  },
  "language_info": {
   "codemirror_mode": {
    "name": "ipython",
    "version": 3
   },
   "file_extension": ".py",
   "mimetype": "text/x-python",
   "name": "python",
   "nbconvert_exporter": "python",
   "pygments_lexer": "ipython3",
   "version": "3.9.6"
  },
  "vscode": {
   "interpreter": {
    "hash": "90139cb9a825bf3d63f6f6704e828dbd1ff7edbd4d0c6e906a71235d6efc74af"
   }
  }
 },
 "nbformat": 4,
 "nbformat_minor": 4
}
