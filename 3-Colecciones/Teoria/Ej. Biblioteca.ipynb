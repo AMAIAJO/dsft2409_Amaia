{
 "cells": [
  {
   "cell_type": "markdown",
   "metadata": {},
   "source": [
    "# Biblioteca\n",
    "## 1. Inicializar una biblioteca con 3 libros, para cada uno de ellos: titulo, autor , año\n",
    "## 2. Hacer un menu de usuario con las siguientes opciones:\n",
    "### 2.1 Imprimir biblioteca\n",
    "### 2.2 buscar libro por titulo e imprimir su informacion\n",
    "### 2.3 Añadir libro: El usuario tiene que meter la información mediante input (titulo, autor, año)\n",
    "### 2.4 Eliminar libro: Borrar el libro (buscado por autor)de la biblioteca\n"
   ]
  },
  {
   "cell_type": "code",
   "execution_count": 16,
   "metadata": {},
   "outputs": [
    {
     "name": "stdout",
     "output_type": "stream",
     "text": [
      "[{'titulo': 'La casa de los espiritus', 'autor': 'I. Allende', 'año': 1982}, {'titulo': 'La sombra del viento', 'autor': 'C.r. Zafon', 'año': 2001}, {'titulo': 'Las hijas de la criada', 'autor': 'S. Onega', 'año': 2023}]\n",
      "[{'autor': 'I. Allende', 'año': 1982, 'titulo': 'La casa de los espiritus'},\n",
      " {'autor': 'C.r. Zafon', 'año': 2001, 'titulo': 'La sombra del viento'},\n",
      " {'autor': 'S. Onega', 'año': 2023, 'titulo': 'Las hijas de la criada'}]\n"
     ]
    }
   ],
   "source": [
    "# Definicion de los libros:\n",
    "\n",
    "libro_1={'titulo':\"La casa de los espiritus\", 'autor':'I. Allende', 'año': 1982}\n",
    "libro_2={'titulo':\"La sombra del viento\", 'autor':'C.r. Zafon', 'año': 2001}\n",
    "libro_3={'titulo':\"Las hijas de la criada\", 'autor':'S. Onega', 'año': 2023}\n",
    "\n",
    "# Creamos biblioteca como la lista de todos los libros\n",
    "biblio= [libro_1,libro_2,libro_3]\n",
    "print(biblio)\n",
    "import pprint\n",
    "pprint.pprint(biblio)"
   ]
  },
  {
   "cell_type": "code",
   "execution_count": 17,
   "metadata": {},
   "outputs": [],
   "source": [
    "# Búsqueda por título:\n",
    "\n",
    "titulo_busqueda_libro = input('Inserte el título del libro que quiere consultar: ')\n"
   ]
  },
  {
   "cell_type": "code",
   "execution_count": 18,
   "metadata": {},
   "outputs": [],
   "source": [
    "# Resultado de la busqueda positivo:\n",
    "\n",
    "libro_encontrado = None"
   ]
  },
  {
   "cell_type": "code",
   "execution_count": 21,
   "metadata": {},
   "outputs": [
    {
     "name": "stdout",
     "output_type": "stream",
     "text": [
      "Título encontrado con la siguiente información: I. Allende, 1982\n"
     ]
    }
   ],
   "source": [
    "# Buscar en la biblioteca:\n",
    "\n",
    "for libro in biblio:\n",
    "    if titulo_busqueda_libro.lower() == libro['titulo'].lower():\n",
    "        libro_encontrado = libro\n",
    "        break\n",
    "if libro_encontrado:\n",
    "    print(f'Título encontrado con la siguiente información: {libro_encontrado[\"autor\"]}, {libro_encontrado[\"año\"]}')\n",
    "    \n",
    "\n",
    "else:\n",
    "    print('el titulo introducido no forma parte de la biblioteca')"
   ]
  },
  {
   "cell_type": "code",
   "execution_count": 3,
   "metadata": {},
   "outputs": [],
   "source": [
    "biblioteca2 =[{'titulo':'rollo', 'autor':'chapas', 'año':1900 },\n",
    "              {'titulo':'tocho', 'autor':'el mas listo', 'año':1800 },\n",
    "              {'titulo':'fino', 'autor':'vago', 'año':1700 }]"
   ]
  },
  {
   "cell_type": "code",
   "execution_count": 4,
   "metadata": {},
   "outputs": [
    {
     "name": "stdout",
     "output_type": "stream",
     "text": [
      "Gracias por usar nuestros servicios, adios\n"
     ]
    }
   ],
   "source": [
    "opcion = input(\"Selecciona una opción (1-5): 1. Imprimir biblioteca,2. Buscar libro por título, 3. Añadir libro,4. Eliminar libro por autor, 5. Salir\")\n",
    "cerrar_programa = False\n",
    "while cerrar_programa == False:\n",
    "    if opcion == '1':\n",
    "        if len(biblioteca2) == 0:\n",
    "            print(\"La biblioteca está vacía.\")\n",
    "        else:\n",
    "            for i, libro in enumerate(biblioteca2):\n",
    "                print(f\"{i+1}. Título: {libro['titulo']}, Autor: {libro['autor']}, Año: {libro['año']}\")\n",
    "                break\n",
    "                #for i in range(len(biblioteca2)):\n",
    "                    #print(f\"{i+1}. Título: {biblioteca2[i]['titulo']}, Autor: {biblioteca2[i]['autor']}, Año: {biblioteca2[i]['año']}\")\n",
    "\n",
    "    elif opcion == '2':\n",
    "            titulo = input(\"Introduce el título del libro a buscar: \")\n",
    "            encontrado = False\n",
    "            for libro in biblioteca2:\n",
    "                if libro[\"titulo\"].lower() == titulo.lower():\n",
    "                    print(f\"Título: {libro['titulo']}, Autor: {libro['autor']}, Año: {libro['año']}\")\n",
    "                    encontrado = True\n",
    "                    break\n",
    "                if not encontrado:\n",
    "                    print(\"No se encontró ningún libro con ese título.\")\n",
    "\n",
    "    elif opcion == '3':\n",
    "        titulo = input(\"Introduce el título del libro: \")\n",
    "        autor = input(\"Introduce el autor del libro: \")\n",
    "        try:\n",
    "            año = int(input(\"Introduce el año de publicación: \"))\n",
    "            nuevo_libro = {\"titulo\": titulo, \"autor\": autor, \"año\": año}\n",
    "            biblioteca2.append(nuevo_libro)\n",
    "            print(f\"Libro '{titulo}' añadido con éxito.\")\n",
    "        except ValueError:\n",
    "            print(\"El año debe ser un número. no añadimos el libro si el año no es un numero\")\n",
    "            #año = 0\n",
    "        #nuevo_libro = {\"titulo\": titulo, \"autor\": autor, \"año\": año}\n",
    "        #biblioteca2.append(nuevo_libro)\n",
    "        #print(f\"Libro '{titulo}' añadido con éxito.\")\n",
    "        \n",
    "    elif opcion == '4':\n",
    "        autor = input(\"Introduce el autor del libro a eliminar: \")\n",
    "        #libro_eliminado = False\n",
    "        for libro in biblioteca2:\n",
    "            if libro[\"autor\"].lower() == autor.lower():\n",
    "                biblioteca2.remove(libro)\n",
    "                print(f\"Los libros del autor '{autor}' han sido eliminados.\")\n",
    "                #libro_eliminado = True\n",
    "                #break (con esto solo se elimina el primer libro encontrado)\n",
    "    elif opcion == '5':\n",
    "        print ('Gracias por usar nuestros servicios, adios')\n",
    "        cerrar_programa = True\n",
    "        exit\n",
    "    #tendria que haber utilizado un bucle while para que una vez que \n",
    "\n"
   ]
  },
  {
   "cell_type": "code",
   "execution_count": 5,
   "metadata": {},
   "outputs": [
    {
     "data": {
      "text/plain": [
       "[{'titulo': 'rollo', 'autor': 'chapas', 'año': 1900},\n",
       " {'titulo': 'tocho', 'autor': 'el mas listo', 'año': 1800},\n",
       " {'titulo': 'fino', 'autor': 'vago', 'año': 1700}]"
      ]
     },
     "execution_count": 5,
     "metadata": {},
     "output_type": "execute_result"
    }
   ],
   "source": [
    "biblioteca2"
   ]
  }
 ],
 "metadata": {
  "kernelspec": {
   "display_name": "Python 3",
   "language": "python",
   "name": "python3"
  },
  "language_info": {
   "codemirror_mode": {
    "name": "ipython",
    "version": 3
   },
   "file_extension": ".py",
   "mimetype": "text/x-python",
   "name": "python",
   "nbconvert_exporter": "python",
   "pygments_lexer": "ipython3",
   "version": "3.9.6"
  }
 },
 "nbformat": 4,
 "nbformat_minor": 2
}
