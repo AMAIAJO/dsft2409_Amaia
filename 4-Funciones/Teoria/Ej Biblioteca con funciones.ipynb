{
 "cells": [
  {
   "cell_type": "markdown",
   "metadata": {},
   "source": [
    "# Biblioteca\n",
    "## 1. Inicializar una biblioteca con 3 libros, para cada uno de ellos: titulo, autor , año\n",
    "## 2. Hacer un menu de usuario con las siguientes opciones:\n",
    "### 2.1 Imprimir biblioteca\n",
    "### 2.2 buscar libro por titulo e imprimir su informacion\n",
    "### 2.3 Añadir libro: El usuario tiene que meter la información mediante input (titulo, autor, año)\n",
    "### 2.4 Eliminar libro: Borrar el libro (buscado por autor)de la biblioteca\n"
   ]
  },
  {
   "cell_type": "code",
   "execution_count": 7,
   "metadata": {},
   "outputs": [
    {
     "name": "stdout",
     "output_type": "stream",
     "text": [
      "[{'autor': 'I. Allende', 'año': 1982, 'titulo': 'La casa de los espiritus'},\n",
      " {'autor': 'C.r. Zafon', 'año': 2001, 'titulo': 'La sombra del viento'},\n",
      " {'autor': 'S. Onega', 'año': 2023, 'titulo': 'Las hijas de la criada'}]\n"
     ]
    }
   ],
   "source": [
    "# Definicion de los libros:\n",
    "\n",
    "libro_1={'titulo':\"La casa de los espiritus\", 'autor':'I. Allende', 'año': 1982}\n",
    "libro_2={'titulo':\"La sombra del viento\", 'autor':'C.r. Zafon', 'año': 2001}\n",
    "libro_3={'titulo':\"Las hijas de la criada\", 'autor':'S. Onega', 'año': 2023}\n",
    "\n",
    "# Creamos biblioteca como la lista de todos los libros\n",
    "biblio= [libro_1,libro_2,libro_3]\n",
    "import pprint\n",
    "pprint.pprint(biblio)"
   ]
  },
  {
   "cell_type": "code",
   "execution_count": 8,
   "metadata": {},
   "outputs": [],
   "source": [
    "# Definición de las funciones (Divide y vencerás)\n",
    "\n",
    "def opcion_imprimir_biblioteca(): #Imprime el contenido completo de la biblioteca usando pprint.\n",
    "    pprint.pprint(biblio)\n",
    "    \n",
    "\n",
    "def opcion_buscar_libro_por_titulo(): #Busca un libro por su título, ignorando mayúsculas/minúsculas, e imprime la información si se encuentra. Muestra un mensaje si no se encuentra el libro.\n",
    "    titulo = input('Introduce el título del libro que quiere consultar: ')\n",
    "    encontrado = False\n",
    "    for libro in biblio:\n",
    "        if libro['titulo'].lower() == titulo.lower():\n",
    "            print(f\"Titulo: {libro['titulo']}, Autor: {libro['autor']}, Año:{libro['año']}\")\n",
    "            encontrado = True\n",
    "            break\n",
    "    if not encontrado:\n",
    "            print(f\"No se encontró ningún libro con ese título\")\n",
    "\n",
    "def opcion_añadir_libro(): #Añade un libro nuevo a la biblioteca con los datos proporcionados por el usuario.\n",
    "    titulo = input('Introduce el título del nuevo libro a añadir')\n",
    "    autor = input('Introduce el autor del nuevo libro a añadir')\n",
    "    try:\n",
    "        año = int(input('Introduce el año de publicación del nuevo libro a añadir'))\n",
    "        nuevo_libro = {'titulo': titulo, 'autor': autor, 'año': año}\n",
    "        biblio.append(nuevo_libro)\n",
    "        print(f\"Libro '{titulo}' añadido con éxito a la biblioteca\")\n",
    "    except ValueError:\n",
    "        print('El año de publicación del libro debe de ser un número, no se puede añadir libro a la biblioteca')\n",
    "\n",
    "def opcion_eliminar(): #Elimina los libros de un autor dado. Si se encuentran, los elimina y muestra un mensaje. Si no se encuentra, informa al usuario.\n",
    "    autor = input('Introduce el autor del libro a eliminar de la biblioteca')\n",
    "    encontrado = False\n",
    "    for libro in biblio:\n",
    "        if libro['autor'].lower() == autor.lower():\n",
    "            biblio.remove(libro)\n",
    "            print(f\"Los libros del autor {'autor'} han sido eliminados de la biblioteca\")\n",
    "    if not encontrado:\n",
    "            print(f\"Autor {'autor'} no encontrado en la biblioteca, ningún libro ha sido eliminado\")\n",
    "\n",
    "def opcion_salir(): #Muestra un mensaje cuando se decide salir del programa.\n",
    "    print('Cerrando biblioteca')"
   ]
  },
  {
   "cell_type": "code",
   "execution_count": 10,
   "metadata": {},
   "outputs": [
    {
     "name": "stdout",
     "output_type": "stream",
     "text": [
      "[{'autor': 'I. Allende', 'año': 1982, 'titulo': 'La casa de los espiritus'},\n",
      " {'autor': 'C.r. Zafon', 'año': 2001, 'titulo': 'La sombra del viento'},\n",
      " {'autor': 'S. Onega', 'año': 2023, 'titulo': 'Las hijas de la criada'}]\n",
      "Titulo: La casa de los espiritus, Autor: I. Allende, Año:1982\n",
      "Libro 'Dime quien soy' añadido con éxito a la biblioteca\n",
      "Libro 'Dracula' añadido con éxito a la biblioteca\n",
      "Los libros del autor autor han sido eliminados de la biblioteca\n",
      "Autor autor no encontrado en la biblioteca, ningún libro ha sido eliminado\n",
      "Cerrando biblioteca\n"
     ]
    }
   ],
   "source": [
    "cerrar_programa = False\n",
    "while cerrar_programa == False: #Bucle principal\n",
    "    opcion = input(\"Selecciona una opción (1-5):\\n1.Imprimir biblioteca completa\\n2.Buscar libro por título\\n3.Añadir libro\\n4.Eliminar libro\\n5.Salir de la biblioteca\")\n",
    "\n",
    "    if opcion == \"1\":\n",
    "        opcion_imprimir_biblioteca()\n",
    "    elif opcion== \"2\":\n",
    "        opcion_buscar_libro_por_titulo()\n",
    "    elif opcion== \"3\":\n",
    "        opcion_añadir_libro()\n",
    "    elif opcion== \"4\":\n",
    "        opcion_eliminar()    \n",
    "    elif opcion== \"5\":\n",
    "        opcion_salir()\n",
    "        cerrar_programa = True #Se cierra el bucle\n",
    "    else:\n",
    "        print(\"Opcion no válida, por favor selecciona una opción entre 1 y 5\")\n",
    "        "
   ]
  },
  {
   "cell_type": "code",
   "execution_count": null,
   "metadata": {},
   "outputs": [],
   "source": [
    "\n",
    "    "
   ]
  }
 ],
 "metadata": {
  "kernelspec": {
   "display_name": "Python 3",
   "language": "python",
   "name": "python3"
  },
  "language_info": {
   "codemirror_mode": {
    "name": "ipython",
    "version": 3
   },
   "file_extension": ".py",
   "mimetype": "text/x-python",
   "name": "python",
   "nbconvert_exporter": "python",
   "pygments_lexer": "ipython3",
   "version": "3.9.6"
  }
 },
 "nbformat": 4,
 "nbformat_minor": 2
}
