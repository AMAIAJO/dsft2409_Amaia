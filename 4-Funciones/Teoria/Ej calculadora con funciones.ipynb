{
 "cells": [
  {
   "cell_type": "markdown",
   "metadata": {},
   "source": [
    "# Calculadora\n",
    "## 1. Hacer un menu de usuario con las siguientes opciones:\n",
    "### 2.1 Sumar\n",
    "### 2.2 Restar\n",
    "### 2.3 Multiplicar\n",
    "### 2.4 Dividir"
   ]
  },
  {
   "cell_type": "code",
   "execution_count": 7,
   "metadata": {},
   "outputs": [],
   "source": [
    "# Definición de las funciones (Divide y vencerás)\n",
    "\n",
    "## Definicion de las operaciones:\n",
    "\n",
    "def suma(num1,num2):\n",
    "    return num1+num2\n",
    "\n",
    "def resta(num1, num2):\n",
    "    return num1-num2\n",
    "\n",
    "def multiplicacion(num1,num2):\n",
    "    return num1*num2\n",
    "\n",
    "def division(num1,num2):\n",
    "    return num1/num2\n",
    "\n",
    "## Definicion de las opciones de la calculadora\n",
    "\n",
    "def opcion_sumar(): #Suma los dos args\n",
    "    num1 = int(input('Introduce el primer numero'))\n",
    "    num2 = int(input('Introduce el segundo numero'))\n",
    "    total = suma(num1,num2)\n",
    "    print(total)\n",
    "\n",
    "def opcion_resta(): #Resta el segundo numero al primer numero\n",
    "    num1 = int(input('Introduce el primer numero'))\n",
    "    num2 = int(input('Introduce el segundo numero'))\n",
    "    total = resta(num1,num2)\n",
    "    print(total)\n",
    "\n",
    "def opcion_multiplicacion():#Multiplica ambos args\n",
    "    num1 = int(input('Introduce el primer numero'))\n",
    "    num2 = int(input('Introduce el segundo numero'))\n",
    "    total = multiplicacion(num1,num2)\n",
    "    print(total)\n",
    "\n",
    "def opcion_division():#Divide el primer arg entre el segundo arg\n",
    "    num1 = int(input('Introduce el primer numero'))\n",
    "    num2 = int(input('Introduce el segundo numero'))\n",
    "    total = division(num1,num2)\n",
    "    print(total)\n",
    "\n",
    "\n",
    "def opcion_salir():\n",
    "    print(\"Cerrando calculadora\")"
   ]
  },
  {
   "cell_type": "code",
   "execution_count": 9,
   "metadata": {},
   "outputs": [
    {
     "name": "stdout",
     "output_type": "stream",
     "text": [
      "25\n",
      "Cerrando calculadora\n"
     ]
    }
   ],
   "source": [
    "cerrar_calculadora = False\n",
    "while cerrar_calculadora == False: #Bucle principal\n",
    "    opcion = input(\"Selecciona un opción (1-5):\\n1.Sumar\\n2.Restar\\n3.Multiplicar\\n4.Dividir\\n5.Salir de la calculadora\")\n",
    "\n",
    "    if opcion == \"1\":\n",
    "        opcion_sumar()\n",
    "    elif opcion== \"2\":\n",
    "        opcion_resta()\n",
    "    elif opcion== \"3\":\n",
    "        opcion_multiplicacion()\n",
    "    elif opcion== \"4\":\n",
    "        opcion_division()    \n",
    "    elif opcion== \"5\":\n",
    "        opcion_salir()\n",
    "        cerrar_calculadora = True #Se cierra el bucle\n",
    "    else:\n",
    "        print(\"Opcion no válida, por favor selecciona una opción entre 1 y 5\")"
   ]
  },
  {
   "cell_type": "code",
   "execution_count": null,
   "metadata": {},
   "outputs": [],
   "source": []
  },
  {
   "cell_type": "code",
   "execution_count": null,
   "metadata": {},
   "outputs": [],
   "source": []
  }
 ],
 "metadata": {
  "kernelspec": {
   "display_name": "Python 3",
   "language": "python",
   "name": "python3"
  },
  "language_info": {
   "codemirror_mode": {
    "name": "ipython",
    "version": 3
   },
   "file_extension": ".py",
   "mimetype": "text/x-python",
   "name": "python",
   "nbconvert_exporter": "python",
   "pygments_lexer": "ipython3",
   "version": "3.9.6"
  }
 },
 "nbformat": 4,
 "nbformat_minor": 2
}
