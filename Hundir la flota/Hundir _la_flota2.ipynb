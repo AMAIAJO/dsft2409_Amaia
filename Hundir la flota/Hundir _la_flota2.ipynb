{
 "cells": [
  {
   "cell_type": "code",
   "execution_count": 92,
   "metadata": {},
   "outputs": [],
   "source": [
    "import random"
   ]
  },
  {
   "cell_type": "code",
   "execution_count": 93,
   "metadata": {},
   "outputs": [],
   "source": [
    "flota = {\"Patrullero1\":1, \"Patrullero2\":1, \"Patrullero3\":1, \"Patrullero4\":1, \"Fragata1\":2, \"Fragata2\":2, \"Fragata3\":2, \"Submarino1\":3, \"Submarino2\":3, \"Portaviones\":4}"
   ]
  },
  {
   "cell_type": "code",
   "execution_count": 85,
   "metadata": {},
   "outputs": [
    {
     "data": {
      "text/plain": [
       "{'Patrullero1': 1,\n",
       " 'Patrullero2': 1,\n",
       " 'Patrullero3': 1,\n",
       " 'Patrullero4': 1,\n",
       " 'Fragata1': 2,\n",
       " 'Fragata2': 2,\n",
       " 'Fragata3': 2,\n",
       " 'Submarino1': 3,\n",
       " 'Submarino2': 3,\n",
       " 'Portaviones': 4}"
      ]
     },
     "execution_count": 85,
     "metadata": {},
     "output_type": "execute_result"
    }
   ],
   "source": [
    "flota"
   ]
  },
  {
   "cell_type": "code",
   "execution_count": 86,
   "metadata": {},
   "outputs": [],
   "source": [
    "# Dimensiones del tablero\n",
    "tamaño_tablero = 10\n"
   ]
  },
  {
   "cell_type": "code",
   "execution_count": 19,
   "metadata": {},
   "outputs": [
    {
     "data": {
      "text/plain": [
       "['.', '.', '.', '.', '.', '.', '.', '.', '.', '.']"
      ]
     },
     "execution_count": 19,
     "metadata": {},
     "output_type": "execute_result"
    }
   ],
   "source": [
    "# Crear un tablero vacío\n",
    "\n",
    "linea = []\n",
    "\n",
    "for i in range(tamaño_tablero):\n",
    "    linea.append(\".\")\n",
    "linea\n"
   ]
  },
  {
   "cell_type": "code",
   "execution_count": 20,
   "metadata": {},
   "outputs": [
    {
     "data": {
      "text/plain": [
       "[['.', '.', '.', '.', '.', '.', '.', '.', '.', '.'],\n",
       " ['.', '.', '.', '.', '.', '.', '.', '.', '.', '.'],\n",
       " ['.', '.', '.', '.', '.', '.', '.', '.', '.', '.'],\n",
       " ['.', '.', '.', '.', '.', '.', '.', '.', '.', '.'],\n",
       " ['.', '.', '.', '.', '.', '.', '.', '.', '.', '.'],\n",
       " ['.', '.', '.', '.', '.', '.', '.', '.', '.', '.'],\n",
       " ['.', '.', '.', '.', '.', '.', '.', '.', '.', '.'],\n",
       " ['.', '.', '.', '.', '.', '.', '.', '.', '.', '.'],\n",
       " ['.', '.', '.', '.', '.', '.', '.', '.', '.', '.'],\n",
       " ['.', '.', '.', '.', '.', '.', '.', '.', '.', '.']]"
      ]
     },
     "execution_count": 20,
     "metadata": {},
     "output_type": "execute_result"
    }
   ],
   "source": [
    "tablero = []\n",
    "\n",
    "for i in range(tamaño_tablero):\n",
    "    tablero.append(linea.copy())\n",
    "tablero"
   ]
  },
  {
   "cell_type": "code",
   "execution_count": 94,
   "metadata": {},
   "outputs": [],
   "source": [
    "# Función crear un tablero vacío\n",
    "\n",
    "def crear_tablero():   \n",
    "    linea = []\n",
    "    tablero = []\n",
    "\n",
    "    for i in range(tamaño_tablero):\n",
    "        linea.append(\".\")\n",
    "    for i in range(tamaño_tablero):\n",
    "        tablero.append(linea.copy())\n",
    "    return tablero"
   ]
  },
  {
   "cell_type": "code",
   "execution_count": 99,
   "metadata": {},
   "outputs": [],
   "source": [
    "tablero_ordenador = crear_tablero()\n",
    "tablero_jugador = crear_tablero()\n",
    "tablero_mis_disparos = crear_tablero()\n"
   ]
  },
  {
   "cell_type": "code",
   "execution_count": 95,
   "metadata": {},
   "outputs": [],
   "source": [
    "# Función de disparar\n",
    "\n",
    "def disparo(fila,columna,tablero):\n",
    "    acertado = False\n",
    "    if tablero[fila][columna] == 'B':\n",
    "        acertado = True\n",
    "        tablero[fila][columna] = 'X'\n",
    "        print('Tocado')\n",
    "    else:\n",
    "        tablero[fila][columna] = '~'\n",
    "        print('Agua')\n",
    "\n",
    "    return acertado\n"
   ]
  },
  {
   "cell_type": "code",
   "execution_count": 97,
   "metadata": {},
   "outputs": [
    {
     "name": "stdout",
     "output_type": "stream",
     "text": [
      "Agua\n"
     ]
    }
   ],
   "source": [
    "# Función de juega usuario\n",
    "# Turno jugador\n",
    "\n",
    "def juega_usuario(tablero_ordenador):\n",
    "\n",
    "    while True:\n",
    "        coordenada_fila = int(input('Introduce la primera coordenada'))\n",
    "        coordenada_columna = int(input('Introduce ahora la segunda coordenada'))\n",
    "        tablero = tablero_ordenador\n",
    "        resultado = disparo(coordenada_fila,coordenada_columna,tablero)\n",
    "        if resultado == False:\n",
    "            break\n",
    "juega_usuario(tablero_ordenador)"
   ]
  },
  {
   "cell_type": "code",
   "execution_count": 25,
   "metadata": {},
   "outputs": [
    {
     "name": "stdout",
     "output_type": "stream",
     "text": [
      "Agua\n"
     ]
    }
   ],
   "source": [
    "# Función de juega ordenador\n",
    "# Turno del computer\n",
    "import random\n",
    "\n",
    "def juega_computer(tablero_jugador):\n",
    "    while True:\n",
    "        coordenada_fila = random.randint(0,9)\n",
    "        coordenada_columna = random.randint(0,9)\n",
    "        tablero = tablero_jugador\n",
    "    \n",
    "        resultado = disparo(coordenada_fila,coordenada_columna,tablero)\n",
    "        if resultado == False:\n",
    "            break\n",
    "juega_computer(tablero_jugador)"
   ]
  },
  {
   "cell_type": "code",
   "execution_count": 76,
   "metadata": {},
   "outputs": [],
   "source": [
    "# Funcion verificar posición válida\n",
    "def posicion_correcta(tablero,fila, columna,tamaño,direccion):\n",
    "\n",
    "    #Verificamos dirección arriba\n",
    "    if direccion == \"Arriba\":\n",
    "        print(\"probando direccion arriba\")\n",
    "        if fila - tamaño < 0:\n",
    "            print(\"parametro\", fila , tamaño, \"menor que cero\")\n",
    "            return False # El barco se sale del tablero\n",
    "         #Verificar que no haya colisiones\n",
    "        for i in range(tamaño):\n",
    "            if tablero[fila - i][columna] != \".\":\n",
    "                print(\"encontrado barco en posición\", fila - i, columna)\n",
    "                return False # Ya hay un barco en esa posición\n",
    "               \n",
    "    # Verificamos dirección abajo\n",
    "    elif direccion == \"Abajo\":\n",
    "        if fila + tamaño > tamaño_tablero:\n",
    "            return False # El barco se sale del tablero\n",
    "        #Verificar que no haya colisiones\n",
    "        for i in range(tamaño):\n",
    "            if tablero[fila + i][columna] != \".\":\n",
    "                return False # Ya hay un barco en esa posición\n",
    "        \n",
    "    #Verificamos dirección izquierda\n",
    "    elif direccion == \"Izquierda\":\n",
    "        if columna - tamaño < 0:\n",
    "            return False # El barco se sale del tablero\n",
    "        #Verificar que no haya colisiones\n",
    "        for i in range(tamaño):\n",
    "            if tablero[fila][columna - i] != \".\":\n",
    "                return False # Ya hay un barco en esa posición\n",
    "    \n",
    "    #Verificamos dirección derecha\n",
    "    elif direccion == \"Derecha\":\n",
    "        if columna + tamaño > tamaño_tablero:\n",
    "            return False # El barco se sale del tablero\n",
    "        #Verificar que no haya colisiones\n",
    "        for i in range(tamaño):\n",
    "            if tablero[fila][columna + i] != \".\":\n",
    "                return False # Ya hay un barco en esa posición\n",
    "    print(\"posición encontrada\")\n",
    "    return True\n",
    "\n",
    "        \n",
    "\n"
   ]
  },
  {
   "cell_type": "code",
   "execution_count": 77,
   "metadata": {},
   "outputs": [],
   "source": [
    "# Función para colocar barcos en el tablero\n",
    "def colocar_barco(tablero,fila,columna,tamaño,direccion):\n",
    "    if direccion ==\"Arriba\":\n",
    "        for i in range(tamaño):\n",
    "            tablero[fila - i][columna]=\"B\"\n",
    "    elif direccion == \"Abajo\":\n",
    "        for i in range(tamaño):\n",
    "            tablero[fila + i][columna]= \"B\"\n",
    "    elif direccion == \"Izquierda\":\n",
    "        for i in range(tamaño):\n",
    "            tablero[fila][columna - i]= \"B\"\n",
    "    elif direccion == \"Derecha\":\n",
    "        for i in range(tamaño):\n",
    "            tablero[fila][columna + i]= \"B\"\n",
    "\n",
    "colocar_barco(tablero, 5, 5, 2, \"Arriba\")\n"
   ]
  },
  {
   "cell_type": "code",
   "execution_count": 28,
   "metadata": {},
   "outputs": [
    {
     "data": {
      "text/plain": [
       "[['.', '.', '.', '.', '.', '.', '.', '.', '.', '.'],\n",
       " ['.', '.', '.', '.', '.', '.', '.', '.', '.', '.'],\n",
       " ['.', '.', '.', '.', '.', '.', '.', '.', '.', '.'],\n",
       " ['.', '.', '.', '.', '.', '.', '.', '.', '.', '.'],\n",
       " ['.', '.', '.', '.', '.', 'B', '.', '.', '.', '.'],\n",
       " ['.', '.', '.', '.', '.', 'B', '.', '.', '.', '.'],\n",
       " ['.', '.', '.', '.', '.', '.', '.', '.', '.', '.'],\n",
       " ['.', '.', '.', '.', '.', '.', '.', '.', '.', '.'],\n",
       " ['.', '.', '.', '.', '.', '.', '.', '.', '.', '.'],\n",
       " ['.', '.', '.', '.', '.', '.', '.', '.', '.', '.']]"
      ]
     },
     "execution_count": 28,
     "metadata": {},
     "output_type": "execute_result"
    }
   ],
   "source": [
    "tablero"
   ]
  },
  {
   "cell_type": "code",
   "execution_count": 29,
   "metadata": {},
   "outputs": [
    {
     "data": {
      "text/plain": [
       "[['.', '.', '.', '.', '.', '.', '.', '.', '.', '.'],\n",
       " ['.', '.', '.', '.', '.', '.', '.', '.', '.', '.'],\n",
       " ['.', '.', '.', '.', '.', '.', '.', '.', '.', '.'],\n",
       " ['.', '.', '.', '.', '.', '.', '.', '.', '.', '.'],\n",
       " ['.', '.', '.', '.', '.', 'B', '.', '.', '.', '.'],\n",
       " ['.', '.', '.', '.', '.', 'B', '.', '.', '.', '.'],\n",
       " ['.', '.', '.', '.', '.', '.', '.', '.', '.', '.'],\n",
       " ['.', '.', '.', '.', '.', '.', '.', '.', '.', '.'],\n",
       " ['.', '.', '.', '.', '.', '.', '.', '.', '.', '.'],\n",
       " ['.', '.', '.', '.', '.', '.', '.', '.', '.', '.']]"
      ]
     },
     "execution_count": 29,
     "metadata": {},
     "output_type": "execute_result"
    }
   ],
   "source": [
    "posicion_correcta(tablero,6,1,2,\"Derecha\")\n",
    "tablero"
   ]
  },
  {
   "cell_type": "code",
   "execution_count": 78,
   "metadata": {},
   "outputs": [],
   "source": [
    "#Posicionar barco de manera aleatoria en el tablero\n",
    "#Para cada uno de los barcos llamo a la función verificar posición si True -> llamo a la función colocar_barco\n",
    "import pprint\n",
    "def posicionar_barcos_aleatoriamente(tablero):\n",
    "\n",
    "    for barco,tamaño in flota.items():\n",
    "        colocado = False\n",
    "        print(\"Intentamos colocar\", barco,\"de tamaño\", tamaño) \n",
    "        while not colocado:\n",
    "            fila = random.randint(0,9)\n",
    "            columna = random.randint(0,9)\n",
    "            direccion = random.choice([\"Arriba\", \"Abajo\",\"Izquierda\",\"Derecha\"])\n",
    "            print(\"probando coordenadas aleatorias\",fila, columna,\"y direccion\", direccion)\n",
    "            if posicion_correcta(tablero,fila, columna,tamaño,direccion):\n",
    "                colocar_barco(tablero,fila,columna,tamaño,direccion)\n",
    "                #pprint.pprint(tablero)\n",
    "                colocado = True\n"
   ]
  },
  {
   "cell_type": "code",
   "execution_count": 79,
   "metadata": {},
   "outputs": [
    {
     "name": "stdout",
     "output_type": "stream",
     "text": [
      "[['.', '.', '.', '.', '.', '.', '.', '.', '.', '.'],\n",
      " ['.', '.', '.', '.', '.', '.', '.', '.', '.', '.'],\n",
      " ['.', '.', '.', '.', '.', '.', '.', '.', '.', '.'],\n",
      " ['.', '.', '.', '.', '.', '.', '.', '.', '.', '.'],\n",
      " ['.', '.', '.', '.', '.', '.', '.', '.', '.', '.'],\n",
      " ['.', '.', '.', '.', '.', '.', '.', '.', '.', '.'],\n",
      " ['.', '.', '.', '.', '.', '.', '.', '.', '.', '.'],\n",
      " ['.', '.', '.', '.', '.', '.', '.', '.', '.', '.'],\n",
      " ['.', '.', '.', '.', '.', '.', '.', '.', '.', '.'],\n",
      " ['.', '.', '.', '.', '.', '.', '.', '.', '.', '.']]\n",
      "Intentamos colocar Patrullero1 de tamaño 1\n",
      "probando coordenadas aleatorias 8 6 y direccion Izquierda\n",
      "posición encontrada\n",
      "Intentamos colocar Patrullero2 de tamaño 1\n",
      "probando coordenadas aleatorias 2 6 y direccion Derecha\n",
      "posición encontrada\n",
      "Intentamos colocar Patrullero3 de tamaño 1\n",
      "probando coordenadas aleatorias 1 8 y direccion Abajo\n",
      "posición encontrada\n",
      "Intentamos colocar Patrullero4 de tamaño 1\n",
      "probando coordenadas aleatorias 5 1 y direccion Abajo\n",
      "posición encontrada\n",
      "Intentamos colocar Fragata1 de tamaño 2\n",
      "probando coordenadas aleatorias 1 2 y direccion Arriba\n",
      "probando direccion arriba\n",
      "parametro 1 2 menor que cero\n",
      "probando coordenadas aleatorias 4 6 y direccion Izquierda\n",
      "posición encontrada\n",
      "Intentamos colocar Fragata2 de tamaño 2\n",
      "probando coordenadas aleatorias 3 0 y direccion Izquierda\n",
      "probando coordenadas aleatorias 1 8 y direccion Abajo\n",
      "probando coordenadas aleatorias 5 2 y direccion Izquierda\n",
      "probando coordenadas aleatorias 4 8 y direccion Izquierda\n",
      "posición encontrada\n",
      "Intentamos colocar Fragata3 de tamaño 2\n",
      "probando coordenadas aleatorias 3 1 y direccion Izquierda\n",
      "probando coordenadas aleatorias 4 3 y direccion Derecha\n",
      "posición encontrada\n",
      "Intentamos colocar Submarino1 de tamaño 3\n",
      "probando coordenadas aleatorias 5 2 y direccion Derecha\n",
      "posición encontrada\n",
      "Intentamos colocar Submarino2 de tamaño 3\n",
      "probando coordenadas aleatorias 6 0 y direccion Arriba\n",
      "probando direccion arriba\n",
      "posición encontrada\n",
      "Intentamos colocar Portaviones de tamaño 4\n",
      "probando coordenadas aleatorias 8 2 y direccion Abajo\n",
      "probando coordenadas aleatorias 2 1 y direccion Derecha\n",
      "posición encontrada\n",
      "[['.', '.', '.', '.', '.', '.', '.', '.', '.', '.'], ['.', '.', '.', '.', '.', '.', '.', '.', 'B', '.'], ['.', 'B', 'B', 'B', 'B', '.', 'B', '.', '.', '.'], ['.', '.', '.', '.', '.', '.', '.', '.', '.', '.'], ['B', '.', '.', 'B', 'B', 'B', 'B', 'B', 'B', '.'], ['B', 'B', 'B', 'B', 'B', '.', '.', '.', '.', '.'], ['B', '.', '.', '.', '.', '.', '.', '.', '.', '.'], ['.', '.', '.', '.', '.', '.', '.', '.', '.', '.'], ['.', '.', '.', '.', '.', '.', 'B', '.', '.', '.'], ['.', '.', '.', '.', '.', '.', '.', '.', '.', '.']]\n"
     ]
    }
   ],
   "source": [
    "import pprint\n",
    "pprint.pprint(tablero_jugador)\n",
    "posicionar_barcos_aleatoriamente(tablero_jugador)\n",
    "print(tablero_jugador)"
   ]
  },
  {
   "cell_type": "code",
   "execution_count": 80,
   "metadata": {},
   "outputs": [
    {
     "name": "stdout",
     "output_type": "stream",
     "text": [
      "[['.', '.', '.', '.', '.', '.', '.', '.', '.', '.'],\n",
      " ['.', '.', '.', '.', '.', '.', '.', '.', 'B', '.'],\n",
      " ['.', 'B', 'B', 'B', 'B', '.', 'B', '.', '.', '.'],\n",
      " ['.', '.', '.', '.', '.', '.', '.', '.', '.', '.'],\n",
      " ['B', '.', '.', 'B', 'B', 'B', 'B', 'B', 'B', '.'],\n",
      " ['B', 'B', 'B', 'B', 'B', '.', '.', '.', '.', '.'],\n",
      " ['B', '.', '.', '.', '.', '.', '.', '.', '.', '.'],\n",
      " ['.', '.', '.', '.', '.', '.', '.', '.', '.', '.'],\n",
      " ['.', '.', '.', '.', '.', '.', 'B', '.', '.', '.'],\n",
      " ['.', '.', '.', '.', '.', '.', '.', '.', '.', '.']]\n"
     ]
    }
   ],
   "source": [
    "import pprint\n",
    "\n",
    "pprint.pprint(tablero_jugador)\n"
   ]
  },
  {
   "cell_type": "code",
   "execution_count": 81,
   "metadata": {},
   "outputs": [
    {
     "name": "stdout",
     "output_type": "stream",
     "text": [
      "[['.', '.', '.', '.', '.', '.', '.', '.', '.', '.'],\n",
      " ['.', '.', '.', '.', '.', '.', '.', '.', '.', '.'],\n",
      " ['.', '.', '.', '.', '.', '.', '.', '.', '.', '.'],\n",
      " ['.', '.', '.', '.', '.', '.', '.', '.', '.', '.'],\n",
      " ['.', '.', '.', '.', '.', '.', '.', '.', '.', '.'],\n",
      " ['.', '.', '.', '.', '.', '.', '.', '.', '.', '.'],\n",
      " ['.', '.', '.', '.', '.', '.', '.', '.', '.', '.'],\n",
      " ['.', '.', '.', '.', '.', '.', '.', '.', '.', '.'],\n",
      " ['.', '.', '.', '.', '.', '.', '.', '.', '.', '.'],\n",
      " ['.', '.', '.', '.', '.', '.', '.', '.', '.', '.']]\n",
      "Intentamos colocar Patrullero1 de tamaño 1\n",
      "probando coordenadas aleatorias 3 9 y direccion Arriba\n",
      "probando direccion arriba\n",
      "posición encontrada\n",
      "Intentamos colocar Patrullero2 de tamaño 1\n",
      "probando coordenadas aleatorias 1 5 y direccion Arriba\n",
      "probando direccion arriba\n",
      "posición encontrada\n",
      "Intentamos colocar Patrullero3 de tamaño 1\n",
      "probando coordenadas aleatorias 0 1 y direccion Izquierda\n",
      "posición encontrada\n",
      "Intentamos colocar Patrullero4 de tamaño 1\n",
      "probando coordenadas aleatorias 9 8 y direccion Arriba\n",
      "probando direccion arriba\n",
      "posición encontrada\n",
      "Intentamos colocar Fragata1 de tamaño 2\n",
      "probando coordenadas aleatorias 7 7 y direccion Izquierda\n",
      "posición encontrada\n",
      "Intentamos colocar Fragata2 de tamaño 2\n",
      "probando coordenadas aleatorias 3 2 y direccion Abajo\n",
      "posición encontrada\n",
      "Intentamos colocar Fragata3 de tamaño 2\n",
      "probando coordenadas aleatorias 7 8 y direccion Arriba\n",
      "probando direccion arriba\n",
      "posición encontrada\n",
      "Intentamos colocar Submarino1 de tamaño 3\n",
      "probando coordenadas aleatorias 3 9 y direccion Arriba\n",
      "probando direccion arriba\n",
      "encontrado barco en posición 3 9\n",
      "probando coordenadas aleatorias 5 2 y direccion Derecha\n",
      "posición encontrada\n",
      "Intentamos colocar Submarino2 de tamaño 3\n",
      "probando coordenadas aleatorias 6 9 y direccion Izquierda\n",
      "probando coordenadas aleatorias 1 8 y direccion Derecha\n",
      "probando coordenadas aleatorias 0 7 y direccion Arriba\n",
      "probando direccion arriba\n",
      "parametro 0 3 menor que cero\n",
      "probando coordenadas aleatorias 4 1 y direccion Derecha\n",
      "probando coordenadas aleatorias 6 1 y direccion Derecha\n",
      "posición encontrada\n",
      "Intentamos colocar Portaviones de tamaño 4\n",
      "probando coordenadas aleatorias 3 1 y direccion Izquierda\n",
      "probando coordenadas aleatorias 4 2 y direccion Derecha\n",
      "probando coordenadas aleatorias 9 1 y direccion Abajo\n",
      "probando coordenadas aleatorias 7 1 y direccion Arriba\n",
      "probando direccion arriba\n",
      "encontrado barco en posición 6 1\n",
      "probando coordenadas aleatorias 6 0 y direccion Izquierda\n",
      "probando coordenadas aleatorias 5 8 y direccion Izquierda\n",
      "posición encontrada\n",
      "[['.', 'B', '.', '.', '.', '.', '.', '.', '.', '.'], ['.', '.', '.', '.', '.', 'B', '.', '.', '.', '.'], ['.', '.', '.', '.', '.', '.', '.', '.', '.', '.'], ['.', '.', 'B', '.', '.', '.', '.', '.', '.', 'B'], ['.', '.', 'B', '.', '.', '.', '.', '.', '.', '.'], ['.', '.', 'B', 'B', 'B', 'B', 'B', 'B', 'B', '.'], ['.', 'B', 'B', 'B', '.', '.', '.', '.', 'B', '.'], ['.', '.', '.', '.', '.', '.', 'B', 'B', 'B', '.'], ['.', '.', '.', '.', '.', '.', '.', '.', '.', '.'], ['.', '.', '.', '.', '.', '.', '.', '.', 'B', '.']]\n"
     ]
    }
   ],
   "source": [
    "import pprint\n",
    "pprint.pprint(tablero_ordenador)\n",
    "posicionar_barcos_aleatoriamente(tablero_ordenador)\n",
    "print(tablero_ordenador)"
   ]
  },
  {
   "cell_type": "code",
   "execution_count": 82,
   "metadata": {},
   "outputs": [
    {
     "name": "stdout",
     "output_type": "stream",
     "text": [
      "[['.', 'B', '.', '.', '.', '.', '.', '.', '.', '.'],\n",
      " ['.', '.', '.', '.', '.', 'B', '.', '.', '.', '.'],\n",
      " ['.', '.', '.', '.', '.', '.', '.', '.', '.', '.'],\n",
      " ['.', '.', 'B', '.', '.', '.', '.', '.', '.', 'B'],\n",
      " ['.', '.', 'B', '.', '.', '.', '.', '.', '.', '.'],\n",
      " ['.', '.', 'B', 'B', 'B', 'B', 'B', 'B', 'B', '.'],\n",
      " ['.', 'B', 'B', 'B', '.', '.', '.', '.', 'B', '.'],\n",
      " ['.', '.', '.', '.', '.', '.', 'B', 'B', 'B', '.'],\n",
      " ['.', '.', '.', '.', '.', '.', '.', '.', '.', '.'],\n",
      " ['.', '.', '.', '.', '.', '.', '.', '.', 'B', '.']]\n"
     ]
    }
   ],
   "source": [
    "import pprint\n",
    "\n",
    "pprint.pprint(tablero_ordenador)"
   ]
  },
  {
   "cell_type": "code",
   "execution_count": null,
   "metadata": {},
   "outputs": [],
   "source": []
  }
 ],
 "metadata": {
  "kernelspec": {
   "display_name": "Python 3",
   "language": "python",
   "name": "python3"
  },
  "language_info": {
   "codemirror_mode": {
    "name": "ipython",
    "version": 3
   },
   "file_extension": ".py",
   "mimetype": "text/x-python",
   "name": "python",
   "nbconvert_exporter": "python",
   "pygments_lexer": "ipython3",
   "version": "3.9.6"
  }
 },
 "nbformat": 4,
 "nbformat_minor": 2
}
