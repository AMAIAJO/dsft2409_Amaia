{
 "cells": [
  {
   "cell_type": "code",
   "execution_count": 53,
   "metadata": {},
   "outputs": [],
   "source": [
    "import random"
   ]
  },
  {
   "cell_type": "code",
   "execution_count": 54,
   "metadata": {},
   "outputs": [],
   "source": [
    "flota = {\"Patrullero1\":1, \"Patrullero2\":1, \"Patrullero3\":1, \"Patrullero4\":1, \"Fragata1\":2, \"Fragata2\":2, \"Fragata3\":2, \"Submarino1\":3, \"Submarino2\":3, \"Portaviones\":4}"
   ]
  },
  {
   "cell_type": "code",
   "execution_count": 55,
   "metadata": {},
   "outputs": [
    {
     "data": {
      "text/plain": [
       "{'Patrullero1': 1,\n",
       " 'Patrullero2': 1,\n",
       " 'Patrullero3': 1,\n",
       " 'Patrullero4': 1,\n",
       " 'Fragata1': 2,\n",
       " 'Fragata2': 2,\n",
       " 'Fragata3': 2,\n",
       " 'Submarino1': 3,\n",
       " 'Submarino2': 3,\n",
       " 'Portaviones': 4}"
      ]
     },
     "execution_count": 55,
     "metadata": {},
     "output_type": "execute_result"
    }
   ],
   "source": [
    "flota"
   ]
  },
  {
   "cell_type": "code",
   "execution_count": 56,
   "metadata": {},
   "outputs": [],
   "source": [
    "# Dimensiones del tablero\n",
    "tamaño_tablero = 10\n"
   ]
  },
  {
   "cell_type": "code",
   "execution_count": 3,
   "metadata": {},
   "outputs": [],
   "source": [
    "# Total de casillas correspondientes a barcos\n",
    "total_barcos = 20"
   ]
  },
  {
   "cell_type": "code",
   "execution_count": 57,
   "metadata": {},
   "outputs": [
    {
     "data": {
      "text/plain": [
       "['.', '.', '.', '.', '.', '.', '.', '.', '.', '.']"
      ]
     },
     "execution_count": 57,
     "metadata": {},
     "output_type": "execute_result"
    }
   ],
   "source": [
    "# Crear un tablero vacío\n",
    "\n",
    "linea = []\n",
    "\n",
    "for i in range(tamaño_tablero):\n",
    "    linea.append(\".\")\n",
    "linea\n"
   ]
  },
  {
   "cell_type": "code",
   "execution_count": 58,
   "metadata": {},
   "outputs": [
    {
     "data": {
      "text/plain": [
       "[['.', '.', '.', '.', '.', '.', '.', '.', '.', '.'],\n",
       " ['.', '.', '.', '.', '.', '.', '.', '.', '.', '.'],\n",
       " ['.', '.', '.', '.', '.', '.', '.', '.', '.', '.'],\n",
       " ['.', '.', '.', '.', '.', '.', '.', '.', '.', '.'],\n",
       " ['.', '.', '.', '.', '.', '.', '.', '.', '.', '.'],\n",
       " ['.', '.', '.', '.', '.', '.', '.', '.', '.', '.'],\n",
       " ['.', '.', '.', '.', '.', '.', '.', '.', '.', '.'],\n",
       " ['.', '.', '.', '.', '.', '.', '.', '.', '.', '.'],\n",
       " ['.', '.', '.', '.', '.', '.', '.', '.', '.', '.'],\n",
       " ['.', '.', '.', '.', '.', '.', '.', '.', '.', '.']]"
      ]
     },
     "execution_count": 58,
     "metadata": {},
     "output_type": "execute_result"
    }
   ],
   "source": [
    "tablero = []\n",
    "\n",
    "for i in range(tamaño_tablero):\n",
    "    tablero.append(linea.copy())\n",
    "tablero"
   ]
  },
  {
   "cell_type": "code",
   "execution_count": 87,
   "metadata": {},
   "outputs": [],
   "source": [
    "# Función crear un tablero vacío\n",
    "\n",
    "def crear_tablero():   \n",
    "    linea = []\n",
    "    tablero = []\n",
    "\n",
    "    for i in range(tamaño_tablero):\n",
    "        linea.append(\".\")\n",
    "    for i in range(tamaño_tablero):\n",
    "        tablero.append(linea.copy())\n",
    "    return tablero\n",
    "\n"
   ]
  },
  {
   "cell_type": "code",
   "execution_count": 36,
   "metadata": {},
   "outputs": [],
   "source": [
    "tablero_ordenador = crear_tablero()\n",
    "tablero_jugador = crear_tablero()\n",
    "tablero_mis_disparos = crear_tablero()\n"
   ]
  },
  {
   "cell_type": "code",
   "execution_count": 4,
   "metadata": {},
   "outputs": [],
   "source": [
    "#Función mostrar tablero en un formato legible\n",
    "import pprint\n",
    "\n",
    "#def mostrar_tablero():\n",
    "    #for fila in tablero:\n",
    "        #print(\" \".join(fila))\n",
    "\n",
    "def mostrar_tablero(tablero):\n",
    "    pprint.pprint(tablero)"
   ]
  },
  {
   "cell_type": "code",
   "execution_count": 61,
   "metadata": {},
   "outputs": [],
   "source": [
    "# Función de disparar\n",
    "\n",
    "def disparo(fila,columna,tablero):\n",
    "    acertado = False\n",
    "    if tablero[fila][columna] == 'B':\n",
    "        acertado = True\n",
    "        tablero[fila][columna] = 'X'\n",
    "        print('Tocado')\n",
    "    else:\n",
    "        tablero[fila][columna] = '~'\n",
    "        print('Agua')\n",
    "\n",
    "    return acertado\n"
   ]
  },
  {
   "cell_type": "code",
   "execution_count": 62,
   "metadata": {},
   "outputs": [
    {
     "name": "stdout",
     "output_type": "stream",
     "text": [
      "Agua\n"
     ]
    }
   ],
   "source": [
    "# Función de juega usuario\n",
    "# Turno jugador\n",
    "\n",
    "def juega_usuario(tablero_ordenador):\n",
    "\n",
    "    while True:\n",
    "        coordenada_fila = int(input('Introduce la primera coordenada'))\n",
    "        coordenada_columna = int(input('Introduce ahora la segunda coordenada'))\n",
    "        tablero = tablero_ordenador\n",
    "        resultado = disparo(coordenada_fila,coordenada_columna,tablero)\n",
    "        \n",
    "        if resultado == False:\n",
    "            break\n",
    "juega_usuario(tablero_ordenador)"
   ]
  },
  {
   "cell_type": "code",
   "execution_count": 63,
   "metadata": {},
   "outputs": [
    {
     "name": "stdout",
     "output_type": "stream",
     "text": [
      "Agua\n"
     ]
    }
   ],
   "source": [
    "# Función de juega ordenador\n",
    "# Turno del computer\n",
    "import random\n",
    "\n",
    "def juega_computer(tablero_jugador):\n",
    "    while True:\n",
    "        coordenada_fila = random.randint(0,9)\n",
    "        coordenada_columna = random.randint(0,9)\n",
    "        tablero = tablero_jugador\n",
    "    \n",
    "        resultado = disparo(coordenada_fila,coordenada_columna,tablero)\n",
    "        if resultado == False:\n",
    "            break\n",
    "juega_computer(tablero_jugador)"
   ]
  },
  {
   "cell_type": "code",
   "execution_count": 64,
   "metadata": {},
   "outputs": [],
   "source": [
    "# Funcion verificar posición válida\n",
    "def posicion_correcta(tablero,fila, columna,tamaño,direccion):\n",
    "\n",
    "    #Verificamos dirección arriba\n",
    "    if direccion == \"Arriba\":\n",
    "        print(\"probando direccion arriba\")\n",
    "        if fila - tamaño < 0:\n",
    "            print(\"parametro\", fila , tamaño, \"menor que cero\")\n",
    "            return False # El barco se sale del tablero\n",
    "         #Verificar que no haya colisiones\n",
    "        for i in range(tamaño):\n",
    "            if tablero[fila - i][columna] != \".\":\n",
    "                print(\"encontrado barco en posición\", fila - i, columna)\n",
    "                return False # Ya hay un barco en esa posición\n",
    "               \n",
    "    # Verificamos dirección abajo\n",
    "    elif direccion == \"Abajo\":\n",
    "        if fila + tamaño > tamaño_tablero:\n",
    "            return False # El barco se sale del tablero\n",
    "        #Verificar que no haya colisiones\n",
    "        for i in range(tamaño):\n",
    "            if tablero[fila + i][columna] != \".\":\n",
    "                return False # Ya hay un barco en esa posición\n",
    "        \n",
    "    #Verificamos dirección izquierda\n",
    "    elif direccion == \"Izquierda\":\n",
    "        if columna - tamaño < 0:\n",
    "            return False # El barco se sale del tablero\n",
    "        #Verificar que no haya colisiones\n",
    "        for i in range(tamaño):\n",
    "            if tablero[fila][columna - i] != \".\":\n",
    "                return False # Ya hay un barco en esa posición\n",
    "    \n",
    "    #Verificamos dirección derecha\n",
    "    elif direccion == \"Derecha\":\n",
    "        if columna + tamaño > tamaño_tablero:\n",
    "            return False # El barco se sale del tablero\n",
    "        #Verificar que no haya colisiones\n",
    "        for i in range(tamaño):\n",
    "            if tablero[fila][columna + i] != \".\":\n",
    "                return False # Ya hay un barco en esa posición\n",
    "    print(\"posición encontrada\")\n",
    "    return True\n",
    "\n",
    "        \n",
    "\n"
   ]
  },
  {
   "cell_type": "code",
   "execution_count": 65,
   "metadata": {},
   "outputs": [],
   "source": [
    "# Función para colocar barcos en el tablero\n",
    "def colocar_barco(tablero,fila,columna,tamaño,direccion):\n",
    "    if direccion ==\"Arriba\":\n",
    "        for i in range(tamaño):\n",
    "            tablero[fila - i][columna]=\"B\"\n",
    "    elif direccion == \"Abajo\":\n",
    "        for i in range(tamaño):\n",
    "            tablero[fila + i][columna]= \"B\"\n",
    "    elif direccion == \"Izquierda\":\n",
    "        for i in range(tamaño):\n",
    "            tablero[fila][columna - i]= \"B\"\n",
    "    elif direccion == \"Derecha\":\n",
    "        for i in range(tamaño):\n",
    "            tablero[fila][columna + i]= \"B\"\n",
    "\n",
    "colocar_barco(tablero, 5, 5, 2, \"Arriba\")\n"
   ]
  },
  {
   "cell_type": "code",
   "execution_count": 66,
   "metadata": {},
   "outputs": [
    {
     "data": {
      "text/plain": [
       "[['.', '.', '.', '.', '.', '.', '.', '.', '.', '.'],\n",
       " ['.', '.', '.', '.', '.', '.', '.', '.', '.', '.'],\n",
       " ['.', '.', '.', '.', '.', '.', '.', '.', '.', '.'],\n",
       " ['.', '.', '.', '.', '.', '.', '.', '.', '.', '.'],\n",
       " ['.', '.', '.', '.', '.', 'B', '.', '.', '.', '.'],\n",
       " ['.', '.', '.', '.', '.', 'B', '.', '.', '.', '.'],\n",
       " ['.', '.', '.', '.', '.', '.', '.', '.', '.', '.'],\n",
       " ['.', '.', '.', '.', '.', '.', '.', '.', '.', '.'],\n",
       " ['.', '.', '.', '.', '.', '.', '.', '.', '.', '.'],\n",
       " ['.', '.', '.', '.', '.', '.', '.', '.', '.', '.']]"
      ]
     },
     "execution_count": 66,
     "metadata": {},
     "output_type": "execute_result"
    }
   ],
   "source": [
    "tablero"
   ]
  },
  {
   "cell_type": "code",
   "execution_count": 74,
   "metadata": {},
   "outputs": [
    {
     "name": "stdout",
     "output_type": "stream",
     "text": [
      "posición encontrada\n"
     ]
    },
    {
     "data": {
      "text/plain": [
       "[['.', '.', '.', '.', '.', '.', '.', '.', '.', '.'],\n",
       " ['.', '.', '.', '.', '.', '.', '.', '.', '.', '.'],\n",
       " ['.', '.', '.', '.', '.', '.', '.', '.', '.', '.'],\n",
       " ['.', '.', '.', '.', '.', '.', '.', '.', '.', '.'],\n",
       " ['.', '.', '.', '.', '.', 'B', '.', '.', '.', '.'],\n",
       " ['.', '.', '.', '.', '.', 'B', '.', '.', '.', '.'],\n",
       " ['.', '.', '.', '.', '.', '.', '.', '.', '.', '.'],\n",
       " ['.', '.', '.', '.', '.', '.', '.', '.', '.', '.'],\n",
       " ['.', '.', '.', '.', '.', '.', '.', '.', '.', '.'],\n",
       " ['.', '.', '.', '.', '.', '.', '.', '.', '.', '.']]"
      ]
     },
     "execution_count": 74,
     "metadata": {},
     "output_type": "execute_result"
    }
   ],
   "source": [
    "posicion_correcta(tablero,6,1,2,\"Derecha\")\n",
    "tablero"
   ]
  },
  {
   "cell_type": "code",
   "execution_count": 68,
   "metadata": {},
   "outputs": [],
   "source": [
    "#Posicionar barco de manera aleatoria en el tablero\n",
    "#Para cada uno de los barcos llamo a la función verificar posición si True -> llamo a la función colocar_barco\n",
    "import pprint\n",
    "def posicionar_barcos_aleatoriamente(tablero):\n",
    "\n",
    "    for barco,tamaño in flota.items():\n",
    "        colocado = False\n",
    "        print(\"Intentamos colocar\", barco,\"de tamaño\", tamaño) \n",
    "        while not colocado:\n",
    "            fila = random.randint(0,9)\n",
    "            columna = random.randint(0,9)\n",
    "            direccion = random.choice([\"Arriba\", \"Abajo\",\"Izquierda\",\"Derecha\"])\n",
    "            print(\"probando coordenadas aleatorias\",fila, columna,\"y direccion\", direccion)\n",
    "            if posicion_correcta(tablero,fila, columna,tamaño,direccion):\n",
    "                colocar_barco(tablero,fila,columna,tamaño,direccion)\n",
    "                #pprint.pprint(tablero)\n",
    "                colocado = True\n"
   ]
  },
  {
   "cell_type": "code",
   "execution_count": 69,
   "metadata": {},
   "outputs": [
    {
     "name": "stdout",
     "output_type": "stream",
     "text": [
      "[['.', '.', '.', '.', '.', '.', '.', '.', '.', 'B'],\n",
      " ['.', 'B', 'B', 'B', 'B', '~', '.', '.', '.', 'B'],\n",
      " ['.', '.', '.', '.', 'B', 'B', '.', '.', '.', 'B'],\n",
      " ['.', '.', '.', '.', 'B', 'B', '.', '.', '.', 'B'],\n",
      " ['.', '.', 'B', 'B', '.', '.', '.', '.', '.', '.'],\n",
      " ['.', '.', '.', '.', '.', '.', 'B', 'B', '.', '.'],\n",
      " ['.', '.', '.', '.', '.', 'B', '.', '.', 'B', '.'],\n",
      " ['.', '.', '.', '.', '.', 'B', '.', '.', '.', '.'],\n",
      " ['~', '.', '.', '.', '.', '.', '.', '.', '.', '.'],\n",
      " ['.', '.', '.', '.', '.', 'B', '.', '.', '.', '.']]\n",
      "Intentamos colocar Patrullero1 de tamaño 1\n",
      "probando coordenadas aleatorias 5 5 y direccion Derecha\n",
      "posición encontrada\n",
      "Intentamos colocar Patrullero2 de tamaño 1\n",
      "probando coordenadas aleatorias 6 6 y direccion Abajo\n",
      "posición encontrada\n",
      "Intentamos colocar Patrullero3 de tamaño 1\n",
      "probando coordenadas aleatorias 4 4 y direccion Derecha\n",
      "posición encontrada\n",
      "Intentamos colocar Patrullero4 de tamaño 1\n",
      "probando coordenadas aleatorias 0 9 y direccion Arriba\n",
      "probando direccion arriba\n",
      "parametro 0 1 menor que cero\n",
      "probando coordenadas aleatorias 0 3 y direccion Izquierda\n",
      "posición encontrada\n",
      "Intentamos colocar Fragata1 de tamaño 2\n",
      "probando coordenadas aleatorias 1 9 y direccion Izquierda\n",
      "probando coordenadas aleatorias 6 3 y direccion Abajo\n",
      "posición encontrada\n",
      "Intentamos colocar Fragata2 de tamaño 2\n",
      "probando coordenadas aleatorias 5 3 y direccion Abajo\n",
      "probando coordenadas aleatorias 4 0 y direccion Izquierda\n",
      "probando coordenadas aleatorias 0 6 y direccion Arriba\n",
      "probando direccion arriba\n",
      "parametro 0 2 menor que cero\n",
      "probando coordenadas aleatorias 4 9 y direccion Arriba\n",
      "probando direccion arriba\n",
      "encontrado barco en posición 3 9\n",
      "probando coordenadas aleatorias 4 8 y direccion Izquierda\n",
      "posición encontrada\n",
      "Intentamos colocar Fragata3 de tamaño 2\n",
      "probando coordenadas aleatorias 5 4 y direccion Derecha\n",
      "probando coordenadas aleatorias 9 0 y direccion Arriba\n",
      "probando direccion arriba\n",
      "encontrado barco en posición 8 0\n",
      "probando coordenadas aleatorias 1 5 y direccion Arriba\n",
      "probando direccion arriba\n",
      "parametro 1 2 menor que cero\n",
      "probando coordenadas aleatorias 6 4 y direccion Izquierda\n",
      "probando coordenadas aleatorias 3 3 y direccion Izquierda\n",
      "posición encontrada\n",
      "Intentamos colocar Submarino1 de tamaño 3\n",
      "probando coordenadas aleatorias 8 7 y direccion Derecha\n",
      "posición encontrada\n",
      "Intentamos colocar Submarino2 de tamaño 3\n",
      "probando coordenadas aleatorias 5 4 y direccion Derecha\n",
      "probando coordenadas aleatorias 0 6 y direccion Izquierda\n",
      "posición encontrada\n",
      "Intentamos colocar Portaviones de tamaño 4\n",
      "probando coordenadas aleatorias 2 6 y direccion Derecha\n",
      "probando coordenadas aleatorias 0 5 y direccion Arriba\n",
      "probando direccion arriba\n",
      "parametro 0 4 menor que cero\n",
      "probando coordenadas aleatorias 7 0 y direccion Arriba\n",
      "probando direccion arriba\n",
      "posición encontrada\n",
      "[['.', '.', '.', 'B', 'B', 'B', 'B', '.', '.', 'B'], ['.', 'B', 'B', 'B', 'B', '~', '.', '.', '.', 'B'], ['.', '.', '.', '.', 'B', 'B', '.', '.', '.', 'B'], ['.', '.', 'B', 'B', 'B', 'B', '.', '.', '.', 'B'], ['B', '.', 'B', 'B', 'B', '.', '.', 'B', 'B', '.'], ['B', '.', '.', '.', '.', 'B', 'B', 'B', '.', '.'], ['B', '.', '.', 'B', '.', 'B', 'B', '.', 'B', '.'], ['B', '.', '.', 'B', '.', 'B', '.', '.', '.', '.'], ['~', '.', '.', '.', '.', '.', '.', 'B', 'B', 'B'], ['.', '.', '.', '.', '.', 'B', '.', '.', '.', '.']]\n"
     ]
    }
   ],
   "source": [
    "import pprint\n",
    "pprint.pprint(tablero_jugador)\n",
    "posicionar_barcos_aleatoriamente(tablero_jugador)\n",
    "print(tablero_jugador)"
   ]
  },
  {
   "cell_type": "code",
   "execution_count": 70,
   "metadata": {},
   "outputs": [
    {
     "name": "stdout",
     "output_type": "stream",
     "text": [
      "[['.', '.', '.', 'B', 'B', 'B', 'B', '.', '.', 'B'],\n",
      " ['.', 'B', 'B', 'B', 'B', '~', '.', '.', '.', 'B'],\n",
      " ['.', '.', '.', '.', 'B', 'B', '.', '.', '.', 'B'],\n",
      " ['.', '.', 'B', 'B', 'B', 'B', '.', '.', '.', 'B'],\n",
      " ['B', '.', 'B', 'B', 'B', '.', '.', 'B', 'B', '.'],\n",
      " ['B', '.', '.', '.', '.', 'B', 'B', 'B', '.', '.'],\n",
      " ['B', '.', '.', 'B', '.', 'B', 'B', '.', 'B', '.'],\n",
      " ['B', '.', '.', 'B', '.', 'B', '.', '.', '.', '.'],\n",
      " ['~', '.', '.', '.', '.', '.', '.', 'B', 'B', 'B'],\n",
      " ['.', '.', '.', '.', '.', 'B', '.', '.', '.', '.']]\n"
     ]
    }
   ],
   "source": [
    "import pprint\n",
    "\n",
    "pprint.pprint(tablero_jugador)\n"
   ]
  },
  {
   "cell_type": "code",
   "execution_count": 71,
   "metadata": {},
   "outputs": [
    {
     "name": "stdout",
     "output_type": "stream",
     "text": [
      "[['~', '.', '.', 'B', '.', '.', '.', '.', '.', '.'],\n",
      " ['.', '.', '.', 'B', '.', '.', '.', '.', '.', '.'],\n",
      " ['.', '.', '.', 'B', '.', '.', '.', '.', 'B', '.'],\n",
      " ['B', '.', '.', 'B', '.', '.', '.', '.', '.', '.'],\n",
      " ['B', '.', 'B', 'B', '.', '.', '.', '.', '.', '.'],\n",
      " ['B', 'B', 'B', '.', '.', '.', '.', '.', '.', '.'],\n",
      " ['.', 'B', 'B', '.', '.', '.', '.', '.', '.', '.'],\n",
      " ['.', 'B', '.', '.', '.', '.', 'B', '.', '.', '.'],\n",
      " ['.', 'B', '.', '.', '.', '.', '.', '.', '.', '.'],\n",
      " ['.', 'B', '.', '.', '.', '.', '.', 'B', 'B', '.']]\n",
      "Intentamos colocar Patrullero1 de tamaño 1\n",
      "probando coordenadas aleatorias 7 2 y direccion Arriba\n",
      "probando direccion arriba\n",
      "posición encontrada\n",
      "Intentamos colocar Patrullero2 de tamaño 1\n",
      "probando coordenadas aleatorias 2 3 y direccion Arriba\n",
      "probando direccion arriba\n",
      "encontrado barco en posición 2 3\n",
      "probando coordenadas aleatorias 4 2 y direccion Derecha\n",
      "probando coordenadas aleatorias 8 9 y direccion Abajo\n",
      "posición encontrada\n",
      "Intentamos colocar Patrullero3 de tamaño 1\n",
      "probando coordenadas aleatorias 2 2 y direccion Derecha\n",
      "posición encontrada\n",
      "Intentamos colocar Patrullero4 de tamaño 1\n",
      "probando coordenadas aleatorias 4 2 y direccion Derecha\n",
      "probando coordenadas aleatorias 9 3 y direccion Izquierda\n",
      "posición encontrada\n",
      "Intentamos colocar Fragata1 de tamaño 2\n",
      "probando coordenadas aleatorias 4 2 y direccion Derecha\n",
      "probando coordenadas aleatorias 0 9 y direccion Izquierda\n",
      "posición encontrada\n",
      "Intentamos colocar Fragata2 de tamaño 2\n",
      "probando coordenadas aleatorias 1 2 y direccion Izquierda\n",
      "posición encontrada\n",
      "Intentamos colocar Fragata3 de tamaño 2\n",
      "probando coordenadas aleatorias 7 6 y direccion Abajo\n",
      "probando coordenadas aleatorias 8 9 y direccion Arriba\n",
      "probando direccion arriba\n",
      "encontrado barco en posición 8 9\n",
      "probando coordenadas aleatorias 9 3 y direccion Izquierda\n",
      "probando coordenadas aleatorias 8 8 y direccion Abajo\n",
      "probando coordenadas aleatorias 4 8 y direccion Derecha\n",
      "posición encontrada\n",
      "Intentamos colocar Submarino1 de tamaño 3\n",
      "probando coordenadas aleatorias 5 8 y direccion Abajo\n",
      "posición encontrada\n",
      "Intentamos colocar Submarino2 de tamaño 3\n",
      "probando coordenadas aleatorias 5 9 y direccion Derecha\n",
      "probando coordenadas aleatorias 8 5 y direccion Derecha\n",
      "posición encontrada\n",
      "Intentamos colocar Portaviones de tamaño 4\n",
      "probando coordenadas aleatorias 8 1 y direccion Arriba\n",
      "probando direccion arriba\n",
      "encontrado barco en posición 8 1\n",
      "probando coordenadas aleatorias 0 7 y direccion Derecha\n",
      "probando coordenadas aleatorias 6 4 y direccion Abajo\n",
      "posición encontrada\n",
      "[['~', '.', '.', 'B', '.', '.', '.', '.', 'B', 'B'], ['.', 'B', 'B', 'B', '.', '.', '.', '.', '.', '.'], ['.', '.', 'B', 'B', '.', '.', '.', '.', 'B', '.'], ['B', '.', '.', 'B', '.', '.', '.', '.', '.', '.'], ['B', '.', 'B', 'B', '.', '.', '.', '.', 'B', 'B'], ['B', 'B', 'B', '.', '.', '.', '.', '.', 'B', '.'], ['.', 'B', 'B', '.', 'B', '.', '.', '.', 'B', '.'], ['.', 'B', 'B', '.', 'B', '.', 'B', '.', 'B', '.'], ['.', 'B', '.', '.', 'B', 'B', 'B', 'B', '.', 'B'], ['.', 'B', '.', 'B', 'B', '.', '.', 'B', 'B', '.']]\n"
     ]
    }
   ],
   "source": [
    "import pprint\n",
    "pprint.pprint(tablero_ordenador)\n",
    "posicionar_barcos_aleatoriamente(tablero_ordenador)\n",
    "print(tablero_ordenador)"
   ]
  },
  {
   "cell_type": "code",
   "execution_count": 72,
   "metadata": {},
   "outputs": [
    {
     "name": "stdout",
     "output_type": "stream",
     "text": [
      "[['~', '.', '.', 'B', '.', '.', '.', '.', 'B', 'B'],\n",
      " ['.', 'B', 'B', 'B', '.', '.', '.', '.', '.', '.'],\n",
      " ['.', '.', 'B', 'B', '.', '.', '.', '.', 'B', '.'],\n",
      " ['B', '.', '.', 'B', '.', '.', '.', '.', '.', '.'],\n",
      " ['B', '.', 'B', 'B', '.', '.', '.', '.', 'B', 'B'],\n",
      " ['B', 'B', 'B', '.', '.', '.', '.', '.', 'B', '.'],\n",
      " ['.', 'B', 'B', '.', 'B', '.', '.', '.', 'B', '.'],\n",
      " ['.', 'B', 'B', '.', 'B', '.', 'B', '.', 'B', '.'],\n",
      " ['.', 'B', '.', '.', 'B', 'B', 'B', 'B', '.', 'B'],\n",
      " ['.', 'B', '.', 'B', 'B', '.', '.', 'B', 'B', '.']]\n"
     ]
    }
   ],
   "source": [
    "import pprint\n",
    "\n",
    "pprint.pprint(tablero_ordenador)"
   ]
  },
  {
   "cell_type": "code",
   "execution_count": 78,
   "metadata": {},
   "outputs": [
    {
     "name": "stdout",
     "output_type": "stream",
     "text": [
      ". . . . . . . . . .\n",
      ". . . . . . . . . .\n",
      ". . . . . . . . . .\n",
      ". . . . . . . . . .\n",
      ". . . . . B . . . .\n",
      ". . . . . B . . . .\n",
      ". . . . . . . . . .\n",
      ". . . . . . . . . .\n",
      ". . . . . . . . . .\n",
      ". . . . . . . . . .\n"
     ]
    }
   ],
   "source": [
    "#Actualizar el tablero de mis disparos (tercer tablero)\n",
    "\n",
    "mostrar_tablero()\n",
    "\n",
    "\n",
    "\n",
    "\n"
   ]
  },
  {
   "cell_type": "code",
   "execution_count": 2,
   "metadata": {},
   "outputs": [],
   "source": [
    "# Función para contar los barcos hundidos:\n",
    "\n",
    "def contar_barcos_hundidos(tablero): #¿Cuántas casillas de barcos se han alcanzado?\n",
    "    hundidos = sum(fila.count(\"X\") for fila in tablero)\n",
    "    return hundidos "
   ]
  },
  {
   "cell_type": "code",
   "execution_count": null,
   "metadata": {},
   "outputs": [],
   "source": []
  },
  {
   "cell_type": "code",
   "execution_count": null,
   "metadata": {},
   "outputs": [],
   "source": []
  },
  {
   "cell_type": "code",
   "execution_count": 1,
   "metadata": {},
   "outputs": [
    {
     "ename": "KeyboardInterrupt",
     "evalue": "Interrupted by user",
     "output_type": "error",
     "traceback": [
      "\u001b[1;31m---------------------------------------------------------------------------\u001b[0m",
      "\u001b[1;31mKeyboardInterrupt\u001b[0m                         Traceback (most recent call last)",
      "Cell \u001b[1;32mIn[1], line 5\u001b[0m\n\u001b[0;32m      3\u001b[0m cerrar_juego \u001b[38;5;241m=\u001b[39m \u001b[38;5;28;01mFalse\u001b[39;00m\n\u001b[0;32m      4\u001b[0m \u001b[38;5;28;01mwhile\u001b[39;00m cerrar_juego \u001b[38;5;241m==\u001b[39m \u001b[38;5;28;01mFalse\u001b[39;00m: \u001b[38;5;66;03m#Bucle principal\u001b[39;00m\n\u001b[1;32m----> 5\u001b[0m     opcion \u001b[38;5;241m=\u001b[39m \u001b[38;5;28;43minput\u001b[39;49m\u001b[43m(\u001b[49m\u001b[38;5;124;43m\"\u001b[39;49m\u001b[38;5;124;43mSelecciona un opción (1-2):\u001b[39;49m\u001b[38;5;130;43;01m\\n\u001b[39;49;00m\u001b[38;5;124;43m1.Jugar\u001b[39;49m\u001b[38;5;130;43;01m\\n\u001b[39;49;00m\u001b[38;5;124;43m2.Salir del juego\u001b[39;49m\u001b[38;5;124;43m\"\u001b[39;49m\u001b[43m)\u001b[49m\n\u001b[0;32m      7\u001b[0m     \u001b[38;5;28;01mif\u001b[39;00m opcion \u001b[38;5;241m==\u001b[39m \u001b[38;5;124m\"\u001b[39m\u001b[38;5;124m1\u001b[39m\u001b[38;5;124m\"\u001b[39m:\n\u001b[0;32m      8\u001b[0m         \u001b[38;5;66;03m# Creo tablero\u001b[39;00m\n\u001b[0;32m      9\u001b[0m         crear_tablero()\n",
      "File \u001b[1;32m~\\AppData\\Roaming\\Python\\Python39\\site-packages\\ipykernel\\kernelbase.py:1282\u001b[0m, in \u001b[0;36mKernel.raw_input\u001b[1;34m(self, prompt)\u001b[0m\n\u001b[0;32m   1280\u001b[0m     msg \u001b[38;5;241m=\u001b[39m \u001b[38;5;124m\"\u001b[39m\u001b[38;5;124mraw_input was called, but this frontend does not support input requests.\u001b[39m\u001b[38;5;124m\"\u001b[39m\n\u001b[0;32m   1281\u001b[0m     \u001b[38;5;28;01mraise\u001b[39;00m StdinNotImplementedError(msg)\n\u001b[1;32m-> 1282\u001b[0m \u001b[38;5;28;01mreturn\u001b[39;00m \u001b[38;5;28;43mself\u001b[39;49m\u001b[38;5;241;43m.\u001b[39;49m\u001b[43m_input_request\u001b[49m\u001b[43m(\u001b[49m\n\u001b[0;32m   1283\u001b[0m \u001b[43m    \u001b[49m\u001b[38;5;28;43mstr\u001b[39;49m\u001b[43m(\u001b[49m\u001b[43mprompt\u001b[49m\u001b[43m)\u001b[49m\u001b[43m,\u001b[49m\n\u001b[0;32m   1284\u001b[0m \u001b[43m    \u001b[49m\u001b[38;5;28;43mself\u001b[39;49m\u001b[38;5;241;43m.\u001b[39;49m\u001b[43m_parent_ident\u001b[49m\u001b[43m[\u001b[49m\u001b[38;5;124;43m\"\u001b[39;49m\u001b[38;5;124;43mshell\u001b[39;49m\u001b[38;5;124;43m\"\u001b[39;49m\u001b[43m]\u001b[49m\u001b[43m,\u001b[49m\n\u001b[0;32m   1285\u001b[0m \u001b[43m    \u001b[49m\u001b[38;5;28;43mself\u001b[39;49m\u001b[38;5;241;43m.\u001b[39;49m\u001b[43mget_parent\u001b[49m\u001b[43m(\u001b[49m\u001b[38;5;124;43m\"\u001b[39;49m\u001b[38;5;124;43mshell\u001b[39;49m\u001b[38;5;124;43m\"\u001b[39;49m\u001b[43m)\u001b[49m\u001b[43m,\u001b[49m\n\u001b[0;32m   1286\u001b[0m \u001b[43m    \u001b[49m\u001b[43mpassword\u001b[49m\u001b[38;5;241;43m=\u001b[39;49m\u001b[38;5;28;43;01mFalse\u001b[39;49;00m\u001b[43m,\u001b[49m\n\u001b[0;32m   1287\u001b[0m \u001b[43m\u001b[49m\u001b[43m)\u001b[49m\n",
      "File \u001b[1;32m~\\AppData\\Roaming\\Python\\Python39\\site-packages\\ipykernel\\kernelbase.py:1325\u001b[0m, in \u001b[0;36mKernel._input_request\u001b[1;34m(self, prompt, ident, parent, password)\u001b[0m\n\u001b[0;32m   1322\u001b[0m \u001b[38;5;28;01mexcept\u001b[39;00m \u001b[38;5;167;01mKeyboardInterrupt\u001b[39;00m:\n\u001b[0;32m   1323\u001b[0m     \u001b[38;5;66;03m# re-raise KeyboardInterrupt, to truncate traceback\u001b[39;00m\n\u001b[0;32m   1324\u001b[0m     msg \u001b[38;5;241m=\u001b[39m \u001b[38;5;124m\"\u001b[39m\u001b[38;5;124mInterrupted by user\u001b[39m\u001b[38;5;124m\"\u001b[39m\n\u001b[1;32m-> 1325\u001b[0m     \u001b[38;5;28;01mraise\u001b[39;00m \u001b[38;5;167;01mKeyboardInterrupt\u001b[39;00m(msg) \u001b[38;5;28;01mfrom\u001b[39;00m \u001b[38;5;28;01mNone\u001b[39;00m\n\u001b[0;32m   1326\u001b[0m \u001b[38;5;28;01mexcept\u001b[39;00m \u001b[38;5;167;01mException\u001b[39;00m:\n\u001b[0;32m   1327\u001b[0m     \u001b[38;5;28mself\u001b[39m\u001b[38;5;241m.\u001b[39mlog\u001b[38;5;241m.\u001b[39mwarning(\u001b[38;5;124m\"\u001b[39m\u001b[38;5;124mInvalid Message:\u001b[39m\u001b[38;5;124m\"\u001b[39m, exc_info\u001b[38;5;241m=\u001b[39m\u001b[38;5;28;01mTrue\u001b[39;00m)\n",
      "\u001b[1;31mKeyboardInterrupt\u001b[0m: Interrupted by user"
     ]
    }
   ],
   "source": [
    "# FUNCION PRINCIPAL DEL JUEGO\n",
    "\n",
    "cerrar_juego = False\n",
    "while not cerrar_juego: #Bucle principal\n",
    "    opcion = input(\"Selecciona un opción (1-2):\\n1.Jugar\\n2.Salir del juego\")\n",
    "\n",
    "    if opcion == \"1\":\n",
    "        # Creo tablero\n",
    "        crear_tablero(tablero_jugador)\n",
    "        crear_tablero(tablero_ordenador)\n",
    "        crear_tablero(tablero_mis_disparos)\n",
    "        \n",
    "\n",
    "        # Coloco aleatoriamente los barcos\n",
    "        posicionar_barcos_aleatoriamente(tablero_jugador)\n",
    "        pprint.pprint(tablero_jugador)\n",
    "        \n",
    "\n",
    "        posicionar_barcos_aleatoriamente(tablero_ordenador)\n",
    "        \n",
    "\n",
    "        # Empieza el juego\n",
    "        barcos_hundidos_jugador = 0\n",
    "        barcos_hundidos_ordenador = 0\n",
    "        \n",
    "\n",
    "        while barcos_hundidos_jugador < total_barcos and barcos_hundidos_ordenador < total_barcos:\n",
    "            print(\"Tablero del contrincante:\")\n",
    "            mostrar_tablero(tablero_mis_disparos)\n",
    "\n",
    "            # Turno del jugador\n",
    "            if juega_usuario(tablero_ordenador): #operador += para incrementar el valor de contador\n",
    "                barcos_hundidos_jugador += 1\n",
    "            \n",
    "            print(f\"Has hundido: {barcos_hundidos_jugador}/{total_barcos}\")\n",
    "\n",
    "            # Verificar si el jugador ha ganado\n",
    "            if barcos_hundidos_jugador == total_barcos:\n",
    "                    print(\"¡Enhorabuena! Has hundido todos los barcos\")\n",
    "                    break\n",
    "\n",
    "            #Turno del ordenador\n",
    "            if juega_computer(tablero_jugador): #operador += para incrementar el valor de contador\n",
    "                barcos_hundidos_ordenador += 1\n",
    "            \n",
    "            print(f\"Barcos hundidos por el ordenador: {barcos_hundidos_ordenador}/{total_barcos}\")\n",
    "\n",
    "             # Verificar si el ordenador ha ganado\n",
    "            if barcos_hundidos_ordenador == total_barcos:\n",
    "                    print(\"Lo siento, has perdido :( El ordenador ha hundido todos tus barcos\")\n",
    "                    break\n",
    "\n",
    "    elif opcion == \"2\":\n",
    "        cerrar_juego = True\n",
    "        print(\"Saliendo del juego\")\n",
    "\n",
    "    else:\n",
    "        print(\"Opción no válida. Por favor selecciona 1 o 2\")\n",
    "\n",
    "\n",
    "\n",
    "\n",
    "        \n",
    "\n",
    "\n",
    "\n",
    "\n"
   ]
  },
  {
   "cell_type": "code",
   "execution_count": null,
   "metadata": {},
   "outputs": [],
   "source": []
  }
 ],
 "metadata": {
  "kernelspec": {
   "display_name": "Python 3",
   "language": "python",
   "name": "python3"
  },
  "language_info": {
   "codemirror_mode": {
    "name": "ipython",
    "version": 3
   },
   "file_extension": ".py",
   "mimetype": "text/x-python",
   "name": "python",
   "nbconvert_exporter": "python",
   "pygments_lexer": "ipython3",
   "version": "3.9.6"
  }
 },
 "nbformat": 4,
 "nbformat_minor": 2
}
