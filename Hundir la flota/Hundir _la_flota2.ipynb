{
 "cells": [
  {
   "cell_type": "code",
   "execution_count": null,
   "metadata": {},
   "outputs": [],
   "source": [
    "import random"
   ]
  },
  {
   "cell_type": "code",
   "execution_count": 10,
   "metadata": {},
   "outputs": [],
   "source": [
    "# Dimensiones del tablero\n",
    "tamaño_tablero = 10\n"
   ]
  },
  {
   "cell_type": "code",
   "execution_count": 11,
   "metadata": {},
   "outputs": [
    {
     "data": {
      "text/plain": [
       "['.', '.', '.', '.', '.', '.', '.', '.', '.', '.']"
      ]
     },
     "execution_count": 11,
     "metadata": {},
     "output_type": "execute_result"
    }
   ],
   "source": [
    "# Crear un tablero vacío\n",
    "\n",
    "linea = []\n",
    "\n",
    "for i in range(tamaño_tablero):\n",
    "    linea.append(\".\")\n",
    "linea\n"
   ]
  },
  {
   "cell_type": "code",
   "execution_count": 12,
   "metadata": {},
   "outputs": [
    {
     "data": {
      "text/plain": [
       "[['.', '.', '.', '.', '.', '.', '.', '.', '.', '.'],\n",
       " ['.', '.', '.', '.', '.', '.', '.', '.', '.', '.'],\n",
       " ['.', '.', '.', '.', '.', '.', '.', '.', '.', '.'],\n",
       " ['.', '.', '.', '.', '.', '.', '.', '.', '.', '.'],\n",
       " ['.', '.', '.', '.', '.', '.', '.', '.', '.', '.'],\n",
       " ['.', '.', '.', '.', '.', '.', '.', '.', '.', '.'],\n",
       " ['.', '.', '.', '.', '.', '.', '.', '.', '.', '.'],\n",
       " ['.', '.', '.', '.', '.', '.', '.', '.', '.', '.'],\n",
       " ['.', '.', '.', '.', '.', '.', '.', '.', '.', '.'],\n",
       " ['.', '.', '.', '.', '.', '.', '.', '.', '.', '.']]"
      ]
     },
     "execution_count": 12,
     "metadata": {},
     "output_type": "execute_result"
    }
   ],
   "source": [
    "tablero = []\n",
    "\n",
    "for i in range(tamaño_tablero):\n",
    "    tablero.append(linea.copy())\n",
    "tablero"
   ]
  },
  {
   "cell_type": "code",
   "execution_count": 13,
   "metadata": {},
   "outputs": [
    {
     "data": {
      "text/plain": [
       "[['.', '.', '.', '.', '.', '.', '.', '.', '.', '.'],\n",
       " ['.', '.', '.', '.', '.', '.', '.', '.', '.', '.'],\n",
       " ['.', '.', '.', '.', '.', '.', '.', '.', '.', '.'],\n",
       " ['.', '.', '.', '.', '.', '.', '.', '.', '.', '.'],\n",
       " ['.', '.', '.', '.', '.', '.', '.', '.', '.', '.'],\n",
       " ['.', '.', '.', '.', '.', '.', '.', '.', '.', '.'],\n",
       " ['.', '.', '.', '.', '.', '.', '.', '.', '.', '.'],\n",
       " ['.', '.', '.', '.', '.', '.', '.', '.', '.', '.'],\n",
       " ['.', '.', '.', '.', '.', '.', '.', '.', '.', '.'],\n",
       " ['.', '.', '.', '.', '.', '.', '.', '.', '.', '.']]"
      ]
     },
     "execution_count": 13,
     "metadata": {},
     "output_type": "execute_result"
    }
   ],
   "source": [
    "# Función crear un tablero vacío\n",
    "\n",
    "linea = []\n",
    "tablero = []\n",
    "\n",
    "for i in range(tamaño_tablero):\n",
    "    linea.append(\".\")\n",
    "for i in range(tamaño_tablero):\n",
    "    tablero.append(linea.copy())\n",
    "tablero"
   ]
  },
  {
   "cell_type": "code",
   "execution_count": 14,
   "metadata": {},
   "outputs": [],
   "source": [
    "# Función de disparar\n",
    "\n",
    "def disparo(fila,columna):\n",
    "    acertado = False\n",
    "    if tablero[fila][columna] == 'B':\n",
    "        acertado = True\n",
    "        tablero[fila][columna] = 'X'\n",
    "        print('Tocado')\n",
    "    else:\n",
    "        print('Agua')\n",
    "    return acertado\n"
   ]
  },
  {
   "cell_type": "code",
   "execution_count": 15,
   "metadata": {},
   "outputs": [
    {
     "name": "stdout",
     "output_type": "stream",
     "text": [
      "Agua\n"
     ]
    }
   ],
   "source": [
    "# Función de juega usuario\n",
    "# Turno jugador\n",
    "\n",
    "def juega_usuario():\n",
    "    while True:\n",
    "        coordenada_fila = int(input('Introduce la primera coordenada'))\n",
    "        coordenada_columna = int(input('Introduce ahora la segunda coordenada'))\n",
    "\n",
    "        resultado = disparo(coordenada_fila,coordenada_columna)\n",
    "        if resultado == False:\n",
    "            break\n",
    "juega_usuario()"
   ]
  },
  {
   "cell_type": "code",
   "execution_count": 16,
   "metadata": {},
   "outputs": [
    {
     "name": "stdout",
     "output_type": "stream",
     "text": [
      "Agua\n"
     ]
    }
   ],
   "source": [
    "# Función de juega ordenador\n",
    "# Turno del computer\n",
    "import random\n",
    "\n",
    "def juega_computer():\n",
    "    while True:\n",
    "        coordenada_fila = random.randint(1,9)\n",
    "        coordenada_columna = random.randint(1,9)\n",
    "    \n",
    "        resultado = disparo(coordenada_fila,coordenada_columna)\n",
    "        if resultado == False:\n",
    "            break\n",
    "juega_computer()"
   ]
  },
  {
   "cell_type": "code",
   "execution_count": 25,
   "metadata": {},
   "outputs": [],
   "source": [
    "# Funcion verificar posición válida\n",
    "def posicion_correcta(tablero,fila, columna,tamaño,direccion):\n",
    "\n",
    "    #Verificamos dirección arriba\n",
    "    if direccion == \"Arriba\":\n",
    "        if fila - tamaño < 0:\n",
    "            return False # El barco se sale del tablero\n",
    "         #Verificar que no haya colisiones\n",
    "        for i in range(tamaño):\n",
    "            if tablero[fila - i][columna] != \".\":\n",
    "                return False # Ya hay un barco en esa posición\n",
    "               \n",
    "    # Verificamos dirección abajo\n",
    "    elif direccion == \"Abajo\":\n",
    "        if fila + tamaño > tamaño_tablero:\n",
    "            return False # El barco se sale del tablero\n",
    "        #Verificar que no haya colisiones\n",
    "        for i in range(tamaño):\n",
    "            if tablero[fila + i][columna] != \".\":\n",
    "                return False # Ya hay un barco en esa posición\n",
    "        \n",
    "    #Verificamos dirección izquierda\n",
    "    elif direccion == \"Izquierda\":\n",
    "        if columna - tamaño < 0:\n",
    "            return False # El barco se sale del tablero\n",
    "        #Verificar que no haya colisiones\n",
    "        for i in range(tamaño):\n",
    "            if tablero[fila][columna - i] != \".\":\n",
    "                return False # Ya hay un barco en esa posición\n",
    "    \n",
    "    #Verificamos dirección derecha\n",
    "    elif direccion == \"Derecha\":\n",
    "        if columna + tamaño > tamaño_tablero:\n",
    "            return False # El barco se sale del tablero\n",
    "        #Verificar que no haya colisiones\n",
    "        for i in range(tamaño):\n",
    "            if tablero[fila][columna + i] != \".\":\n",
    "                return False # Ya hay un barco en esa posición\n",
    "    \n",
    "   \n",
    "\n",
    "        \n",
    "\n"
   ]
  },
  {
   "cell_type": "code",
   "execution_count": 26,
   "metadata": {},
   "outputs": [],
   "source": [
    "# Función para colocar barcos en el talero\n",
    "def colocar_barco(tablero,fila,columna,tamaño,direccion):\n",
    "    if direccion ==\"Arriba\":\n",
    "        for i in range(tamaño):\n",
    "            tablero[fila - i][columna]=\"B\"\n",
    "    elif direccion == \"Abajo\":\n",
    "        for i in range(tamaño):\n",
    "            tablero[fila + i][columna]= \"B\"\n",
    "    elif direccion == \"Izquierda\":\n",
    "        for i in range(tamaño):\n",
    "            tablero[fila][columna - i]= \"B\"\n",
    "    elif direccion == \"Derecha\":\n",
    "        for i in range(tamaño):\n",
    "            tablero[fila][columna + i]= \"B\"\n",
    "\n",
    "colocar_barco(tablero, 5, 5, 2, \"Arriba\")\n"
   ]
  },
  {
   "cell_type": "code",
   "execution_count": 27,
   "metadata": {},
   "outputs": [
    {
     "data": {
      "text/plain": [
       "[['.', '.', '.', '.', '.', '.', '.', '.', '.', '.'],\n",
       " ['.', '.', '.', '.', '.', '.', '.', '.', '.', '.'],\n",
       " ['.', '.', '.', '.', '.', '.', '.', '.', '.', '.'],\n",
       " ['.', '.', '.', '.', '.', '.', '.', '.', '.', '.'],\n",
       " ['.', '.', '.', '.', '.', 'B', 'B', '.', '.', '.'],\n",
       " ['.', '.', '.', '.', '.', 'B', '.', '.', '.', '.'],\n",
       " ['.', '.', '.', '.', '.', '.', '.', '.', '.', '.'],\n",
       " ['.', '.', '.', '.', '.', '.', '.', '.', '.', '.'],\n",
       " ['.', '.', '.', '.', '.', '.', '.', '.', '.', '.'],\n",
       " ['.', '.', '.', '.', '.', '.', '.', '.', '.', '.']]"
      ]
     },
     "execution_count": 27,
     "metadata": {},
     "output_type": "execute_result"
    }
   ],
   "source": [
    "tablero"
   ]
  },
  {
   "cell_type": "code",
   "execution_count": 29,
   "metadata": {},
   "outputs": [
    {
     "data": {
      "text/plain": [
       "[['.', '.', '.', '.', '.', '.', '.', '.', '.', '.'],\n",
       " ['.', '.', '.', '.', '.', '.', '.', '.', '.', '.'],\n",
       " ['.', '.', '.', '.', '.', '.', '.', '.', '.', '.'],\n",
       " ['.', '.', '.', '.', '.', '.', '.', '.', '.', '.'],\n",
       " ['.', '.', '.', '.', '.', 'B', 'B', '.', '.', '.'],\n",
       " ['.', '.', '.', '.', '.', 'B', '.', '.', '.', '.'],\n",
       " ['.', '.', '.', '.', '.', '.', '.', '.', '.', '.'],\n",
       " ['.', '.', '.', '.', '.', '.', '.', '.', '.', '.'],\n",
       " ['.', '.', '.', '.', '.', '.', '.', '.', '.', '.'],\n",
       " ['.', '.', '.', '.', '.', '.', '.', '.', '.', '.']]"
      ]
     },
     "execution_count": 29,
     "metadata": {},
     "output_type": "execute_result"
    }
   ],
   "source": [
    "posicion_correcta(tablero,4,5,2,\"Derecha\")\n",
    "tablero"
   ]
  },
  {
   "cell_type": "code",
   "execution_count": null,
   "metadata": {},
   "outputs": [],
   "source": []
  }
 ],
 "metadata": {
  "kernelspec": {
   "display_name": "Python 3",
   "language": "python",
   "name": "python3"
  },
  "language_info": {
   "codemirror_mode": {
    "name": "ipython",
    "version": 3
   },
   "file_extension": ".py",
   "mimetype": "text/x-python",
   "name": "python",
   "nbconvert_exporter": "python",
   "pygments_lexer": "ipython3",
   "version": "3.9.6"
  }
 },
 "nbformat": 4,
 "nbformat_minor": 2
}
