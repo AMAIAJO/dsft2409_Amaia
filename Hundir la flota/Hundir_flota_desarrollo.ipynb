{
 "cells": [
  {
   "cell_type": "code",
   "execution_count": 101,
   "metadata": {},
   "outputs": [
    {
     "data": {
      "text/plain": [
       "(['Barco1', 1], ['Barco2', 2], ['Barco3', 3], ['Barco4', 4])"
      ]
     },
     "execution_count": 101,
     "metadata": {},
     "output_type": "execute_result"
    }
   ],
   "source": [
    "# Defino las CONSTANTES\n",
    "\n",
    "tamaño_tablero = 10\n",
    "\n",
    "# Defino los barcos como constantes ->una lista de listas donde especifico el nombre de los barcos, y la eslora de cada uno. \n",
    "# Luego ya los colocarás en el tablero.\n",
    "flota = [\"Barco1\",1] , [\"Barco2\", 2] , [\"Barco3\",3] , [\"Barco4\",4] \n",
    "flota"
   ]
  },
  {
   "cell_type": "code",
   "execution_count": null,
   "metadata": {},
   "outputs": [],
   "source": []
  },
  {
   "cell_type": "code",
   "execution_count": 95,
   "metadata": {},
   "outputs": [
    {
     "data": {
      "text/plain": [
       "['.', '.', '.', '.', '.', '.', '.', '.', '.', '.']"
      ]
     },
     "execution_count": 95,
     "metadata": {},
     "output_type": "execute_result"
    }
   ],
   "source": [
    "#Construyo tablero vacío\n",
    "\n",
    "linea1 = []\n",
    "\n",
    "for i in range(tamaño_tablero):\n",
    "    linea1.append(\".\")\n",
    "linea1"
   ]
  },
  {
   "cell_type": "code",
   "execution_count": 102,
   "metadata": {},
   "outputs": [
    {
     "data": {
      "text/plain": [
       "[['.', '.', '.', '.', '.', '.', '.', '.', '.', '.'],\n",
       " ['.', '.', '.', '.', '.', '.', '.', '.', '.', '.'],\n",
       " ['.', '.', '.', '.', '.', '.', '.', '.', '.', '.'],\n",
       " ['.', '.', '.', '.', '.', '.', '.', '.', '.', '.'],\n",
       " ['.', '.', '.', '.', '.', '.', '.', '.', '.', '.'],\n",
       " ['.', '.', '.', '.', '.', '.', '.', '.', '.', '.'],\n",
       " ['.', '.', '.', '.', '.', '.', '.', '.', '.', '.'],\n",
       " ['.', '.', '.', '.', '.', '.', '.', '.', '.', '.'],\n",
       " ['.', '.', '.', '.', '.', '.', '.', '.', '.', '.'],\n",
       " ['.', '.', '.', '.', '.', '.', '.', '.', '.', '.']]"
      ]
     },
     "execution_count": 102,
     "metadata": {},
     "output_type": "execute_result"
    }
   ],
   "source": [
    "tablero_computer = []\n",
    "\n",
    "for i in range(tamaño_tablero):\n",
    "    tablero_computer.append(linea1.copy())\n",
    "tablero_computer\n"
   ]
  },
  {
   "cell_type": "code",
   "execution_count": 103,
   "metadata": {},
   "outputs": [
    {
     "data": {
      "text/plain": [
       "[['.', '.', '.', '.', '.', '.', '.', '.', '.', '.'],\n",
       " ['.', '.', '.', '.', '.', '.', '.', '.', '.', '.'],\n",
       " ['.', '.', '.', '.', '.', '.', '.', '.', '.', '.'],\n",
       " ['.', '.', '.', '.', '.', '.', '.', '.', '.', '.'],\n",
       " ['.', '.', '.', '.', '.', '.', '.', '.', '.', '.'],\n",
       " ['.', '.', '.', '.', '.', '.', '.', '.', '.', '.'],\n",
       " ['.', '.', '.', '.', '.', '.', '.', '.', '.', '.'],\n",
       " ['.', '.', '.', '.', '.', '.', '.', '.', '.', '.'],\n",
       " ['.', '.', '.', '.', '.', '.', '.', '.', '.', '.'],\n",
       " ['.', '.', '.', '.', '.', '.', '.', '.', '.', '.']]"
      ]
     },
     "execution_count": 103,
     "metadata": {},
     "output_type": "execute_result"
    }
   ],
   "source": [
    "tablero_jugador = []\n",
    "\n",
    "for i in range(tamaño_tablero):\n",
    "    tablero_jugador.append(linea1.copy())\n",
    "tablero_jugador"
   ]
  },
  {
   "cell_type": "code",
   "execution_count": 98,
   "metadata": {},
   "outputs": [
    {
     "data": {
      "text/plain": [
       "[['B', '.', '.', '.', '.', '.', '.', '.', '.', '.'],\n",
       " ['.', '.', '.', '.', '.', '.', '.', '.', '.', '.'],\n",
       " ['.', '.', 'B', 'B', '.', '.', '.', '.', '.', '.'],\n",
       " ['.', '.', '.', '.', '.', '.', '.', '.', '.', '.'],\n",
       " ['.', '.', '.', '.', '.', '.', '.', '.', '.', '.'],\n",
       " ['.', '.', '.', '.', '.', '.', '.', '.', '.', '.'],\n",
       " ['.', '.', '.', '.', '.', '.', '.', '.', '.', '.'],\n",
       " ['.', '.', '.', '.', '.', '.', '.', '.', '.', '.'],\n",
       " ['.', '.', '.', '.', '.', '.', '.', '.', '.', '.'],\n",
       " ['.', '.', '.', '.', '.', '.', '.', '.', '.', '.']]"
      ]
     },
     "execution_count": 98,
     "metadata": {},
     "output_type": "execute_result"
    }
   ],
   "source": [
    "#Colocar los barcos manualmente\n",
    "\n",
    "tablero_computer[0][0] = \"B\"\n",
    "tablero_computer[2][2] = \"B\" \n",
    "tablero_computer[2][3] = \"B\"\n",
    "\n",
    "tablero_computer\n",
    "\n",
    "   "
   ]
  },
  {
   "cell_type": "code",
   "execution_count": 100,
   "metadata": {},
   "outputs": [],
   "source": [
    "# Función posicionar barcos de manera aleatoria\n",
    "import random\n",
    "\n",
    "def posicionar_barco1_1():\n",
    "        coord_fila = random.randint(1,9)\n",
    "        coord_columna = random.randint(1,9)        \n",
    "        eslora = 1\n",
    "barco1_1 = "
   ]
  },
  {
   "cell_type": "code",
   "execution_count": 26,
   "metadata": {},
   "outputs": [
    {
     "data": {
      "text/plain": [
       "[['.', '.', '.', '.', '.', '.', '.', '.', '.', '.'],\n",
       " ['.', '.', '.', '.', '.', '.', '.', '.', '.', '.'],\n",
       " ['.', '.', '.', '.', '.', '.', '.', '.', '.', '.'],\n",
       " ['.', '.', '.', '.', '.', '.', '.', '.', '.', '.'],\n",
       " ['.', '.', '.', '.', '.', '.', '.', '.', '.', '.'],\n",
       " ['.', '.', '.', '.', '.', 'B', 'B', 'B', '.', '.'],\n",
       " ['.', '.', '.', '.', '.', '.', '.', '.', '.', '.'],\n",
       " ['.', '.', '.', '.', '.', '.', '.', '.', '.', '.'],\n",
       " ['.', '.', '.', '.', '.', '.', '.', '.', '.', '.'],\n",
       " ['.', '.', '.', '.', '.', '.', '.', '.', '.', '.']]"
      ]
     },
     "execution_count": 26,
     "metadata": {},
     "output_type": "execute_result"
    }
   ],
   "source": [
    "tablero_jugador[5][5] = \"B\"\n",
    "tablero_jugador[5][6] = \"B\"\n",
    "tablero_jugador[5][7] = \"B\"\n",
    "\n",
    "tablero_jugador"
   ]
  },
  {
   "cell_type": "code",
   "execution_count": 27,
   "metadata": {},
   "outputs": [],
   "source": [
    "# Función de disparar\n",
    "\n",
    "def disparo_jugador(fila,columna):\n",
    "    acertado = False\n",
    "    if tablero_computer[fila][columna] == 'B':\n",
    "        acertado = True\n",
    "        tablero_computer[fila][columna] = 'X'\n",
    "        print('Tocado')\n",
    "    else:\n",
    "        print('Agua')\n",
    "    return acertado\n",
    "\n",
    "def disparo_computer(fila,columna):\n",
    "    acertado = False\n",
    "    if tablero_jugador[fila][columna] == 'B':\n",
    "        acertado = True\n",
    "        tablero_jugador[fila][columna] = 'X'\n",
    "        print('Tocado')\n",
    "    else:\n",
    "        print('Agua')\n",
    "    return acertado"
   ]
  },
  {
   "cell_type": "code",
   "execution_count": 28,
   "metadata": {},
   "outputs": [
    {
     "name": "stdout",
     "output_type": "stream",
     "text": [
      "Tocado\n",
      "Agua\n"
     ]
    }
   ],
   "source": [
    "# Función de juega usuario\n",
    "# Turno jugador\n",
    "\n",
    "def juega_usuario():\n",
    "    while True:\n",
    "        coordenada_fila = int(input('Introduce la primera coordenada'))\n",
    "        coordenada_columna = int(input('Introduce ahora la segunda coordenada'))\n",
    "\n",
    "        resultado = disparo_jugador(coordenada_fila,coordenada_columna)\n",
    "        if resultado == False:\n",
    "            break\n",
    "juega_usuario()\n"
   ]
  },
  {
   "cell_type": "code",
   "execution_count": 89,
   "metadata": {},
   "outputs": [
    {
     "name": "stdout",
     "output_type": "stream",
     "text": [
      "Agua\n"
     ]
    }
   ],
   "source": [
    "# Función de juega ordenador\n",
    "# Turno del computer\n",
    "import random\n",
    "\n",
    "def juega_computer():\n",
    "    while True:\n",
    "        coordenada_fila = random.randint(1,9)\n",
    "        coordenada_columna = random.randint(1,9)\n",
    "    \n",
    "        resultado = disparo_computer(coordenada_fila,coordenada_columna)\n",
    "        if resultado == False:\n",
    "            break\n",
    "juega_computer()"
   ]
  },
  {
   "cell_type": "code",
   "execution_count": null,
   "metadata": {},
   "outputs": [],
   "source": []
  },
  {
   "cell_type": "code",
   "execution_count": 105,
   "metadata": {},
   "outputs": [
    {
     "data": {
      "text/plain": [
       "[]"
      ]
     },
     "execution_count": 105,
     "metadata": {},
     "output_type": "execute_result"
    }
   ],
   "source": [
    "# Función crear tableros\n",
    "linea1 = []\n",
    "tablero = []\n",
    "\n",
    "def crear_tablero():\n",
    "    for i in range(tamaño_tablero):\n",
    "        tablero.append(linea1.copy())\n",
    "    return tablero\n",
    "\n",
    "    \n",
    "tablero"
   ]
  },
  {
   "cell_type": "code",
   "execution_count": null,
   "metadata": {},
   "outputs": [],
   "source": [
    "\n",
    "\n"
   ]
  },
  {
   "cell_type": "code",
   "execution_count": 91,
   "metadata": {},
   "outputs": [
    {
     "name": "stdout",
     "output_type": "stream",
     "text": [
      "5\n"
     ]
    }
   ],
   "source": [
    "# Importamos función randint() para generar los valores aleatorios de las coordenadas de los barcos a posicionar:\n",
    "\n",
    "import random\n",
    "\n",
    "num_aleatorio = random.randint(1,9)\n",
    "print(num_aleatorio)\n",
    "\n"
   ]
  },
  {
   "cell_type": "code",
   "execution_count": 92,
   "metadata": {},
   "outputs": [],
   "source": [
    "coordenada_fila = random.randint(1,9)\n",
    "coordenada_columna = random.randint(1,9)\n"
   ]
  },
  {
   "cell_type": "code",
   "execution_count": null,
   "metadata": {},
   "outputs": [],
   "source": []
  },
  {
   "cell_type": "code",
   "execution_count": null,
   "metadata": {},
   "outputs": [],
   "source": []
  },
  {
   "cell_type": "code",
   "execution_count": null,
   "metadata": {},
   "outputs": [],
   "source": []
  },
  {
   "cell_type": "code",
   "execution_count": null,
   "metadata": {},
   "outputs": [],
   "source": [
    "for i in range(10):\n",
    "    for j in range(10):\n",
    "        if tablero[i][j]== \"B\":\n",
    "            print(f'Tocado en las coordenadas ([i],[j])')"
   ]
  }
 ],
 "metadata": {
  "kernelspec": {
   "display_name": "Python 3",
   "language": "python",
   "name": "python3"
  },
  "language_info": {
   "codemirror_mode": {
    "name": "ipython",
    "version": 3
   },
   "file_extension": ".py",
   "mimetype": "text/x-python",
   "name": "python",
   "nbconvert_exporter": "python",
   "pygments_lexer": "ipython3",
   "version": "3.9.6"
  }
 },
 "nbformat": 4,
 "nbformat_minor": 2
}
